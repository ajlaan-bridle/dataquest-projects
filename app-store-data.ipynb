{
 "cells": [
  {
   "cell_type": "markdown",
   "metadata": {},
   "source": [
    "# Understanding the Profitability of Free iOS and Android Apps\n",
    "\n",
    "## Introduction\n",
    "\n",
    "A fictional company produces iOS and Android apps for English-speaking audiences. These apps are free to customers to download and install, so revenue is generated through in-app advertisements; apps with more users therefore generate more revenue. The purpose of this study is to understand the types of apps that are likely to attract more users, to guide future development efforts.\n",
    "\n",
    "### Data Source\n",
    "\n",
    "[Apple Store data](https://www.kaggle.com/ramamet4/app-store-apple-data-set-10k-apps)\n",
    "\n",
    "[Google Play Store data](https://www.kaggle.com/lava18/google-play-store-apps)"
   ]
  },
  {
   "cell_type": "markdown",
   "metadata": {},
   "source": [
    "### Functions for Importing and Exploring Data"
   ]
  },
  {
   "cell_type": "code",
   "execution_count": 1,
   "metadata": {},
   "outputs": [],
   "source": [
    "# reader from csv module required to read CSV files\n",
    "from csv import reader\n",
    "# This function produces a list of data read in from a CSV file\n",
    "# If it contains header data, then the header data is output separately\n",
    "def openCSV(file, header=True):\n",
    "    with open(file) as f:\n",
    "        readf = reader(f)\n",
    "        readf = list(readf)\n",
    "    if header:\n",
    "        return [readf[0],readf[1:]]\n",
    "    else:\n",
    "        return readf\n",
    "\n",
    "def explore_data(dataset, start, end, rows_and_columns=False):\n",
    "    dataset_slice = dataset[start:end]    \n",
    "    for row in dataset_slice:\n",
    "        print(row)\n",
    "        print('\\n') # adds a new (empty) line after each row\n",
    "\n",
    "    if rows_and_columns:\n",
    "        print('Number of rows:', len(dataset))\n",
    "        print('Number of columns:', len(dataset[0]))\n",
    "        print('\\n') # adds a new (empty) line after each row"
   ]
  },
  {
   "cell_type": "markdown",
   "metadata": {},
   "source": [
    "### Read in source data and initial exploration\n",
    "\n",
    "Datasets produced:\n",
    "\n",
    "`iosHeader`: column header information for the iOS data\n",
    "\n",
    "`iosData`: main body of raw import of the iOS data\n",
    "\n",
    "`androidHeader`: column header information for the Android data\n",
    "\n",
    "`androidData`: main body of raw import of the Android data"
   ]
  },
  {
   "cell_type": "code",
   "execution_count": 2,
   "metadata": {},
   "outputs": [
    {
     "output_type": "stream",
     "name": "stdout",
     "text": "['id', 'track_name', 'size_bytes', 'currency', 'price', 'rating_count_tot', 'rating_count_ver', 'user_rating', 'user_rating_ver', 'ver', 'cont_rating', 'prime_genre', 'sup_devices.num', 'ipadSc_urls.num', 'lang.num', 'vpp_lic'] \n\n['284882215', 'Facebook', '389879808', 'USD', '0.0', '2974676', '212', '3.5', '3.5', '95.0', '4+', 'Social Networking', '37', '1', '29', '1']\n\n\n['389801252', 'Instagram', '113954816', 'USD', '0.0', '2161558', '1289', '4.5', '4.0', '10.23', '12+', 'Photo & Video', '37', '0', '29', '1']\n\n\n['529479190', 'Clash of Clans', '116476928', 'USD', '0.0', '2130805', '579', '4.5', '4.5', '9.24.12', '9+', 'Games', '38', '5', '18', '1']\n\n\nNumber of rows: 7197\nNumber of columns: 16\n\n\n['App', 'Category', 'Rating', 'Reviews', 'Size', 'Installs', 'Type', 'Price', 'Content Rating', 'Genres', 'Last Updated', 'Current Ver', 'Android Ver'] \n\n['Photo Editor & Candy Camera & Grid & ScrapBook', 'ART_AND_DESIGN', '4.1', '159', '19M', '10,000+', 'Free', '0', 'Everyone', 'Art & Design', 'January 7, 2018', '1.0.0', '4.0.3 and up']\n\n\n['Coloring book moana', 'ART_AND_DESIGN', '3.9', '967', '14M', '500,000+', 'Free', '0', 'Everyone', 'Art & Design;Pretend Play', 'January 15, 2018', '2.0.0', '4.0.3 and up']\n\n\n['U Launcher Lite – FREE Live Cool Themes, Hide Apps', 'ART_AND_DESIGN', '4.7', '87510', '8.7M', '5,000,000+', 'Free', '0', 'Everyone', 'Art & Design', 'August 1, 2018', '1.2.4', '4.0.3 and up']\n\n\nNumber of rows: 10841\nNumber of columns: 13\n\n\n"
    }
   ],
   "source": [
    "# read in iOS and Android data\n",
    "[iosHeader, iosData] = openCSV('./AppleStore.csv')\n",
    "[androidHeader, androidData] = openCSV('./googleplaystore.csv')\n",
    "\n",
    "print(iosHeader, '\\n')\n",
    "explore_data(iosData,0,3,True)\n",
    "print(androidHeader, '\\n')\n",
    "explore_data(androidData,0,3,True)"
   ]
  },
  {
   "cell_type": "markdown",
   "metadata": {},
   "source": [
    "Based on a brief exploration of each dataset, perhaps the following columns would be of use for this assessment:\n",
    "\n",
    "| iOS Column Name   | Android Column Name   | Description           |\n",
    "| :---              | :---                  | :---                  |\n",
    "| 'user_rating_ver' | 'Rating'              | Overall app rating    |\n",
    "| *N/A*             | 'Installs'            | Number of downloads   |\n",
    "| 'cont_rating'     | 'Content Rating'      | Age restriction       |\n",
    "| 'prime_genre'     | 'Genres'              | Genre                 |"
   ]
  },
  {
   "cell_type": "markdown",
   "metadata": {},
   "source": [
    "## Data Cleaning\n",
    "\n",
    "### Erroneous entry in the Android Data\n",
    "\n",
    "The discussion board for the Android dataset highlighted an error with row 10472 ([see specific discussion](https://www.kaggle.com/lava18/google-play-store-apps/discussion/66015)). This row is highlighted against the column headers and the neighbouring rows; a column entry is missing, so to prevent this causing errors in subsequent data processing, it is deleted."
   ]
  },
  {
   "cell_type": "code",
   "execution_count": 3,
   "metadata": {},
   "outputs": [
    {
     "output_type": "stream",
     "name": "stdout",
     "text": "['App', 'Category', 'Rating', 'Reviews', 'Size', 'Installs', 'Type', 'Price', 'Content Rating', 'Genres', 'Last Updated', 'Current Ver', 'Android Ver'] \n\n['Xposed Wi-Fi-Pwd', 'PERSONALIZATION', '3.5', '1042', '404k', '100,000+', 'Free', '0', 'Everyone', 'Personalization', 'August 5, 2014', '3.0.0', '4.0.3 and up']\n\n\n['Life Made WI-Fi Touchscreen Photo Frame', '1.9', '19', '3.0M', '1,000+', 'Free', '0', 'Everyone', '', 'February 11, 2018', '1.0.19', '4.0 and up']\n\n\n['osmino Wi-Fi: free WiFi', 'TOOLS', '4.2', '134203', '4.1M', '10,000,000+', 'Free', '0', 'Everyone', 'Tools', 'August 7, 2018', '6.06.14', '4.4 and up']\n\n\n"
    }
   ],
   "source": [
    "print(androidHeader, '\\n') # print column names from header\n",
    "explore_data(androidData,10471,10474) # print rows 10471-10473 inclusive"
   ]
  },
  {
   "cell_type": "code",
   "execution_count": 4,
   "metadata": {},
   "outputs": [
    {
     "output_type": "stream",
     "name": "stdout",
     "text": "['App', 'Category', 'Rating', 'Reviews', 'Size', 'Installs', 'Type', 'Price', 'Content Rating', 'Genres', 'Last Updated', 'Current Ver', 'Android Ver'] \n\n['Xposed Wi-Fi-Pwd', 'PERSONALIZATION', '3.5', '1042', '404k', '100,000+', 'Free', '0', 'Everyone', 'Personalization', 'August 5, 2014', '3.0.0', '4.0.3 and up']\n\n\n['osmino Wi-Fi: free WiFi', 'TOOLS', '4.2', '134203', '4.1M', '10,000,000+', 'Free', '0', 'Everyone', 'Tools', 'August 7, 2018', '6.06.14', '4.4 and up']\n\n\n"
    }
   ],
   "source": [
    "del androidData[10472] # delete the erroneous row\n",
    "# print small selection of rows again to confirm deletion\n",
    "print(androidHeader, '\\n')\n",
    "explore_data(androidData,10471,10473)"
   ]
  },
  {
   "cell_type": "markdown",
   "metadata": {},
   "source": [
    "### Duplicate Entries\n",
    "\n",
    "This section scans through the two datasets to identify and remove duplicate entries. For example, Netflix has 5 duplicate entries in the Android dataset. There are a total of 1181 duplicate entries across all Android apps in the dataset. The iOS dataset only has 2 duplicate entries. Duplicates won't be removed randomly, but rather the entry with the largest number of reviews will be kept, on the basis that these entries have the most recent data."
   ]
  },
  {
   "cell_type": "code",
   "execution_count": 5,
   "metadata": {},
   "outputs": [
    {
     "output_type": "stream",
     "name": "stdout",
     "text": "['Netflix', 'ENTERTAINMENT', '4.4', '5456208', 'Varies with device', '100,000,000+', 'Free', '0', 'Teen', 'Entertainment', 'July 31, 2018', 'Varies with device', 'Varies with device']\n['Netflix', 'ENTERTAINMENT', '4.4', '5456208', 'Varies with device', '100,000,000+', 'Free', '0', 'Teen', 'Entertainment', 'July 31, 2018', 'Varies with device', 'Varies with device']\n['Netflix', 'ENTERTAINMENT', '4.4', '5456599', 'Varies with device', '100,000,000+', 'Free', '0', 'Teen', 'Entertainment', 'July 31, 2018', 'Varies with device', 'Varies with device']\n['Netflix', 'ENTERTAINMENT', '4.4', '5456708', 'Varies with device', '100,000,000+', 'Free', '0', 'Teen', 'Entertainment', 'July 31, 2018', 'Varies with device', 'Varies with device']\n['Netflix', 'FAMILY', '4.4', '5453997', 'Varies with device', '100,000,000+', 'Free', '0', 'Teen', 'Entertainment', 'July 31, 2018', 'Varies with device', 'Varies with device']\n\nNumber of duplicate IOS entries:  2\nNumber of unique IOS entries:  7195\n\nNumber of duplicate Android entries:  1181\nNumber of unique Android entries:  9659\n"
    }
   ],
   "source": [
    "## just some exploratory code to find apps with quite a few repetitions\n",
    "# appNamesAndroid = {}\n",
    "# for row in androidData:\n",
    "#     name = row[0] # app name is in first column in android data\n",
    "#     if name in appNamesAndroid:\n",
    "#         appNamesAndroid[name] += 1\n",
    "#     else:\n",
    "#         appNamesAndroid[name] = 1\n",
    "\n",
    "# for item in appNamesAndroid.items():\n",
    "#     if item[1] > 3:\n",
    "#         print(item[0])\n",
    "\n",
    "# define const string for Netflix (used a few times)\n",
    "netflix = 'Netflix'\n",
    "# print all the duplicate entries of Netflix\n",
    "for row in androidData:\n",
    "    if row[0] == netflix:\n",
    "        print(row)\n",
    "\n",
    "dupNamesIOS = []\n",
    "uniqueNamesIOS = []\n",
    "for row in iosData:\n",
    "    name = row[1] # app name is in first column of ios data\n",
    "    if name in uniqueNamesIOS:\n",
    "        dupNamesIOS.append(name)\n",
    "    else:\n",
    "        uniqueNamesIOS.append(name)\n",
    "\n",
    "print('\\nNumber of duplicate IOS entries: ', len(dupNamesIOS))\n",
    "print('Number of unique IOS entries: ', len(uniqueNamesIOS))\n",
    "\n",
    "dupNamesAndroid = []\n",
    "uniqueNamesAndroid = []\n",
    "for row in androidData:\n",
    "    name = row[0] # app name is in first column of android data\n",
    "    if name in uniqueNamesAndroid:\n",
    "        dupNamesAndroid.append(name)\n",
    "    else:\n",
    "        uniqueNamesAndroid.append(name)\n",
    "\n",
    "print('\\nNumber of duplicate Android entries: ', len(dupNamesAndroid))\n",
    "print('Number of unique Android entries: ', len(uniqueNamesAndroid))"
   ]
  },
  {
   "cell_type": "markdown",
   "metadata": {},
   "source": [
    "#### Filtering Out Duplicates\n",
    "\n",
    "The duplicates are filtered out by keeping the single entry per app that has the highest number of reviews.\n",
    "\n",
    "Step 1: loop through the android dataset to create a dictionary for each app to map each unique name with the highest number of reviews that app has in the dataset. The number of unique apps is known from the previous section, so the length of this dictionary is used as a check; it should match 9659 unique app names. Having inspected the duplicate entries for Netflix, this item is also specifically called out to check that it has the expected max number of reviews (5456708).\n",
    "\n",
    "Step 2: loop through the android dataset to produce a clean set of data (i.e. no duplicates) using the dictionary from Step 1. The code here adds to the clean list only if the app has not already been entered and the number of reviews matches the number from the dictionary. It is possible that there are duplicates entries with the same max number of reviews, so the code ensures in addition that these duplicates do not sneak in. Again the length of the clean set of data (`android_clean`) is checked to see if it matches the known number of unique app names (9659). Also, any rows for Netflix can be pulled out for a spot check to ensure there is only one instance of Netflix and that the number of reviews matches the expected max (5456708).\n",
    "\n",
    "Datasets produced:\n",
    "\n",
    "`android_clean`: androidData with duplicate entries removed\n",
    "\n",
    "`ios_clean`: iosData with duplicate entries removed"
   ]
  },
  {
   "cell_type": "code",
   "execution_count": 6,
   "metadata": {},
   "outputs": [
    {
     "output_type": "stream",
     "name": "stdout",
     "text": "Check length of reviews_max is as expected (9659):  9659\nCheck if Netflix entry is as expected (5456708):  5456708.0 \n\nCheck length of android_clean is as expected (i.e. 9659):  9659 \n\n['App', 'Category', 'Rating', 'Reviews', 'Size', 'Installs', 'Type', 'Price', 'Content Rating', 'Genres', 'Last Updated', 'Current Ver', 'Android Ver'] \n\n['Photo Editor & Candy Camera & Grid & ScrapBook', 'ART_AND_DESIGN', '4.1', '159', '19M', '10,000+', 'Free', '0', 'Everyone', 'Art & Design', 'January 7, 2018', '1.0.0', '4.0.3 and up']\n\n\n['U Launcher Lite – FREE Live Cool Themes, Hide Apps', 'ART_AND_DESIGN', '4.7', '87510', '8.7M', '5,000,000+', 'Free', '0', 'Everyone', 'Art & Design', 'August 1, 2018', '1.2.4', '4.0.3 and up']\n\n\n['Sketch - Draw & Paint', 'ART_AND_DESIGN', '4.5', '215644', '25M', '50,000,000+', 'Free', '0', 'Teen', 'Art & Design', 'June 8, 2018', 'Varies with device', '4.2 and up']\n\n\n['Netflix', 'ENTERTAINMENT', '4.4', '5456708', 'Varies with device', '100,000,000+', 'Free', '0', 'Teen', 'Entertainment', 'July 31, 2018', 'Varies with device', 'Varies with device']\nMannequin Challenge :  668\nVR Roller Coaster :  107\n"
    }
   ],
   "source": [
    "## Step 1\n",
    "# create dictionary mapping unique app names with respective max number of reviews, where duplicates exist\n",
    "reviews_max = {}\n",
    "for row in androidData:\n",
    "    name = row[0] # app name is in first column of android data\n",
    "    n_reviews = float(row[3]) # number of reviews is in the fourth column of android data\n",
    "    if name not in reviews_max:\n",
    "        reviews_max[name] = n_reviews # if the app name does not exist, add it\n",
    "    elif name in reviews_max and n_reviews > reviews_max[name]:\n",
    "        reviews_max[name] = n_reviews # if a duplicate is found with more reviews, update the entry\n",
    "# a couple of checks\n",
    "print('Check length of reviews_max is as expected (9659): ', len(reviews_max))\n",
    "print('Check if Netflix entry is as expected (5456708): ', reviews_max[netflix], '\\n')\n",
    "\n",
    "## Step 2\n",
    "# create a clean list with only one row per unique app name\n",
    "# ensures the entry added is the one with the max number of reviews from reviews_max\n",
    "android_clean = []\n",
    "already_added = []\n",
    "for row in androidData:\n",
    "    name = row[0]\n",
    "    n_reviews = float(row[3])\n",
    "    if name not in already_added and reviews_max[name] == n_reviews:\n",
    "        android_clean.append(row)\n",
    "        already_added.append(name) # prevents duplicates with the same name AND number of reviews\n",
    "# a few checks follow\n",
    "print('Check length of android_clean is as expected (i.e. 9659): ', len(android_clean), '\\n')\n",
    "\n",
    "print(androidHeader, '\\n')\n",
    "explore_data(android_clean, 0, 3)\n",
    "\n",
    "for row in android_clean:\n",
    "    name = row[0]\n",
    "    if name == netflix:\n",
    "        print(row)\n",
    "\n",
    "## Step 2b - remove two duplicates from iosData\n",
    "# Rows 4831 (VR Roller Coaster) and 4463 (Mannequin Challenge) to be removed\n",
    "ios_clean = iosData\n",
    "del ios_clean[4831]\n",
    "del ios_clean[4463]\n",
    "# quick check\n",
    "for row in ios_clean:\n",
    "    name = row[1]\n",
    "    if name == 'Mannequin Challenge' or name == 'VR Roller Coaster':\n",
    "        print(name, ': ', row[5])"
   ]
  },
  {
   "cell_type": "markdown",
   "metadata": {},
   "source": [
    "### Filtering out Non-English App Entries\n",
    "\n",
    "This company produces apps for an English-speaking audience, so data relating to apps that are not marketed to English-speaking audiences are not relevant for the scope of this investigation. The following code is designed to identify app entries that are most likely marketed at an English-speaking audience, by interrogating the app names. Common English characters are in the ASCII number range 0-127; if there are any characters in an app name outside this range, then is is possible that the app is non-English. However, it is not uncommon for an English app to contain the odd character outside the common ASCII range (e.g. TM or an emoji). To keep this step simple, the code arbitrarily determines that an app is non-English if the name contains more than 3 characters outside the 0-127 ASCII range.\n",
    "\n",
    "Datasets produced:\n",
    "\n",
    "`android_clean_english`: android_clean with non-English app entries filtered out\n",
    "\n",
    "`ios_clean_english`: ios_clean with non-English app entries filtered out"
   ]
  },
  {
   "cell_type": "code",
   "execution_count": 7,
   "metadata": {},
   "outputs": [
    {
     "output_type": "stream",
     "name": "stdout",
     "text": "True\nFalse\nTrue\nTrue\n"
    }
   ],
   "source": [
    "# function to check if a string contains characters not found in common English\n",
    "# common English characters here means ASCII values between 0 - 127\n",
    "# some English apps do contain non common characters\n",
    "# assume greater than 3 non common characters means it can be neglected\n",
    "def check_english(phrase):\n",
    "    count = 0\n",
    "    for char in phrase:\n",
    "        if ord(char) > 127:\n",
    "            count += 1\n",
    "            if count > 3:\n",
    "                return False\n",
    "    return True\n",
    "# test function\n",
    "test_names = ['Instagram', '爱奇艺PPS -《欢乐颂2》电视剧热播', 'Docs To Go™ Free Office Suite', 'Instachat 😜']\n",
    "for name in test_names:\n",
    "    print(check_english(name))\n",
    "\n",
    "# create ios and android lists without non-english apps, as determined by the above function\n",
    "android_clean_english = []\n",
    "for row in android_clean:\n",
    "    name = row[0]\n",
    "    if check_english(name):\n",
    "        android_clean_english.append(row)\n",
    "\n",
    "ios_clean_english = []\n",
    "for row in ios_clean:\n",
    "    name = row[1]\n",
    "    if check_english(name):\n",
    "        ios_clean_english.append(row)"
   ]
  },
  {
   "cell_type": "markdown",
   "metadata": {},
   "source": [
    "### Filtering Out Paid-for Apps\n",
    "\n",
    "The last step of data cleaning is the removal of paid-for apps in the datasets, bearing in mind that the scope of this investigation is to understand the profitability of free apps."
   ]
  },
  {
   "cell_type": "code",
   "execution_count": 8,
   "metadata": {},
   "outputs": [
    {
     "output_type": "stream",
     "name": "stdout",
     "text": "8863\n3220\n"
    }
   ],
   "source": [
    "# remove paid-for apps\n",
    "# price is index 4 in ios data and index 7 in android data\n",
    "# expected length of free app ios data is roughly 50% of 6181\n",
    "# expected length of free app android data is roughly 90% of 9614\n",
    "\n",
    "android_clean_eng_free = []\n",
    "for row in android_clean_english:\n",
    "    free_or_paid = row[6]\n",
    "    if free_or_paid == 'Free':\n",
    "        android_clean_eng_free.append(row)\n",
    "print(len(android_clean_eng_free))\n",
    "\n",
    "ios_clean_eng_free = []\n",
    "for row in ios_clean_english:\n",
    "    price = float(row[4])\n",
    "    if price == 0:\n",
    "        ios_clean_eng_free.append(row)\n",
    "print(len(ios_clean_eng_free))"
   ]
  },
  {
   "cell_type": "markdown",
   "metadata": {},
   "source": [
    "## Data Analysis\n",
    "\n",
    "To minimise risks and overheads, the high level strategy for validating a new app idea is as follows:\n",
    "1. Develop a minimal Android version and add it to the Play Store\n",
    "2. Develop the app further if it has a good response from users\n",
    "3. If after 6 months the app is profitable an iOS version is built and added to the App Store\n",
    "\n",
    "Since the end goal is to produce an app in both markets, it is pertinent to get some understanding of apps that are successful in both markets. Frequency tables are generated to see what the most common app genres are."
   ]
  },
  {
   "cell_type": "code",
   "execution_count": 9,
   "metadata": {},
   "outputs": [
    {
     "output_type": "stream",
     "name": "stdout",
     "text": "Android Category frequency table:-\nFAMILY : 18.9\nGAME : 9.7\nTOOLS : 8.5\nBUSINESS : 4.6\nPRODUCTIVITY : 3.9\nLIFESTYLE : 3.9\nFINANCE : 3.7\nMEDICAL : 3.5\nSPORTS : 3.4\nPERSONALIZATION : 3.3\nCOMMUNICATION : 3.2\nHEALTH_AND_FITNESS : 3.1\nPHOTOGRAPHY : 2.9\nNEWS_AND_MAGAZINES : 2.8\nSOCIAL : 2.7\nTRAVEL_AND_LOCAL : 2.3\nSHOPPING : 2.2\nBOOKS_AND_REFERENCE : 2.1\nDATING : 1.9\nVIDEO_PLAYERS : 1.8\nMAPS_AND_NAVIGATION : 1.4\nFOOD_AND_DRINK : 1.2\nEDUCATION : 1.2\nENTERTAINMENT : 1.0\nLIBRARIES_AND_DEMO : 0.9\nAUTO_AND_VEHICLES : 0.9\nWEATHER : 0.8\nHOUSE_AND_HOME : 0.8\nPARENTING : 0.7\nEVENTS : 0.7\nCOMICS : 0.6\nBEAUTY : 0.6\nART_AND_DESIGN : 0.6\n\nAndroid Genres frequency table:-\nTools : 8.5\nEntertainment : 6.1\nEducation : 5.3\nBusiness : 4.6\nProductivity : 3.9\nLifestyle : 3.9\nFinance : 3.7\nSports : 3.5\nMedical : 3.5\nPersonalization : 3.3\nCommunication : 3.2\nHealth & Fitness : 3.1\nAction : 3.1\nPhotography : 2.9\nNews & Magazines : 2.8\nSocial : 2.7\nTravel & Local : 2.3\nShopping : 2.2\nBooks & Reference : 2.1\nSimulation : 2.0\nDating : 1.9\nArcade : 1.9\nVideo Players & Editors : 1.8\nCasual : 1.8\nMaps & Navigation : 1.4\nFood & Drink : 1.2\nPuzzle : 1.1\nRacing : 1.0\nStrategy : 0.9\nRole Playing : 0.9\nLibraries & Demo : 0.9\nAuto & Vehicles : 0.9\nWeather : 0.8\nHouse & Home : 0.8\nEvents : 0.7\nAdventure : 0.7\nComics : 0.6\nBeauty : 0.6\nArt & Design : 0.6\nParenting : 0.5\nCard : 0.5\nTrivia : 0.4\nEducational;Education : 0.4\nEducational : 0.4\nCasino : 0.4\nBoard : 0.4\nWord : 0.3\nEducation;Education : 0.3\nRacing;Action & Adventure : 0.2\nPuzzle;Brain Games : 0.2\nMusic : 0.2\nEntertainment;Music & Video : 0.2\nCasual;Pretend Play : 0.2\nSimulation;Action & Adventure : 0.1\nParenting;Music & Video : 0.1\nParenting;Education : 0.1\nEntertainment;Brain Games : 0.1\nEducational;Pretend Play : 0.1\nEducational;Brain Games : 0.1\nEducation;Pretend Play : 0.1\nCasual;Creativity : 0.1\nCasual;Brain Games : 0.1\nCasual;Action & Adventure : 0.1\nBoard;Brain Games : 0.1\nArt & Design;Creativity : 0.1\nArcade;Action & Adventure : 0.1\nAction;Action & Adventure : 0.1\nVideo Players & Editors;Music & Video : 0.0\nVideo Players & Editors;Creativity : 0.0\nTrivia;Education : 0.0\nTravel & Local;Action & Adventure : 0.0\nTools;Education : 0.0\nStrategy;Education : 0.0\nStrategy;Creativity : 0.0\nStrategy;Action & Adventure : 0.0\nSports;Action & Adventure : 0.0\nSimulation;Pretend Play : 0.0\nSimulation;Education : 0.0\nRole Playing;Pretend Play : 0.0\nRole Playing;Brain Games : 0.0\nRole Playing;Action & Adventure : 0.0\nRacing;Pretend Play : 0.0\nPuzzle;Education : 0.0\nPuzzle;Creativity : 0.0\nPuzzle;Action & Adventure : 0.0\nParenting;Brain Games : 0.0\nMusic;Music & Video : 0.0\nMusic & Audio;Music & Video : 0.0\nLifestyle;Pretend Play : 0.0\nLifestyle;Education : 0.0\nHealth & Fitness;Education : 0.0\nHealth & Fitness;Action & Adventure : 0.0\nEntertainment;Pretend Play : 0.0\nEntertainment;Education : 0.0\nEntertainment;Creativity : 0.0\nEntertainment;Action & Adventure : 0.0\nEducational;Creativity : 0.0\nEducational;Action & Adventure : 0.0\nEducation;Music & Video : 0.0\nEducation;Creativity : 0.0\nEducation;Brain Games : 0.0\nEducation;Action & Adventure : 0.0\nCommunication;Creativity : 0.0\nComics;Creativity : 0.0\nCasual;Music & Video : 0.0\nCasual;Education : 0.0\nCard;Action & Adventure : 0.0\nBooks & Reference;Education : 0.0\nBoard;Action & Adventure : 0.0\nArt & Design;Pretend Play : 0.0\nArt & Design;Action & Adventure : 0.0\nArcade;Pretend Play : 0.0\nAdventure;Education : 0.0\nAdventure;Action & Adventure : 0.0\n\niOS prime_genre frequency table:-\nGames : 58.1\nEntertainment : 7.9\nPhoto & Video : 5.0\nEducation : 3.7\nSocial Networking : 3.3\nShopping : 2.6\nUtilities : 2.5\nSports : 2.1\nMusic : 2.0\nHealth & Fitness : 2.0\nProductivity : 1.7\nLifestyle : 1.6\nNews : 1.3\nTravel : 1.2\nFinance : 1.1\nWeather : 0.9\nFood & Drink : 0.8\nReference : 0.6\nBusiness : 0.5\nBook : 0.4\nNavigation : 0.2\nMedical : 0.2\nCatalogs : 0.1\n"
    }
   ],
   "source": [
    "# genres are found in column indices 1 or 9 (android) and 11 (ios)\n",
    "# produces percentage frequency table\n",
    "def freq_table(dataset, index):\n",
    "    table = {}\n",
    "    for row in dataset:\n",
    "        col = row[index]\n",
    "        if col in table:\n",
    "            table[col] += 1\n",
    "        else:\n",
    "            table[col] = 1\n",
    "    for key in table:\n",
    "        table[key] = table[key] / len(dataset) * 100 # convert to percentage\n",
    "    return table\n",
    "\n",
    "# displays a percentage frequency table, with percentages rounded to 1dp\n",
    "def display_table(dataset, index):\n",
    "    table = freq_table(dataset, index)\n",
    "    table_display = []\n",
    "    for key in table:\n",
    "        key_val_as_tuple = (round(table[key], 1), key) # note table value is rounded to 1dp\n",
    "        table_display.append(key_val_as_tuple)\n",
    "\n",
    "    table_sorted = sorted(table_display, reverse = True)\n",
    "    for entry in table_sorted:\n",
    "        print(entry[1], ':', entry[0])\n",
    "\n",
    "print('Android Category frequency table:-')\n",
    "display_table(android_clean_eng_free, 1)\n",
    "\n",
    "print('\\nAndroid Genres frequency table:-')\n",
    "display_table(android_clean_eng_free, 9)\n",
    "\n",
    "print('\\niOS prime_genre frequency table:-')\n",
    "display_table(ios_clean_eng_free, 11)"
   ]
  },
  {
   "cell_type": "markdown",
   "metadata": {},
   "source": [
    "### iOS Genres\n",
    "Considering the frequency table for iOS 'prime_genre', games are the majority in terms of number of free English apps in the sample dataset at 58.1%; entertainment apps follow at just 7.9%. Without data on number of downloads though, it can only be inferred from this that gaming apps command the largest number of users.\n",
    "\n",
    "Education (3.7%), shopping (2.6%), utilities (2.5%), lifestyle (1.6%), and productivity (1.7%) make up around 12% of free English apps. Entertainment (7.9%), photo & video (5.0%), social networking (3.3%), sports (2.1%), and music (2.0%) make up around 20%. This suggests that a free English app marketed for entertainment purposes would likely be popular, and would certainly have a lot of competition.\n",
    "\n",
    "### Android Genres\n",
    "The frequency table for 'Genres' contains a lot of subcategorisation that shows some detail within top level genres. In order to compare with the iOS data, the 'Category' frequency table will be focussed on here. The top category is family (18.9%), followed by games (9.7%). Gaming apps don't appear to have the same level of dominance in the Android market that they do in the iOS market. It is worth noting that family apps may include games for children. Nevertheless, the landscape here is more balanced between entertainment genres and practical genres."
   ]
  },
  {
   "cell_type": "markdown",
   "metadata": {},
   "source": [
    "## Determining the Types of Apps with the Most Users\n",
    "\n",
    "### iOS Apps\n",
    "The code below generate the average total number of reviews for apps in each genre (as a proxy for number of app downloads). The aim will be to compare this with the genre frequency table to suggest an app profile for the Apple Store."
   ]
  },
  {
   "cell_type": "code",
   "execution_count": 10,
   "metadata": {},
   "outputs": [
    {
     "output_type": "stream",
     "name": "stdout",
     "text": "Navigation  :  86090.33333333333\nReference  :  74942.11111111111\nSocial Networking  :  71548.34905660378\nMusic  :  57326.530303030304\nWeather  :  52279.892857142855\nBook  :  39758.5\nFood & Drink  :  33333.92307692308\nFinance  :  31467.944444444445\nPhoto & Video  :  28441.54375\nTravel  :  28243.8\nShopping  :  26919.690476190477\nHealth & Fitness  :  23298.015384615384\nSports  :  23008.898550724636\nGames  :  22812.92467948718\nNews  :  21248.023255813954\nProductivity  :  21028.410714285714\nUtilities  :  18684.456790123455\nLifestyle  :  16485.764705882353\nEntertainment  :  14029.830708661417\nBusiness  :  7491.117647058823\nEducation  :  7003.983050847458\nCatalogs  :  4004.0\nMedical  :  612.0\n"
    }
   ],
   "source": [
    "# produce a second dictionary with average total ratings (proxy for downloads) per genre\n",
    "ios_genre_ft = freq_table(ios_clean_eng_free, 11) # prime_genre is column index 11\n",
    "ios_genre_avg_users = {}\n",
    "for genre in ios_genre_ft:\n",
    "    total = 0\n",
    "    len_genre = 0\n",
    "    for row in ios_clean_eng_free:\n",
    "        app_genre = row[11]\n",
    "        ratings_tot = float(row[5])\n",
    "        if app_genre == genre:\n",
    "            total += ratings_tot\n",
    "            len_genre += 1\n",
    "    ios_genre_avg_users[genre] = total / len_genre\n",
    "\n",
    "# print the averages\n",
    "def display_sorted_dict(dictionary, rev=True):\n",
    "    table = []\n",
    "    for key in dictionary:\n",
    "        dict_item = (dictionary[key], key)\n",
    "        table.append(dict_item)\n",
    "    table = sorted(table, reverse=rev)\n",
    "    for item in table:\n",
    "        print(item[1], ' : ', item[0])\n",
    "\n",
    "display_sorted_dict(ios_genre_avg_users)"
   ]
  },
  {
   "cell_type": "markdown",
   "metadata": {},
   "source": [
    "Despite being the genre most populated with apps, the average number of ratings in Games is only a quarter of those in the Navigation, the top genre by number of ratings. The frequency of apps within a genre can be considered as an indication of competition a new app would face more than the popularity of the genre. The average number of ratings (as a proxy for number of downloads) is perhaps a more appropriate indication of the popularity of a genre for the free English app market. In this space Navigation and Reference have the greatest average total ratings, but make up only 0.2% and 0.6% respectively of the sample dataset. A new app in one of these genres could have much more potential than one in the crowded gaming space. However, before making a firm recommendation, it would be worth checking that the average total ratings presented here aren't skewed from a relatively small sample size of free English apps in these genres."
   ]
  },
  {
   "cell_type": "markdown",
   "metadata": {},
   "source": [
    "### Android Apps"
   ]
  },
  {
   "cell_type": "code",
   "execution_count": 13,
   "metadata": {},
   "outputs": [
    {
     "output_type": "stream",
     "name": "stdout",
     "text": "COMMUNICATION  :  38456119.167247385\nVIDEO_PLAYERS  :  24727872.452830188\nSOCIAL  :  23253652.127118643\nPHOTOGRAPHY  :  17840110.40229885\nPRODUCTIVITY  :  16787331.344927534\nGAME  :  15588015.603248259\nTRAVEL_AND_LOCAL  :  13984077.710144928\nENTERTAINMENT  :  11640705.88235294\nTOOLS  :  10801391.298666667\nNEWS_AND_MAGAZINES  :  9549178.467741935\nBOOKS_AND_REFERENCE  :  8767811.894736841\nSHOPPING  :  7036877.311557789\nPERSONALIZATION  :  5201482.6122448975\nWEATHER  :  5074486.197183099\nHEALTH_AND_FITNESS  :  4188821.9853479853\nMAPS_AND_NAVIGATION  :  4056941.7741935486\nFAMILY  :  3697848.1731343283\nSPORTS  :  3638640.1428571427\nART_AND_DESIGN  :  1986335.0877192982\nFOOD_AND_DRINK  :  1924897.7363636363\nEDUCATION  :  1833495.145631068\nBUSINESS  :  1712290.1474201474\nLIFESTYLE  :  1437816.2687861272\nFINANCE  :  1387692.475609756\nHOUSE_AND_HOME  :  1331540.5616438356\nDATING  :  854028.8303030303\nCOMICS  :  817657.2727272727\nAUTO_AND_VEHICLES  :  647317.8170731707\nLIBRARIES_AND_DEMO  :  638503.734939759\nPARENTING  :  542603.6206896552\nBEAUTY  :  513151.88679245283\nEVENTS  :  253542.22222222222\nMEDICAL  :  120550.61980830671\n\n\nFAMILY : 18.9\nGAME : 9.7\nTOOLS : 8.5\nBUSINESS : 4.6\nPRODUCTIVITY : 3.9\nLIFESTYLE : 3.9\nFINANCE : 3.7\nMEDICAL : 3.5\nSPORTS : 3.4\nPERSONALIZATION : 3.3\nCOMMUNICATION : 3.2\nHEALTH_AND_FITNESS : 3.1\nPHOTOGRAPHY : 2.9\nNEWS_AND_MAGAZINES : 2.8\nSOCIAL : 2.7\nTRAVEL_AND_LOCAL : 2.3\nSHOPPING : 2.2\nBOOKS_AND_REFERENCE : 2.1\nDATING : 1.9\nVIDEO_PLAYERS : 1.8\nMAPS_AND_NAVIGATION : 1.4\nFOOD_AND_DRINK : 1.2\nEDUCATION : 1.2\nENTERTAINMENT : 1.0\nLIBRARIES_AND_DEMO : 0.9\nAUTO_AND_VEHICLES : 0.9\nWEATHER : 0.8\nHOUSE_AND_HOME : 0.8\nPARENTING : 0.7\nEVENTS : 0.7\nCOMICS : 0.6\nBEAUTY : 0.6\nART_AND_DESIGN : 0.6\n"
    }
   ],
   "source": [
    "android_category_ft = freq_table(android_clean_eng_free, 1)\n",
    "android_category_avg_dls = {}\n",
    "for cat in android_category_ft:\n",
    "    total = 0\n",
    "    len_cat = 0\n",
    "    for row in android_clean_eng_free:\n",
    "        app_genre = row[1]\n",
    "        dls = row[5]\n",
    "        dls = dls.replace('+', '')\n",
    "        dls = dls.replace(',', '')\n",
    "        dls = float(dls)\n",
    "        if app_genre == cat:\n",
    "            total += dls\n",
    "            len_cat += 1\n",
    "    android_category_avg_dls[cat] = total / len_cat\n",
    "\n",
    "#print(android_category_avg_dls)\n",
    "\n",
    "display_sorted_dict(android_category_avg_dls)\n",
    "\n",
    "print('\\n')\n",
    "display_table(android_clean_eng_free, 1)"
   ]
  },
  {
   "cell_type": "markdown",
   "metadata": {},
   "source": [
    "For the Android dataset, Books & Reference and Maps & Navigation seem to have reasonably high download numbers, but not particularly high compared to the top categories. The high download rates in these categories could be skewed by a handful of apps that dominate a given category, so some deeper investigation within categories to remove such apps from the datasets may prove to be a useful perspective when the aim is to enter the market with a new free English app.\n",
    "\n",
    "Books & Reference and Maps & Navigation account for a small proportion of free English Android apps (2.1% and 1.4%) respectively just as they account for a small proportion of the iOS dataset, so a new app in one of these categories could see moderate to good success in the Android market, and then see good success in the iOS market."
   ]
  }
 ],
 "metadata": {
  "kernelspec": {
   "display_name": "Python 3.7.6 64-bit ('anaconda3': virtualenv)",
   "language": "python",
   "name": "python37664bitanaconda3virtualenv6312acabe1e349e2b773970c1eb983ec"
  },
  "language_info": {
   "codemirror_mode": {
    "name": "ipython",
    "version": 3
   },
   "file_extension": ".py",
   "mimetype": "text/x-python",
   "name": "python",
   "nbconvert_exporter": "python",
   "pygments_lexer": "ipython3",
   "version": "3.7.6-final"
  }
 },
 "nbformat": 4,
 "nbformat_minor": 4
}