{
 "cells": [
  {
   "cell_type": "markdown",
   "metadata": {},
   "source": [
    "# Determining the Kind of Content on the Hacker News Website that Prompts Higher Community Interaction\n",
    "\n",
    "## Introduction\n",
    "The objective of this project is to find what type of post on the Hacker News website tends to receive high numbers of comments from the community. Within this subset of posts, the objective is also to determine how time of day of post creation affects numbers of comments, and which time of day is most likely to receive higher numbers. There is a particular focus on 'Ask HN' and 'Show HN' posts.\n",
    "\n",
    "The dataset used for this investigation comes from [here](https://www.kaggle.com/hacker-news/hacker-news-posts/data), though the .csv file processed herein, and downloaded from the Dataquest course, may have been cleaned up somewhat. This data set includes data on posts created in the 12 months leading up to 26th September 2016. The data includes the following columns:\n",
    "\n",
    "- title: title of the post (self explanatory)\n",
    "\n",
    "- url: the url of the item being linked to\n",
    "\n",
    "- num_points: the number of upvotes the post received\n",
    "\n",
    "- num_comments: the number of comments the post received\n",
    "\n",
    "- author: the name of the account that made the post\n",
    "\n",
    "- created_at: the date and time the post was made (the time zone is Eastern Time in the US)\n",
    "\n",
    "Summary findings are that 'Ask HN' posts tend to receive high numbers of comments, and that creating these types of posts between the hours of 12:00 and 16:00 US Eastern time are most likely to receive high numbers of comments from the community.\n",
    "\n",
    "## Importing the Data\n",
    "To start with, the data from the 'hacker_news.csv' file is imported as a list of lists called `hn`, with the header row stored in a separate variable `headers`."
   ]
  },
  {
   "cell_type": "code",
   "execution_count": 1,
   "metadata": {
    "tags": []
   },
   "outputs": [
    {
     "output_type": "stream",
     "name": "stdout",
     "text": "['id', 'title', 'url', 'num_points', 'num_comments', 'author', 'created_at']\n\n ['12579008', 'You have two days to comment if you want stem cells to be classified as your own', 'http://www.regulations.gov/document?D=FDA-2015-D-3719-0018', '1', '0', 'altstar', '9/26/2016 3:26']\n\n ['12579005', 'SQLAR  the SQLite Archiver', 'https://www.sqlite.org/sqlar/doc/trunk/README.md', '1', '0', 'blacksqr', '9/26/2016 3:24']\n\n ['12578997', 'What if we just printed a flatscreen television on the side of our boxes?', 'https://medium.com/vanmoof/our-secrets-out-f21c1f03fdc8#.ietxmez43', '1', '0', 'pavel_lishin', '9/26/2016 3:19']\n"
    }
   ],
   "source": [
    "# import the data as a list of lists\n",
    "from csv import reader\n",
    "with open('./hacker_news.csv') as file:\n",
    "    read_file = reader(file)\n",
    "    read_file = list(read_file)\n",
    "headers = read_file[0]    # separate out header information in another list\n",
    "hn = read_file[1:]\n",
    "\n",
    "# print first couple of rows of data\n",
    "print(headers)\n",
    "for row in hn[0:3]:\n",
    "    print('\\n', row)"
   ]
  },
  {
   "cell_type": "markdown",
   "metadata": {},
   "source": [
    "## Filtering for the Posts of Interest\n",
    "The posts of specific interest are the 'Ask HN' and 'Show HN' ones, so the imported data is split into three sets:\n",
    "\n",
    "1) Ask HN posts, `ask_posts`\n",
    "\n",
    "2) Show HN posts, `show_posts`\n",
    "\n",
    "3) All other posts, `other_posts`"
   ]
  },
  {
   "cell_type": "code",
   "execution_count": 2,
   "metadata": {},
   "outputs": [],
   "source": [
    "ask_posts = []\n",
    "show_posts = []\n",
    "other_posts = []\n",
    "for row in hn:\n",
    "    title = row[1]  # post title is in column index 1\n",
    "    if title.lower().startswith('ask hn'):\n",
    "        ask_posts.append(row)\n",
    "    elif title.lower().startswith('show hn'):\n",
    "        show_posts.append(row)\n",
    "    else:\n",
    "        other_posts.append(row)"
   ]
  },
  {
   "cell_type": "markdown",
   "metadata": {},
   "source": [
    "## Determining the Average Numbers of Comments for Ask HN and Show HN Posts"
   ]
  },
  {
   "cell_type": "code",
   "execution_count": 3,
   "metadata": {
    "tags": []
   },
   "outputs": [
    {
     "output_type": "stream",
     "name": "stdout",
     "text": "The average number of comments for Ask HN posts is 10.4.\nThe average number of comments for Show HN posts is 4.9.\n"
    }
   ],
   "source": [
    "# find average number of comments for Ask HN posts\n",
    "total_ask_comments = 0\n",
    "zero_ask_comments = 0\n",
    "for post in ask_posts:\n",
    "    num_comments = int(post[4])  # the number of posts is in column index 4\n",
    "    total_ask_comments += num_comments\n",
    "    if num_comments == 0:\n",
    "        zero_ask_comments += 1\n",
    "avg_ask_comments = total_ask_comments / len(ask_posts)\n",
    "\n",
    "# find average number of comments for Show HN posts\n",
    "total_show_comments = 0\n",
    "zero_show_comments = 0\n",
    "for post in show_posts:\n",
    "    num_comments = int(post[4])\n",
    "    total_show_comments += num_comments\n",
    "    if num_comments == 0:\n",
    "        zero_show_comments += 1\n",
    "avg_show_comments = total_show_comments / len(show_posts)\n",
    "\n",
    "# print average comment numbers\n",
    "avg_comments_string = \"The average number of comments for {} posts is {}.\"\n",
    "print(avg_comments_string.format(\"Ask HN\", round(avg_ask_comments, 1)))\n",
    "print(avg_comments_string.format(\"Show HN\", round(avg_show_comments, 1)))"
   ]
  },
  {
   "cell_type": "markdown",
   "metadata": {},
   "source": [
    "The average number of Ask HN posts is about 10, and the average number of Show HN posts is about 5. It should also be noted that around a quarter of Ask HN posts in this data set do not have any comments, while around half of Show HN posts do not have any comments. It would be natural for Ask HN posts to get more community interaction though, because by their nature they are likely looking for quick responses from community members.\n",
    "\n",
    "## How Time of Day Affects Number of Comments\n",
    "Further assessment of this data set will focus on Ask HN posts, as the type of post that generally receives more comments. The code below determines the spread of number of posts and comments across different times of day."
   ]
  },
  {
   "cell_type": "code",
   "execution_count": 4,
   "metadata": {},
   "outputs": [],
   "source": [
    "from datetime import datetime as dt\n",
    "\n",
    "# extract post creation date and number of comments into separate list of lists\n",
    "result_list = []\n",
    "for row in ask_posts:\n",
    "    created_at = row[6]\n",
    "    num_comments = int(row[4])\n",
    "    result_list.append([created_at, num_comments])\n",
    "\n",
    "# determine post count and comment total by hour\n",
    "count_by_hour = {}\n",
    "comments_by_hour = {}\n",
    "for row in result_list:\n",
    "    post_date = dt.strptime(row[0], '%m/%d/%Y %H:%M')\n",
    "    post_hour = post_date.strftime('%H')\n",
    "    if post_hour in count_by_hour:\n",
    "        count_by_hour[post_hour] += 1\n",
    "        comments_by_hour[post_hour] += row[1]\n",
    "    else:\n",
    "        count_by_hour[post_hour] = 1\n",
    "        comments_by_hour[post_hour] = row[1]"
   ]
  },
  {
   "cell_type": "markdown",
   "metadata": {},
   "source": [
    "With the number of Ask HN posts categorised by hour of day along with their associated numbers of comments, an average number of comments can be derived. This is the average number of comments an Ask HN post would receive when posted at a given hour of the day."
   ]
  },
  {
   "cell_type": "code",
   "execution_count": 5,
   "metadata": {
    "tags": []
   },
   "outputs": [
    {
     "output_type": "stream",
     "name": "stdout",
     "text": "00 :  7.6\n01 :  7.4\n02 :  11.1\n03 :  7.9\n04 :  9.7\n05 :  8.8\n06 :  6.8\n07 :  7.0\n08 :  9.2\n09 :  6.7\n10 :  10.7\n11 :  9.0\n12 :  12.4\n13 :  16.3\n14 :  9.7\n15 :  28.7\n16 :  7.7\n17 :  9.4\n18 :  7.9\n19 :  7.2\n20 :  8.7\n21 :  8.7\n22 :  8.8\n23 :  6.7\n"
    }
   ],
   "source": [
    "# make a list of lists to store hour of day and average number of comments for posts in that hour\n",
    "avg_by_hour = []\n",
    "for hour in count_by_hour:\n",
    "    avg = comments_by_hour[hour] / count_by_hour[hour]\n",
    "    avg_by_hour.append([hour, avg])\n",
    "for hour in sorted(avg_by_hour):\n",
    "    print(hour[0], ': ', round(hour[1], 1)) # print the list in order of hour of day"
   ]
  },
  {
   "cell_type": "markdown",
   "metadata": {},
   "source": [
    "Let's look at the 5 hours with the highest average numbers of comments."
   ]
  },
  {
   "cell_type": "code",
   "execution_count": 6,
   "metadata": {
    "tags": []
   },
   "outputs": [
    {
     "output_type": "stream",
     "name": "stdout",
     "text": "Top 5 Hours for Ask Posts Comments\n15:00: 28.68 average comments per post.\n13:00: 16.32 average comments per post.\n12:00: 12.38 average comments per post.\n02:00: 11.14 average comments per post.\n10:00: 10.68 average comments per post.\n"
    }
   ],
   "source": [
    "# swap the columns around on the avg_by_hour list\n",
    "swap_avg_by_hour = []\n",
    "for row in avg_by_hour:\n",
    "    swap_avg_by_hour.append([row[1], row[0]])\n",
    "#print(swap_avg_by_hour)\n",
    "\n",
    "# sort the new list in reverse order\n",
    "sorted_swap = sorted(swap_avg_by_hour, reverse=True)\n",
    "\n",
    "print(\"Top 5 Hours for Ask Posts Comments\")\n",
    "template = \"{hr}: {cmt:.2f} average comments per post.\"\n",
    "for row in sorted_swap[0:5]:\n",
    "    hour = dt.strptime(row[1], '%H')\n",
    "    formatted_hour = hour.strftime('%H:%M')\n",
    "    print(template.format(hr=formatted_hour, cmt=row[0]))"
   ]
  },
  {
   "cell_type": "markdown",
   "metadata": {},
   "source": [
    "The above analysis suggests that the best times to create an Ask HN post would be between around 12:00 and 16:00. The data set logs the post creation times in the US Eastern timezone. 15:00 corresponds to 12:00 US Pacific time, and could be a time of day when website traffic tends to be at its highest.\n",
    "\n",
    "## Conclusions\n",
    "The objectives of this project were to see which kind of posts on the Hacker News website tend to receive higher comments from the community, and at what time of day uploaded posts are likely to generate high numbers of comments.\n",
    "\n",
    "'Ask HN' posts tend to receive the highest numbers of comments, though around 25% of these posts in the data set have not received any comments.\n",
    "\n",
    "Among the Ask HN posts, those created between around 12:00 and 16:00 US Eastern time are more likely to receive higher numbers of comments from the community."
   ]
  },
  {
   "cell_type": "markdown",
   "metadata": {},
   "source": [
    "This guided project was originally completed in May 2020."
   ]
  }
 ],
 "metadata": {
  "language_info": {
   "codemirror_mode": {
    "name": "ipython",
    "version": 3
   },
   "file_extension": ".py",
   "mimetype": "text/x-python",
   "name": "python",
   "nbconvert_exporter": "python",
   "pygments_lexer": "ipython3",
   "version": "3.8.3-final"
  },
  "orig_nbformat": 2,
  "kernelspec": {
   "name": "python38364bittrainingconda407a1c18241e4175b412d3f55a5d7d76",
   "display_name": "Python 3.8.3 64-bit ('training': conda)"
  }
 },
 "nbformat": 4,
 "nbformat_minor": 2
}