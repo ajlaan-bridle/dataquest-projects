{
 "cells": [
  {
   "cell_type": "markdown",
   "metadata": {},
   "source": [
    "# Satisfaction Ratings for Employees Leaving DETE and TAFE\n",
    "\n",
    "## Introduction\n",
    "This project looks at the influence of dissatisfaction on the departure of employees from the Department of Education, Training and Employment (DETE) and the Technical and Further Education (TAFE) institute in Queensland, Australia. To enable some useful analysis to be carried out, survey data from the respective organisations are cleaned, with a curation of survey questions to focus the scope of the analysis.\n",
    "\n",
    "The primary objective has been to demonstrate skills in data cleaning and data combination. Some basic initial analysis follows, though there is scope to return to this project and carry out plenty more.\n",
    "\n",
    "### Data Sources\n",
    "\n",
    "The sources for [DETE](https://data.gov.au/dataset/ds-qld-fe96ff30-d157-4a81-851d-215f2a0fe26d/details?q=exit%20survey) and [TAFE](https://data.gov.au/dataset/ds-qld-89970a3b-182b-41ea-aea2-6f9f17b5907e/details?q=exit%20survey) data sets.\n",
    "\n",
    "A description of pertinent columns for each data set is as follows:\n",
    "\n",
    "**DETE Survey**\n",
    "\n",
    "| Column              | Description                                           |\n",
    "|---------------------|-------------------------------------------------------|\n",
    "|  `ID`               |  An id used to identify the participant of the survey |\n",
    "|  `SeparationType`   |  The reason why the person's employment ended         |\n",
    "|  `Cease Date`       |  The year or month the person's employment ended      |\n",
    "|  `DETE Start Date`  |  The year the person began employment with the DETE   |\n",
    "\n",
    "**TAFE Survey**\n",
    "\n",
    "| Column | Description |\n",
    "|--------|-------------|\n",
    "|  `Record ID` |  An id used to identify the participant of the survey |\n",
    "|  `Reason for ceasing employment` |  The reason why the person's employment ended |\n",
    "|  `LengthofServiceOverall. Overall Length of Service at Institute (in years)` |  The length of the person's employment (in years) |\n",
    "\n",
    "## Initial Exploration\n",
    "\n",
    "### DETE Survey"
   ]
  },
  {
   "cell_type": "code",
   "execution_count": 1,
   "metadata": {
    "tags": []
   },
   "outputs": [
    {
     "output_type": "stream",
     "name": "stdout",
     "text": "DETE survey info:\n<class 'pandas.core.frame.DataFrame'>\nRangeIndex: 822 entries, 0 to 821\nData columns (total 56 columns):\n #   Column                               Non-Null Count  Dtype \n---  ------                               --------------  ----- \n 0   ID                                   822 non-null    int64 \n 1   SeparationType                       822 non-null    object\n 2   Cease Date                           822 non-null    object\n 3   DETE Start Date                      822 non-null    object\n 4   Role Start Date                      822 non-null    object\n 5   Position                             817 non-null    object\n 6   Classification                       455 non-null    object\n 7   Region                               822 non-null    object\n 8   Business Unit                        126 non-null    object\n 9   Employment Status                    817 non-null    object\n 10  Career move to public sector         822 non-null    bool  \n 11  Career move to private sector        822 non-null    bool  \n 12  Interpersonal conflicts              822 non-null    bool  \n 13  Job dissatisfaction                  822 non-null    bool  \n 14  Dissatisfaction with the department  822 non-null    bool  \n 15  Physical work environment            822 non-null    bool  \n 16  Lack of recognition                  822 non-null    bool  \n 17  Lack of job security                 822 non-null    bool  \n 18  Work location                        822 non-null    bool  \n 19  Employment conditions                822 non-null    bool  \n 20  Maternity/family                     822 non-null    bool  \n 21  Relocation                           822 non-null    bool  \n 22  Study/Travel                         822 non-null    bool  \n 23  Ill Health                           822 non-null    bool  \n 24  Traumatic incident                   822 non-null    bool  \n 25  Work life balance                    822 non-null    bool  \n 26  Workload                             822 non-null    bool  \n 27  None of the above                    822 non-null    bool  \n 28  Professional Development             808 non-null    object\n 29  Opportunities for promotion          735 non-null    object\n 30  Staff morale                         816 non-null    object\n 31  Workplace issue                      788 non-null    object\n 32  Physical environment                 817 non-null    object\n 33  Worklife balance                     815 non-null    object\n 34  Stress and pressure support          810 non-null    object\n 35  Performance of supervisor            813 non-null    object\n 36  Peer support                         812 non-null    object\n 37  Initiative                           813 non-null    object\n 38  Skills                               811 non-null    object\n 39  Coach                                767 non-null    object\n 40  Career Aspirations                   746 non-null    object\n 41  Feedback                             792 non-null    object\n 42  Further PD                           768 non-null    object\n 43  Communication                        814 non-null    object\n 44  My say                               812 non-null    object\n 45  Information                          816 non-null    object\n 46  Kept informed                        813 non-null    object\n 47  Wellness programs                    766 non-null    object\n 48  Health & Safety                      793 non-null    object\n 49  Gender                               798 non-null    object\n 50  Age                                  811 non-null    object\n 51  Aboriginal                           16 non-null     object\n 52  Torres Strait                        3 non-null      object\n 53  South Sea                            7 non-null      object\n 54  Disability                           23 non-null     object\n 55  NESB                                 32 non-null     object\ndtypes: bool(18), int64(1), object(37)\nmemory usage: 258.6+ KB\nNone\n"
    }
   ],
   "source": [
    "# import data\n",
    "import numpy as np\n",
    "import pandas as pd\n",
    "dete_survey = pd.read_csv('./dete_survey.csv')\n",
    "tafe_survey = pd.read_csv('./tafe_survey.csv')\n",
    "\n",
    "# initial data exploration\n",
    "print('DETE survey info:')\n",
    "print(dete_survey.info())"
   ]
  },
  {
   "cell_type": "code",
   "execution_count": 2,
   "metadata": {},
   "outputs": [
    {
     "output_type": "execute_result",
     "data": {
      "text/plain": "   ID                    SeparationType Cease Date DETE Start Date  \\\n0   1             Ill Health Retirement    08/2012            1984   \n1   2  Voluntary Early Retirement (VER)    08/2012      Not Stated   \n2   3  Voluntary Early Retirement (VER)    05/2012            2011   \n3   4         Resignation-Other reasons    05/2012            2005   \n4   5                    Age Retirement    05/2012            1970   \n\n  Role Start Date                                      Position  \\\n0            2004                                Public Servant   \n1      Not Stated                                Public Servant   \n2            2011                               Schools Officer   \n3            2006                                       Teacher   \n4            1989  Head of Curriculum/Head of Special Education   \n\n  Classification              Region                      Business Unit  \\\n0        A01-A04      Central Office  Corporate Strategy and Peformance   \n1        AO5-AO7      Central Office  Corporate Strategy and Peformance   \n2            NaN      Central Office               Education Queensland   \n3        Primary  Central Queensland                                NaN   \n4            NaN          South East                                NaN   \n\n     Employment Status  ...  Kept informed  Wellness programs  \\\n0  Permanent Full-time  ...              N                  N   \n1  Permanent Full-time  ...              N                  N   \n2  Permanent Full-time  ...              N                  N   \n3  Permanent Full-time  ...              A                  N   \n4  Permanent Full-time  ...              N                  A   \n\n   Health & Safety  Gender          Age  Aboriginal  Torres Strait  South Sea  \\\n0                N    Male        56-60         NaN            NaN        NaN   \n1                N    Male        56-60         NaN            NaN        NaN   \n2                N    Male  61 or older         NaN            NaN        NaN   \n3                A  Female        36-40         NaN            NaN        NaN   \n4                M  Female  61 or older         NaN            NaN        NaN   \n\n   Disability  NESB  \n0         NaN   Yes  \n1         NaN   NaN  \n2         NaN   NaN  \n3         NaN   NaN  \n4         NaN   NaN  \n\n[5 rows x 56 columns]",
      "text/html": "<div>\n<style scoped>\n    .dataframe tbody tr th:only-of-type {\n        vertical-align: middle;\n    }\n\n    .dataframe tbody tr th {\n        vertical-align: top;\n    }\n\n    .dataframe thead th {\n        text-align: right;\n    }\n</style>\n<table border=\"1\" class=\"dataframe\">\n  <thead>\n    <tr style=\"text-align: right;\">\n      <th></th>\n      <th>ID</th>\n      <th>SeparationType</th>\n      <th>Cease Date</th>\n      <th>DETE Start Date</th>\n      <th>Role Start Date</th>\n      <th>Position</th>\n      <th>Classification</th>\n      <th>Region</th>\n      <th>Business Unit</th>\n      <th>Employment Status</th>\n      <th>...</th>\n      <th>Kept informed</th>\n      <th>Wellness programs</th>\n      <th>Health &amp; Safety</th>\n      <th>Gender</th>\n      <th>Age</th>\n      <th>Aboriginal</th>\n      <th>Torres Strait</th>\n      <th>South Sea</th>\n      <th>Disability</th>\n      <th>NESB</th>\n    </tr>\n  </thead>\n  <tbody>\n    <tr>\n      <th>0</th>\n      <td>1</td>\n      <td>Ill Health Retirement</td>\n      <td>08/2012</td>\n      <td>1984</td>\n      <td>2004</td>\n      <td>Public Servant</td>\n      <td>A01-A04</td>\n      <td>Central Office</td>\n      <td>Corporate Strategy and Peformance</td>\n      <td>Permanent Full-time</td>\n      <td>...</td>\n      <td>N</td>\n      <td>N</td>\n      <td>N</td>\n      <td>Male</td>\n      <td>56-60</td>\n      <td>NaN</td>\n      <td>NaN</td>\n      <td>NaN</td>\n      <td>NaN</td>\n      <td>Yes</td>\n    </tr>\n    <tr>\n      <th>1</th>\n      <td>2</td>\n      <td>Voluntary Early Retirement (VER)</td>\n      <td>08/2012</td>\n      <td>Not Stated</td>\n      <td>Not Stated</td>\n      <td>Public Servant</td>\n      <td>AO5-AO7</td>\n      <td>Central Office</td>\n      <td>Corporate Strategy and Peformance</td>\n      <td>Permanent Full-time</td>\n      <td>...</td>\n      <td>N</td>\n      <td>N</td>\n      <td>N</td>\n      <td>Male</td>\n      <td>56-60</td>\n      <td>NaN</td>\n      <td>NaN</td>\n      <td>NaN</td>\n      <td>NaN</td>\n      <td>NaN</td>\n    </tr>\n    <tr>\n      <th>2</th>\n      <td>3</td>\n      <td>Voluntary Early Retirement (VER)</td>\n      <td>05/2012</td>\n      <td>2011</td>\n      <td>2011</td>\n      <td>Schools Officer</td>\n      <td>NaN</td>\n      <td>Central Office</td>\n      <td>Education Queensland</td>\n      <td>Permanent Full-time</td>\n      <td>...</td>\n      <td>N</td>\n      <td>N</td>\n      <td>N</td>\n      <td>Male</td>\n      <td>61 or older</td>\n      <td>NaN</td>\n      <td>NaN</td>\n      <td>NaN</td>\n      <td>NaN</td>\n      <td>NaN</td>\n    </tr>\n    <tr>\n      <th>3</th>\n      <td>4</td>\n      <td>Resignation-Other reasons</td>\n      <td>05/2012</td>\n      <td>2005</td>\n      <td>2006</td>\n      <td>Teacher</td>\n      <td>Primary</td>\n      <td>Central Queensland</td>\n      <td>NaN</td>\n      <td>Permanent Full-time</td>\n      <td>...</td>\n      <td>A</td>\n      <td>N</td>\n      <td>A</td>\n      <td>Female</td>\n      <td>36-40</td>\n      <td>NaN</td>\n      <td>NaN</td>\n      <td>NaN</td>\n      <td>NaN</td>\n      <td>NaN</td>\n    </tr>\n    <tr>\n      <th>4</th>\n      <td>5</td>\n      <td>Age Retirement</td>\n      <td>05/2012</td>\n      <td>1970</td>\n      <td>1989</td>\n      <td>Head of Curriculum/Head of Special Education</td>\n      <td>NaN</td>\n      <td>South East</td>\n      <td>NaN</td>\n      <td>Permanent Full-time</td>\n      <td>...</td>\n      <td>N</td>\n      <td>A</td>\n      <td>M</td>\n      <td>Female</td>\n      <td>61 or older</td>\n      <td>NaN</td>\n      <td>NaN</td>\n      <td>NaN</td>\n      <td>NaN</td>\n      <td>NaN</td>\n    </tr>\n  </tbody>\n</table>\n<p>5 rows × 56 columns</p>\n</div>"
     },
     "metadata": {},
     "execution_count": 2
    }
   ],
   "source": [
    "dete_survey.head()"
   ]
  },
  {
   "cell_type": "code",
   "execution_count": 3,
   "metadata": {
    "tags": []
   },
   "outputs": [
    {
     "output_type": "stream",
     "name": "stdout",
     "text": "Age Retirement                          285\nResignation-Other reasons               150\nResignation-Other employer               91\nResignation-Move overseas/interstate     70\nVoluntary Early Retirement (VER)         67\nIll Health Retirement                    61\nOther                                    49\nContract Expired                         34\nTermination                              15\nName: SeparationType, dtype: int64\n"
    }
   ],
   "source": [
    "print(dete_survey['SeparationType'].value_counts())"
   ]
  },
  {
   "cell_type": "markdown",
   "metadata": {},
   "source": [
    "Preliminary observations of the DETE survey:\n",
    "\n",
    "- No empty entries for 'SeparationType', 'Cease Date', 'DETE Start Date'.\n",
    "    - While they are all non-null, a number of 'DETE Start Date' entries are 'Not Stated'.\n",
    "    - This data set can be re-imported or modified in the DataFrame to classify 'Not Stated' entries as null.\n",
    "- There are a number of boolean columns that may be useful for generating an overall dissatisfaction category as a contributing factor for employees leaving.\n",
    "- A number of other columns have significant or extensive null entries, such as 'Business Unit'; these are not likely to be in the scope of this project.\n",
    "- 'SeparationType' appears to be entries from a common list (perhaps from a dropdown list on the survey itself).\n",
    "- Survey questions appear to have been given simple column names, with either boolean entries or 'Null,SD,D,N,A,SA' to represent not answered or answered with the degree of agreement with the survey question statement.\n",
    "- 'Age' is categorised into defined buckets, in 5-year increments, one single category for under 20, and one single category for above 60.\n",
    "\n",
    "### TAFE Survey"
   ]
  },
  {
   "cell_type": "code",
   "execution_count": 4,
   "metadata": {
    "tags": []
   },
   "outputs": [
    {
     "output_type": "stream",
     "name": "stdout",
     "text": "\nTAFE survey info:\n<class 'pandas.core.frame.DataFrame'>\nRangeIndex: 702 entries, 0 to 701\nData columns (total 72 columns):\n #   Column                                                                                                                                                         Non-Null Count  Dtype  \n---  ------                                                                                                                                                         --------------  -----  \n 0   Record ID                                                                                                                                                      702 non-null    float64\n 1   Institute                                                                                                                                                      702 non-null    object \n 2   WorkArea                                                                                                                                                       702 non-null    object \n 3   CESSATION YEAR                                                                                                                                                 695 non-null    float64\n 4   Reason for ceasing employment                                                                                                                                  701 non-null    object \n 5   Contributing Factors. Career Move - Public Sector                                                                                                              437 non-null    object \n 6   Contributing Factors. Career Move - Private Sector                                                                                                             437 non-null    object \n 7   Contributing Factors. Career Move - Self-employment                                                                                                            437 non-null    object \n 8   Contributing Factors. Ill Health                                                                                                                               437 non-null    object \n 9   Contributing Factors. Maternity/Family                                                                                                                         437 non-null    object \n 10  Contributing Factors. Dissatisfaction                                                                                                                          437 non-null    object \n 11  Contributing Factors. Job Dissatisfaction                                                                                                                      437 non-null    object \n 12  Contributing Factors. Interpersonal Conflict                                                                                                                   437 non-null    object \n 13  Contributing Factors. Study                                                                                                                                    437 non-null    object \n 14  Contributing Factors. Travel                                                                                                                                   437 non-null    object \n 15  Contributing Factors. Other                                                                                                                                    437 non-null    object \n 16  Contributing Factors. NONE                                                                                                                                     437 non-null    object \n 17  Main Factor. Which of these was the main factor for leaving?                                                                                                   113 non-null    object \n 18  InstituteViews. Topic:1. I feel the senior leadership had a clear vision and direction                                                                         608 non-null    object \n 19  InstituteViews. Topic:2. I was given access to skills training to help me do my job better                                                                     613 non-null    object \n 20  InstituteViews. Topic:3. I was given adequate opportunities for personal development                                                                           610 non-null    object \n 21  InstituteViews. Topic:4. I was given adequate opportunities for promotion within %Institute]Q25LBL%                                                            608 non-null    object \n 22  InstituteViews. Topic:5. I felt the salary for the job was right for the responsibilities I had                                                                615 non-null    object \n 23  InstituteViews. Topic:6. The organisation recognised when staff did good work                                                                                  607 non-null    object \n 24  InstituteViews. Topic:7. Management was generally supportive of me                                                                                             614 non-null    object \n 25  InstituteViews. Topic:8. Management was generally supportive of my team                                                                                        608 non-null    object \n 26  InstituteViews. Topic:9. I was kept informed of the changes in the organisation which would affect me                                                          610 non-null    object \n 27  InstituteViews. Topic:10. Staff morale was positive within the Institute                                                                                       602 non-null    object \n 28  InstituteViews. Topic:11. If I had a workplace issue it was dealt with quickly                                                                                 601 non-null    object \n 29  InstituteViews. Topic:12. If I had a workplace issue it was dealt with efficiently                                                                             597 non-null    object \n 30  InstituteViews. Topic:13. If I had a workplace issue it was dealt with discreetly                                                                              601 non-null    object \n 31  WorkUnitViews. Topic:14. I was satisfied with the quality of the management and supervision within my work unit                                                609 non-null    object \n 32  WorkUnitViews. Topic:15. I worked well with my colleagues                                                                                                      605 non-null    object \n 33  WorkUnitViews. Topic:16. My job was challenging and interesting                                                                                                607 non-null    object \n 34  WorkUnitViews. Topic:17. I was encouraged to use my initiative in the course of my work                                                                        610 non-null    object \n 35  WorkUnitViews. Topic:18. I had sufficient contact with other people in my job                                                                                  613 non-null    object \n 36  WorkUnitViews. Topic:19. I was given adequate support and co-operation by my peers to enable me to do my job                                                   609 non-null    object \n 37  WorkUnitViews. Topic:20. I was able to use the full range of my skills in my job                                                                               609 non-null    object \n 38  WorkUnitViews. Topic:21. I was able to use the full range of my abilities in my job. ; Category:Level of Agreement; Question:YOUR VIEWS ABOUT YOUR WORK UNIT]  608 non-null    object \n 39  WorkUnitViews. Topic:22. I was able to use the full range of my knowledge in my job                                                                            608 non-null    object \n 40  WorkUnitViews. Topic:23. My job provided sufficient variety                                                                                                    611 non-null    object \n 41  WorkUnitViews. Topic:24. I was able to cope with the level of stress and pressure in my job                                                                    610 non-null    object \n 42  WorkUnitViews. Topic:25. My job allowed me to balance the demands of work and family to my satisfaction                                                        611 non-null    object \n 43  WorkUnitViews. Topic:26. My supervisor gave me adequate personal recognition and feedback on my performance                                                    606 non-null    object \n 44  WorkUnitViews. Topic:27. My working environment was satisfactory e.g. sufficient space, good lighting, suitable seating and working area                       610 non-null    object \n 45  WorkUnitViews. Topic:28. I was given the opportunity to mentor and coach others in order for me to pass on my skills and knowledge prior to my cessation date  609 non-null    object \n 46  WorkUnitViews. Topic:29. There was adequate communication between staff in my unit                                                                             603 non-null    object \n 47  WorkUnitViews. Topic:30. Staff morale was positive within my work unit                                                                                         606 non-null    object \n 48  Induction. Did you undertake Workplace Induction?                                                                                                              619 non-null    object \n 49  InductionInfo. Topic:Did you undertake a Corporate Induction?                                                                                                  432 non-null    object \n 50  InductionInfo. Topic:Did you undertake a Institute Induction?                                                                                                  483 non-null    object \n 51  InductionInfo. Topic: Did you undertake Team Induction?                                                                                                        440 non-null    object \n 52  InductionInfo. Face to Face Topic:Did you undertake a Corporate Induction; Category:How it was conducted?                                                      555 non-null    object \n 53  InductionInfo. On-line Topic:Did you undertake a Corporate Induction; Category:How it was conducted?                                                           555 non-null    object \n 54  InductionInfo. Induction Manual Topic:Did you undertake a Corporate Induction?                                                                                 555 non-null    object \n 55  InductionInfo. Face to Face Topic:Did you undertake a Institute Induction?                                                                                     530 non-null    object \n 56  InductionInfo. On-line Topic:Did you undertake a Institute Induction?                                                                                          555 non-null    object \n 57  InductionInfo. Induction Manual Topic:Did you undertake a Institute Induction?                                                                                 553 non-null    object \n 58  InductionInfo. Face to Face Topic: Did you undertake Team Induction; Category?                                                                                 555 non-null    object \n 59  InductionInfo. On-line Topic: Did you undertake Team Induction?process you undertook and how it was conducted.]                                                555 non-null    object \n 60  InductionInfo. Induction Manual Topic: Did you undertake Team Induction?                                                                                       555 non-null    object \n 61  Workplace. Topic:Did you and your Manager develop a Performance and Professional Development Plan (PPDP)?                                                      608 non-null    object \n 62  Workplace. Topic:Does your workplace promote a work culture free from all forms of unlawful discrimination?                                                    594 non-null    object \n 63  Workplace. Topic:Does your workplace promote and practice the principles of employment equity?                                                                 587 non-null    object \n 64  Workplace. Topic:Does your workplace value the diversity of its employees?                                                                                     586 non-null    object \n 65  Workplace. Topic:Would you recommend the Institute as an employer to others?                                                                                   581 non-null    object \n 66  Gender. What is your Gender?                                                                                                                                   596 non-null    object \n 67  CurrentAge. Current Age                                                                                                                                        596 non-null    object \n 68  Employment Type. Employment Type                                                                                                                               596 non-null    object \n 69  Classification. Classification                                                                                                                                 596 non-null    object \n 70  LengthofServiceOverall. Overall Length of Service at Institute (in years)                                                                                      596 non-null    object \n 71  LengthofServiceCurrent. Length of Service at current workplace (in years)                                                                                      596 non-null    object \ndtypes: float64(2), object(70)\nmemory usage: 395.0+ KB\nNone\n"
    }
   ],
   "source": [
    "print('\\nTAFE survey info:')\n",
    "print(tafe_survey.info())"
   ]
  },
  {
   "cell_type": "code",
   "execution_count": 5,
   "metadata": {},
   "outputs": [
    {
     "output_type": "execute_result",
     "data": {
      "text/plain": "      Record ID                              Institute  \\\n0  6.341330e+17  Southern Queensland Institute of TAFE   \n1  6.341337e+17            Mount Isa Institute of TAFE   \n2  6.341388e+17            Mount Isa Institute of TAFE   \n3  6.341399e+17            Mount Isa Institute of TAFE   \n4  6.341466e+17  Southern Queensland Institute of TAFE   \n\n                   WorkArea  CESSATION YEAR Reason for ceasing employment  \\\n0  Non-Delivery (corporate)          2010.0              Contract Expired   \n1  Non-Delivery (corporate)          2010.0                    Retirement   \n2       Delivery (teaching)          2010.0                    Retirement   \n3  Non-Delivery (corporate)          2010.0                   Resignation   \n4       Delivery (teaching)          2010.0                   Resignation   \n\n  Contributing Factors. Career Move - Public Sector   \\\n0                                                NaN   \n1                                                  -   \n2                                                  -   \n3                                                  -   \n4                                                  -   \n\n  Contributing Factors. Career Move - Private Sector   \\\n0                                                NaN    \n1                                                  -    \n2                                                  -    \n3                                                  -    \n4                       Career Move - Private Sector    \n\n  Contributing Factors. Career Move - Self-employment  \\\n0                                                NaN    \n1                                                  -    \n2                                                  -    \n3                                                  -    \n4                                                  -    \n\n  Contributing Factors. Ill Health Contributing Factors. Maternity/Family  \\\n0                              NaN                                    NaN   \n1                                -                                      -   \n2                                -                                      -   \n3                                -                                      -   \n4                                -                                      -   \n\n   ...  \\\n0  ...   \n1  ...   \n2  ...   \n3  ...   \n4  ...   \n\n  Workplace. Topic:Does your workplace promote a work culture free from all forms of unlawful discrimination?  \\\n0                                                Yes                                                            \n1                                                Yes                                                            \n2                                                Yes                                                            \n3                                                Yes                                                            \n4                                                Yes                                                            \n\n  Workplace. Topic:Does your workplace promote and practice the principles of employment equity?  \\\n0                                                Yes                                               \n1                                                Yes                                               \n2                                                Yes                                               \n3                                                Yes                                               \n4                                                Yes                                               \n\n  Workplace. Topic:Does your workplace value the diversity of its employees?  \\\n0                                                Yes                           \n1                                                Yes                           \n2                                                Yes                           \n3                                                Yes                           \n4                                                Yes                           \n\n  Workplace. Topic:Would you recommend the Institute as an employer to others?  \\\n0                                                Yes                             \n1                                                Yes                             \n2                                                Yes                             \n3                                                Yes                             \n4                                                Yes                             \n\n  Gender. What is your Gender? CurrentAge. Current Age  \\\n0                       Female                  26  30   \n1                          NaN                     NaN   \n2                          NaN                     NaN   \n3                          NaN                     NaN   \n4                         Male                  41  45   \n\n  Employment Type. Employment Type Classification. Classification  \\\n0              Temporary Full-time            Administration (AO)   \n1                              NaN                            NaN   \n2                              NaN                            NaN   \n3                              NaN                            NaN   \n4              Permanent Full-time        Teacher (including LVT)   \n\n  LengthofServiceOverall. Overall Length of Service at Institute (in years)  \\\n0                                                1-2                          \n1                                                NaN                          \n2                                                NaN                          \n3                                                NaN                          \n4                                                3-4                          \n\n  LengthofServiceCurrent. Length of Service at current workplace (in years)  \n0                                                1-2                         \n1                                                NaN                         \n2                                                NaN                         \n3                                                NaN                         \n4                                                3-4                         \n\n[5 rows x 72 columns]",
      "text/html": "<div>\n<style scoped>\n    .dataframe tbody tr th:only-of-type {\n        vertical-align: middle;\n    }\n\n    .dataframe tbody tr th {\n        vertical-align: top;\n    }\n\n    .dataframe thead th {\n        text-align: right;\n    }\n</style>\n<table border=\"1\" class=\"dataframe\">\n  <thead>\n    <tr style=\"text-align: right;\">\n      <th></th>\n      <th>Record ID</th>\n      <th>Institute</th>\n      <th>WorkArea</th>\n      <th>CESSATION YEAR</th>\n      <th>Reason for ceasing employment</th>\n      <th>Contributing Factors. Career Move - Public Sector</th>\n      <th>Contributing Factors. Career Move - Private Sector</th>\n      <th>Contributing Factors. Career Move - Self-employment</th>\n      <th>Contributing Factors. Ill Health</th>\n      <th>Contributing Factors. Maternity/Family</th>\n      <th>...</th>\n      <th>Workplace. Topic:Does your workplace promote a work culture free from all forms of unlawful discrimination?</th>\n      <th>Workplace. Topic:Does your workplace promote and practice the principles of employment equity?</th>\n      <th>Workplace. Topic:Does your workplace value the diversity of its employees?</th>\n      <th>Workplace. Topic:Would you recommend the Institute as an employer to others?</th>\n      <th>Gender. What is your Gender?</th>\n      <th>CurrentAge. Current Age</th>\n      <th>Employment Type. Employment Type</th>\n      <th>Classification. Classification</th>\n      <th>LengthofServiceOverall. Overall Length of Service at Institute (in years)</th>\n      <th>LengthofServiceCurrent. Length of Service at current workplace (in years)</th>\n    </tr>\n  </thead>\n  <tbody>\n    <tr>\n      <th>0</th>\n      <td>6.341330e+17</td>\n      <td>Southern Queensland Institute of TAFE</td>\n      <td>Non-Delivery (corporate)</td>\n      <td>2010.0</td>\n      <td>Contract Expired</td>\n      <td>NaN</td>\n      <td>NaN</td>\n      <td>NaN</td>\n      <td>NaN</td>\n      <td>NaN</td>\n      <td>...</td>\n      <td>Yes</td>\n      <td>Yes</td>\n      <td>Yes</td>\n      <td>Yes</td>\n      <td>Female</td>\n      <td>26  30</td>\n      <td>Temporary Full-time</td>\n      <td>Administration (AO)</td>\n      <td>1-2</td>\n      <td>1-2</td>\n    </tr>\n    <tr>\n      <th>1</th>\n      <td>6.341337e+17</td>\n      <td>Mount Isa Institute of TAFE</td>\n      <td>Non-Delivery (corporate)</td>\n      <td>2010.0</td>\n      <td>Retirement</td>\n      <td>-</td>\n      <td>-</td>\n      <td>-</td>\n      <td>-</td>\n      <td>-</td>\n      <td>...</td>\n      <td>Yes</td>\n      <td>Yes</td>\n      <td>Yes</td>\n      <td>Yes</td>\n      <td>NaN</td>\n      <td>NaN</td>\n      <td>NaN</td>\n      <td>NaN</td>\n      <td>NaN</td>\n      <td>NaN</td>\n    </tr>\n    <tr>\n      <th>2</th>\n      <td>6.341388e+17</td>\n      <td>Mount Isa Institute of TAFE</td>\n      <td>Delivery (teaching)</td>\n      <td>2010.0</td>\n      <td>Retirement</td>\n      <td>-</td>\n      <td>-</td>\n      <td>-</td>\n      <td>-</td>\n      <td>-</td>\n      <td>...</td>\n      <td>Yes</td>\n      <td>Yes</td>\n      <td>Yes</td>\n      <td>Yes</td>\n      <td>NaN</td>\n      <td>NaN</td>\n      <td>NaN</td>\n      <td>NaN</td>\n      <td>NaN</td>\n      <td>NaN</td>\n    </tr>\n    <tr>\n      <th>3</th>\n      <td>6.341399e+17</td>\n      <td>Mount Isa Institute of TAFE</td>\n      <td>Non-Delivery (corporate)</td>\n      <td>2010.0</td>\n      <td>Resignation</td>\n      <td>-</td>\n      <td>-</td>\n      <td>-</td>\n      <td>-</td>\n      <td>-</td>\n      <td>...</td>\n      <td>Yes</td>\n      <td>Yes</td>\n      <td>Yes</td>\n      <td>Yes</td>\n      <td>NaN</td>\n      <td>NaN</td>\n      <td>NaN</td>\n      <td>NaN</td>\n      <td>NaN</td>\n      <td>NaN</td>\n    </tr>\n    <tr>\n      <th>4</th>\n      <td>6.341466e+17</td>\n      <td>Southern Queensland Institute of TAFE</td>\n      <td>Delivery (teaching)</td>\n      <td>2010.0</td>\n      <td>Resignation</td>\n      <td>-</td>\n      <td>Career Move - Private Sector</td>\n      <td>-</td>\n      <td>-</td>\n      <td>-</td>\n      <td>...</td>\n      <td>Yes</td>\n      <td>Yes</td>\n      <td>Yes</td>\n      <td>Yes</td>\n      <td>Male</td>\n      <td>41  45</td>\n      <td>Permanent Full-time</td>\n      <td>Teacher (including LVT)</td>\n      <td>3-4</td>\n      <td>3-4</td>\n    </tr>\n  </tbody>\n</table>\n<p>5 rows × 72 columns</p>\n</div>"
     },
     "metadata": {},
     "execution_count": 5
    }
   ],
   "source": [
    "tafe_survey.head()"
   ]
  },
  {
   "cell_type": "code",
   "execution_count": 6,
   "metadata": {
    "tags": []
   },
   "outputs": [
    {
     "output_type": "stream",
     "name": "stdout",
     "text": "TAFE length of service categorisation:\n Less than 1 year      147\nNaN                   106\n1-2                   102\n3-4                    96\n11-20                  89\nMore than 20 years     71\n5-6                    48\n7-10                   43\nName: LengthofServiceOverall. Overall Length of Service at Institute (in years), dtype: int64\n"
    }
   ],
   "source": [
    "print('TAFE length of service categorisation:\\n', tafe_survey['LengthofServiceOverall. Overall Length of Service at Institute (in years)'].value_counts(dropna=False))"
   ]
  },
  {
   "cell_type": "markdown",
   "metadata": {},
   "source": [
    "Preliminary observations of the TAFE survey:\n",
    "\n",
    "- There appears to be a column for each survey question that was asked.\n",
    "- All contributing factor options are given their own column, with column entries either being null or '-' to represent not selected, or the name of the contributing factor to represent selected. This style is used for what appear to be \"select multiple\" type survey questions.\n",
    "- Survey questions asking for level of agreement to statements contain expanded rather than abbreviated string entries compared to the DETE data (e.g. 'Strongly Disagree' vs 'SD')\n",
    "- 'Age' is similarly categorised as in the DETE data, but with one category for over 55, and some variety in how the bucket is entered (e.g. '40-45' can be entered as '40 45')\n",
    "- Length of service, both overall and in current role, are categorised as shown above, and 15% of entries are null.\n",
    "\n",
    "## Data Cleaning\n",
    "\n",
    "### Focus Scope of Data Import"
   ]
  },
  {
   "cell_type": "code",
   "execution_count": 7,
   "metadata": {},
   "outputs": [],
   "source": [
    "# re-import DETE data to include 'Not Stated' entries as nan\n",
    "dete_survey = pd.read_csv('./dete_survey.csv', na_values='Not Stated')\n",
    "dete_survey_updated = dete_survey.drop(columns=dete_survey.columns[28:49], axis=1)\n",
    "tafe_survey_updated = tafe_survey.drop(columns=tafe_survey.columns[17:66], axis=1)"
   ]
  },
  {
   "cell_type": "markdown",
   "metadata": {},
   "source": [
    "Individual survey answers are not needed for this analysis, so those columns have been dropped. In addition, the DETE survey data has been re-imported, with 'Not Stated' values imported as null.\n",
    "\n",
    "### Tidy Up Column Names"
   ]
  },
  {
   "cell_type": "code",
   "execution_count": 8,
   "metadata": {
    "tags": []
   },
   "outputs": [
    {
     "output_type": "stream",
     "name": "stdout",
     "text": "DETE head:\n    id                    separationtype cease_date  dete_start_date  \\\n0   1             Ill Health Retirement    08/2012           1984.0   \n1   2  Voluntary Early Retirement (VER)    08/2012              NaN   \n2   3  Voluntary Early Retirement (VER)    05/2012           2011.0   \n3   4         Resignation-Other reasons    05/2012           2005.0   \n4   5                    Age Retirement    05/2012           1970.0   \n\n   role_start_date                                      position  \\\n0           2004.0                                Public Servant   \n1              NaN                                Public Servant   \n2           2011.0                               Schools Officer   \n3           2006.0                                       Teacher   \n4           1989.0  Head of Curriculum/Head of Special Education   \n\n  classification              region                      business_unit  \\\n0        A01-A04      Central Office  Corporate Strategy and Peformance   \n1        AO5-AO7      Central Office  Corporate Strategy and Peformance   \n2            NaN      Central Office               Education Queensland   \n3        Primary  Central Queensland                                NaN   \n4            NaN          South East                                NaN   \n\n     employment_status  ...  work_life_balance  workload  none_of_the_above  \\\n0  Permanent Full-time  ...              False     False               True   \n1  Permanent Full-time  ...              False     False              False   \n2  Permanent Full-time  ...              False     False               True   \n3  Permanent Full-time  ...              False     False              False   \n4  Permanent Full-time  ...               True     False              False   \n\n   gender          age  aboriginal  torres_strait  south_sea  disability  nesb  \n0    Male        56-60         NaN            NaN        NaN         NaN   Yes  \n1    Male        56-60         NaN            NaN        NaN         NaN   NaN  \n2    Male  61 or older         NaN            NaN        NaN         NaN   NaN  \n3  Female        36-40         NaN            NaN        NaN         NaN   NaN  \n4  Female  61 or older         NaN            NaN        NaN         NaN   NaN  \n\n[5 rows x 35 columns]\n\nTAFE head:\n              id                              Institute  \\\n0  6.341330e+17  Southern Queensland Institute of TAFE   \n1  6.341337e+17            Mount Isa Institute of TAFE   \n2  6.341388e+17            Mount Isa Institute of TAFE   \n3  6.341399e+17            Mount Isa Institute of TAFE   \n4  6.341466e+17  Southern Queensland Institute of TAFE   \n\n                   WorkArea  cease_date    separationtype  \\\n0  Non-Delivery (corporate)      2010.0  Contract Expired   \n1  Non-Delivery (corporate)      2010.0        Retirement   \n2       Delivery (teaching)      2010.0        Retirement   \n3  Non-Delivery (corporate)      2010.0       Resignation   \n4       Delivery (teaching)      2010.0       Resignation   \n\n  Contributing Factors. Career Move - Public Sector   \\\n0                                                NaN   \n1                                                  -   \n2                                                  -   \n3                                                  -   \n4                                                  -   \n\n  Contributing Factors. Career Move - Private Sector   \\\n0                                                NaN    \n1                                                  -    \n2                                                  -    \n3                                                  -    \n4                       Career Move - Private Sector    \n\n  Contributing Factors. Career Move - Self-employment  \\\n0                                                NaN    \n1                                                  -    \n2                                                  -    \n3                                                  -    \n4                                                  -    \n\n  Contributing Factors. Ill Health Contributing Factors. Maternity/Family  \\\n0                              NaN                                    NaN   \n1                                -                                      -   \n2                                -                                      -   \n3                                -                                      -   \n4                                -                                      -   \n\n   ... Contributing Factors. Study Contributing Factors. Travel  \\\n0  ...                         NaN                          NaN   \n1  ...                           -                       Travel   \n2  ...                           -                            -   \n3  ...                           -                       Travel   \n4  ...                           -                            -   \n\n  Contributing Factors. Other Contributing Factors. NONE  gender     age  \\\n0                         NaN                        NaN  Female  26  30   \n1                           -                          -     NaN     NaN   \n2                           -                       NONE     NaN     NaN   \n3                           -                          -     NaN     NaN   \n4                           -                          -    Male  41  45   \n\n     employment_status                 position institute_service role_service  \n0  Temporary Full-time      Administration (AO)               1-2          1-2  \n1                  NaN                      NaN               NaN          NaN  \n2                  NaN                      NaN               NaN          NaN  \n3                  NaN                      NaN               NaN          NaN  \n4  Permanent Full-time  Teacher (including LVT)               3-4          3-4  \n\n[5 rows x 23 columns]\n"
    }
   ],
   "source": [
    "# clean up DETE column names\n",
    "dete_columns = dete_survey_updated.columns.str.strip().str.replace('\\s+', '_').str.replace('/', '_').str.lower()\n",
    "#print(dete_columns)\n",
    "dete_survey_updated.columns = dete_columns\n",
    "print('DETE head:\\n', dete_survey_updated.head())\n",
    "\n",
    "# clean up TAFE column names\n",
    "tafe_cols = {\n",
    "    'Record ID': 'id',\n",
    "    'CESSATION YEAR': 'cease_date',\n",
    "    'Reason for ceasing employment': 'separationtype',\n",
    "    'Gender. What is your Gender?': 'gender',\n",
    "    'CurrentAge. Current Age': 'age',\n",
    "    'Employment Type. Employment Type': 'employment_status',\n",
    "    'Classification. Classification': 'position',\n",
    "    'LengthofServiceOverall. Overall Length of Service at Institute (in years)': 'institute_service',\n",
    "    'LengthofServiceCurrent. Length of Service at current workplace (in years)': 'role_service'\n",
    "}\n",
    "tafe_survey_updated = tafe_survey_updated.rename(columns=tafe_cols)\n",
    "print('\\nTAFE head:\\n', tafe_survey_updated.head())"
   ]
  },
  {
   "cell_type": "markdown",
   "metadata": {},
   "source": [
    "Column names have been simplified and will be standardised between the two surveys so that they can be joined together into one data set.\n",
    "\n",
    "### Extract Rows Where Employees Resigned\n",
    "\n",
    "The primary interest is in the employees who resigned from their respective organisation."
   ]
  },
  {
   "cell_type": "code",
   "execution_count": 9,
   "metadata": {
    "tags": []
   },
   "outputs": [
    {
     "output_type": "stream",
     "name": "stdout",
     "text": "DETE separationtype entries:\n Age Retirement                          285\nResignation-Other reasons               150\nResignation-Other employer               91\nResignation-Move overseas/interstate     70\nVoluntary Early Retirement (VER)         67\nIll Health Retirement                    61\nOther                                    49\nContract Expired                         34\nTermination                              15\nName: separationtype, dtype: int64\n\nTAFE separationtype entries:\n Resignation                 340\nContract Expired            127\nRetrenchment/ Redundancy    104\nRetirement                   82\nTransfer                     25\nTermination                  23\nName: separationtype, dtype: int64\n\nDETE resignation entries:\n Resignation-Other reasons               150\nResignation-Other employer               91\nResignation-Move overseas/interstate     70\nName: separationtype, dtype: int64\n\nTAFE resignation entries:\n Resignation    340\nName: separationtype, dtype: int64\n"
    }
   ],
   "source": [
    "print('DETE separationtype entries:\\n', dete_survey_updated['separationtype'].value_counts())\n",
    "print('\\nTAFE separationtype entries:\\n', tafe_survey_updated['separationtype'].value_counts())\n",
    "\n",
    "dete_resignations = dete_survey_updated[dete_survey_updated['separationtype'].str.contains('Resignation')].copy()\n",
    "tafe_resignations = tafe_survey_updated[tafe_survey_updated['separationtype'] == 'Resignation'].copy()\n",
    "print('\\nDETE resignation entries:\\n', dete_resignations['separationtype'].value_counts())\n",
    "print('\\nTAFE resignation entries:\\n', tafe_resignations['separationtype'].value_counts())"
   ]
  },
  {
   "cell_type": "markdown",
   "metadata": {},
   "source": [
    "### Derive Service Length for DETE Employees"
   ]
  },
  {
   "cell_type": "code",
   "execution_count": 10,
   "metadata": {
    "tags": []
   },
   "outputs": [
    {
     "output_type": "stream",
     "name": "stdout",
     "text": "DETE start date:\n 1963.0     1\n1971.0     1\n1972.0     1\n1973.0     1\n1974.0     2\n1975.0     1\n1976.0     2\n1977.0     1\n1980.0     5\n1982.0     1\n1983.0     2\n1984.0     1\n1985.0     3\n1986.0     3\n1987.0     1\n1988.0     4\n1989.0     4\n1990.0     5\n1991.0     4\n1992.0     6\n1993.0     5\n1994.0     6\n1995.0     4\n1996.0     6\n1997.0     5\n1998.0     6\n1999.0     8\n2000.0     9\n2001.0     3\n2002.0     6\n2003.0     6\n2004.0    14\n2005.0    15\n2006.0    13\n2007.0    21\n2008.0    22\n2009.0    13\n2010.0    17\n2011.0    24\n2012.0    21\n2013.0    10\nNaN       28\nName: dete_start_date, dtype: int64\nDETE cease date:\n 2006.0      1\n2010.0      2\n2012.0    129\n2013.0    146\n2014.0     22\nNaN        11\nName: cease_date, dtype: int64\n\nTAFE cease date:\n 2009.0      2\n2010.0     68\n2011.0    116\n2012.0     94\n2013.0     55\nNaN         5\nName: cease_date, dtype: int64\n"
    }
   ],
   "source": [
    "# pick out just the resignation years from DETE survey cease_date column\n",
    "# print(dete_resignations['cease_date'].value_counts(dropna=False))\n",
    "dete_cease_date_cleaned = dete_resignations['cease_date'].str.extract(r'(2[0-9]{3})').astype(float)\n",
    "dete_resignations['cease_date'] = dete_cease_date_cleaned\n",
    "print('DETE start date:\\n', dete_resignations['dete_start_date'].value_counts(dropna=False).sort_index())\n",
    "print('DETE cease date:\\n', dete_resignations['cease_date'].value_counts(dropna=False).sort_index())\n",
    "\n",
    "print('\\nTAFE cease date:\\n', tafe_resignations['cease_date'].value_counts(dropna=False).sort_index())"
   ]
  },
  {
   "cell_type": "markdown",
   "metadata": {},
   "source": [
    "A very large number of people leaving DETE in 2012 and 2013. Similarly, a large number of people resigning from TAFE between 2010-2013."
   ]
  },
  {
   "cell_type": "code",
   "execution_count": 11,
   "metadata": {
    "tags": []
   },
   "outputs": [
    {
     "output_type": "stream",
     "name": "stdout",
     "text": "0.0     20\n1.0     22\n2.0     14\n3.0     20\n4.0     16\n5.0     23\n6.0     17\n7.0     13\n8.0      8\n9.0     14\n10.0     6\n11.0     4\n12.0     6\n13.0     8\n14.0     6\n15.0     7\n16.0     5\n17.0     6\n18.0     5\n19.0     3\n20.0     7\n21.0     3\n22.0     6\n23.0     4\n24.0     4\n25.0     2\n26.0     2\n27.0     1\n28.0     2\n29.0     1\n30.0     2\n31.0     1\n32.0     3\n33.0     1\n34.0     1\n35.0     1\n36.0     2\n38.0     1\n39.0     3\n41.0     1\n42.0     1\n49.0     1\nNaN     38\nName: institute_service, dtype: int64\n"
    }
   ],
   "source": [
    "dete_resignations['institute_service'] = dete_resignations['cease_date'] - dete_resignations['dete_start_date']\n",
    "print(dete_resignations['institute_service'].value_counts(dropna=False).sort_index())"
   ]
  },
  {
   "cell_type": "markdown",
   "metadata": {},
   "source": [
    "`institute_service` column added to determine number of years' service with DETE. 38 entries (12%) are null due to missing start or cease date data.\n",
    "\n",
    "### Job Dissatisfaction Columns"
   ]
  },
  {
   "cell_type": "code",
   "execution_count": 12,
   "metadata": {
    "tags": []
   },
   "outputs": [
    {
     "output_type": "stream",
     "name": "stdout",
     "text": "TAFE contributing factors: \"Dissatisfaction\"\n -                                         277\nContributing Factors. Dissatisfaction      55\nNaN                                         8\nName: Contributing Factors. Dissatisfaction, dtype: int64\n\nTAFE contributing factors: \"Job Dissatisfaction\"\n -                      270\nJob Dissatisfaction     62\nNaN                      8\nName: Contributing Factors. Job Dissatisfaction, dtype: int64\n\nCleaned TAFE contributing factors: \"Dissatisfaction\"\n False    277\nTrue      55\nNaN        8\nName: Contributing Factors. Dissatisfaction, dtype: int64\n\nCleaned TAFE contributing factors: \"Job Dissatisfaction\"\n False    270\nTrue      62\nNaN        8\nName: Contributing Factors. Job Dissatisfaction, dtype: int64\n"
    }
   ],
   "source": [
    "print('TAFE contributing factors: \"Dissatisfaction\"\\n', tafe_resignations['Contributing Factors. Dissatisfaction'].value_counts(dropna=False))\n",
    "print('\\nTAFE contributing factors: \"Job Dissatisfaction\"\\n', tafe_resignations['Contributing Factors. Job Dissatisfaction'].value_counts(dropna=False))\n",
    "\n",
    "def update_vals(val):\n",
    "    if pd.isnull(val):\n",
    "        return np.nan\n",
    "    elif val == '-':\n",
    "        return False\n",
    "    else:\n",
    "        return True\n",
    "\n",
    "tafe_cols = ['Contributing Factors. Dissatisfaction', 'Contributing Factors. Job Dissatisfaction']\n",
    "transformed_tafe_cols = tafe_resignations[tafe_cols].applymap(update_vals)\n",
    "print('\\nCleaned TAFE contributing factors: \"Dissatisfaction\"\\n', transformed_tafe_cols['Contributing Factors. Dissatisfaction'].value_counts(dropna=False))\n",
    "print('\\nCleaned TAFE contributing factors: \"Job Dissatisfaction\"\\n', transformed_tafe_cols['Contributing Factors. Job Dissatisfaction'].value_counts(dropna=False))\n",
    "for col in tafe_cols:\n",
    "    tafe_resignations[col] = transformed_tafe_cols[col]"
   ]
  },
  {
   "cell_type": "markdown",
   "metadata": {},
   "source": [
    "'Dissatisfaction' and 'Job Dissatisfaction' columns have been transformed into boolean/null entries with the above code."
   ]
  },
  {
   "cell_type": "code",
   "execution_count": 13,
   "metadata": {
    "tags": []
   },
   "outputs": [
    {
     "output_type": "stream",
     "name": "stdout",
     "text": "False    162\nTrue     149\ndtype: int64\nFalse    249\nTrue      91\ndtype: int64\n"
    }
   ],
   "source": [
    "dete_cols = [\n",
    "    'job_dissatisfaction',\n",
    "    'dissatisfaction_with_the_department',\n",
    "    'physical_work_environment',\n",
    "    'lack_of_recognition',\n",
    "    'lack_of_job_security',\n",
    "    'work_location',\n",
    "    'employment_conditions',\n",
    "    'work_life_balance',\n",
    "    'workload'\n",
    "]\n",
    "dete_dissatisfied = dete_resignations[dete_cols].any(axis=1)\n",
    "print(dete_dissatisfied.value_counts(dropna=False))\n",
    "dete_resignations_up = dete_resignations.copy()\n",
    "dete_resignations_up['dissatisfied'] = dete_dissatisfied\n",
    "\n",
    "tafe_dissatisfied = tafe_resignations[tafe_cols].any(axis=1)\n",
    "print(tafe_dissatisfied.value_counts(dropna=False))\n",
    "tafe_resignations_up = tafe_resignations.copy()\n",
    "tafe_resignations_up['dissatisfied'] = tafe_dissatisfied"
   ]
  },
  {
   "cell_type": "markdown",
   "metadata": {},
   "source": [
    "Factors influencing dissatisfaction in the job have been collated for each survey. For any dissatisfaction factor that has been indicated as True, the entry in the respective new `dissatisfied` column has been marked as True to reflect that some dissatisfaction influenced a given employee's resignation.\n",
    "\n",
    "### Combining the Two Surveys"
   ]
  },
  {
   "cell_type": "code",
   "execution_count": 14,
   "metadata": {},
   "outputs": [],
   "source": [
    "dete_resignations_up['institute'] = 'DETE'\n",
    "tafe_resignations_up['institute'] = 'TAFE'\n",
    "combined = pd.concat([dete_resignations_up, tafe_resignations_up])\n",
    "combined_updated = combined.dropna(axis=1, thresh=500)"
   ]
  },
  {
   "cell_type": "markdown",
   "metadata": {},
   "source": [
    "A new column named `institute` has been added to each DataFrame; the two have then been concatenated together.\n",
    "\n",
    "### Categorising Service Lengths\n",
    "\n",
    "Service lengths from the `institute_service` column are cleaned below, so that they can then be categorised into a new `service_cat` column. The categories are as follows:\n",
    "- New: <3 years\n",
    "- Experienced: 3-7 years\n",
    "- Established: 7-10 years\n",
    "- Veteran: >10 years"
   ]
  },
  {
   "cell_type": "code",
   "execution_count": 15,
   "metadata": {
    "tags": []
   },
   "outputs": [
    {
     "output_type": "stream",
     "name": "stdout",
     "text": "nan                   88\nLess than 1 year      73\n1-2                   64\n3-4                   63\n5-6                   33\n11-20                 26\n5.0                   23\n1.0                   22\n7-10                  21\n0.0                   20\n3.0                   20\n6.0                   17\n4.0                   16\n2.0                   14\n9.0                   14\n7.0                   13\nMore than 20 years    10\n13.0                   8\n8.0                    8\n15.0                   7\n20.0                   7\n14.0                   6\n10.0                   6\n22.0                   6\n17.0                   6\n12.0                   6\n16.0                   5\n18.0                   5\n23.0                   4\n11.0                   4\n24.0                   4\n19.0                   3\n32.0                   3\n39.0                   3\n21.0                   3\n36.0                   2\n28.0                   2\n25.0                   2\n26.0                   2\n30.0                   2\n38.0                   1\n41.0                   1\n49.0                   1\n34.0                   1\n42.0                   1\n33.0                   1\n31.0                   1\n27.0                   1\n35.0                   1\n29.0                   1\nName: institute_service, dtype: int64\nnan     88\n1       73\n2       64\n4       63\n6       33\n15      26\n5.0     23\n1.0     22\n10      21\n3.0     20\n0.0     20\n6.0     17\n4.0     16\n9.0     14\n2.0     14\n7.0     13\n20      10\n8.0      8\n13.0     8\n20.0     7\n15.0     7\n12.0     6\n10.0     6\n14.0     6\n22.0     6\n17.0     6\n16.0     5\n18.0     5\n23.0     4\n11.0     4\n24.0     4\n19.0     3\n32.0     3\n39.0     3\n21.0     3\n36.0     2\n28.0     2\n26.0     2\n30.0     2\n25.0     2\n38.0     1\n41.0     1\n49.0     1\n34.0     1\n42.0     1\n33.0     1\n31.0     1\n27.0     1\n35.0     1\n29.0     1\nName: institute_service, dtype: int64\n"
    }
   ],
   "source": [
    "institute_service = combined_updated['institute_service'].astype(str).str.strip()\n",
    "print(institute_service.value_counts(dropna=False))\n",
    "str_replacements = {\n",
    "    'Less than 1 year' : '1',\n",
    "    '11-20' : '15',\n",
    "    '1-2' : '2',\n",
    "    '3-4' : '4',\n",
    "    '5-6' : '6',\n",
    "    '7-10' : '10',\n",
    "    'More than 20 years' : '20'\n",
    "}\n",
    "for item in str_replacements:\n",
    "    institute_service = institute_service.str.replace(item, str_replacements[item])\n",
    "print(institute_service.value_counts(dropna=False))\n",
    "combined_updated['institute_service'] = institute_service.astype(float)"
   ]
  },
  {
   "cell_type": "code",
   "execution_count": 16,
   "metadata": {
    "tags": []
   },
   "outputs": [
    {
     "output_type": "stream",
     "name": "stdout",
     "text": "New            193\nExperienced    172\nVeteran        163\nNaN             88\nEstablished     35\nName: institute_service, dtype: int64\n"
    }
   ],
   "source": [
    "def cat_service(val):\n",
    "    if pd.isnull(val):\n",
    "        return np.nan\n",
    "    elif val < 3:\n",
    "        return 'New'           # <3 years at company\n",
    "    elif 3 <= val < 7:\n",
    "        return 'Experienced'   # 3-6 years at company\n",
    "    elif 7 <= val < 10:\n",
    "        return 'Established'   # 7-10 years at company\n",
    "    else:\n",
    "        return 'Veteran'       # 11 or more years at company\n",
    "service_cat = combined_updated['institute_service'].apply(cat_service)\n",
    "print(service_cat.value_counts(dropna=False))\n",
    "combined_updated['service_cat'] = service_cat"
   ]
  },
  {
   "cell_type": "markdown",
   "metadata": {},
   "source": [
    "## Analysing Influence of Dissatisfaction\n",
    "\n",
    "Below is some very quick analysis of the frequency of dissatisfaction being cited as a reason for resigning from one of the two institutions explored in this project. There is so much more that could be done, but the focus for now has been on applying various techniques to clean and combine a couple of data sets for analysis. I may decide to pick this back up in the future to expand this section and do some deeper exploration of the influence of dissatisfaction on resignations.\n"
   ]
  },
  {
   "cell_type": "code",
   "execution_count": 17,
   "metadata": {
    "tags": []
   },
   "outputs": [
    {
     "output_type": "stream",
     "name": "stdout",
     "text": "False    411\nTrue     240\nName: dissatisfied, dtype: int64\n"
    },
    {
     "output_type": "display_data",
     "data": {
      "text/plain": "<Figure size 432x288 with 1 Axes>",
      "image/svg+xml": "<?xml version=\"1.0\" encoding=\"utf-8\" standalone=\"no\"?>\n<!DOCTYPE svg PUBLIC \"-//W3C//DTD SVG 1.1//EN\"\n  \"http://www.w3.org/Graphics/SVG/1.1/DTD/svg11.dtd\">\n<!-- Created with matplotlib (https://matplotlib.org/) -->\n<svg height=\"314.915pt\" version=\"1.1\" viewBox=\"0 0 372.103125 314.915\" width=\"372.103125pt\" xmlns=\"http://www.w3.org/2000/svg\" xmlns:xlink=\"http://www.w3.org/1999/xlink\">\n <defs>\n  <style type=\"text/css\">\n*{stroke-linecap:butt;stroke-linejoin:round;}\n  </style>\n </defs>\n <g id=\"figure_1\">\n  <g id=\"patch_1\">\n   <path d=\"M 0 314.915 \nL 372.103125 314.915 \nL 372.103125 0 \nL 0 0 \nz\n\" style=\"fill:none;\"/>\n  </g>\n  <g id=\"axes_1\">\n   <g id=\"patch_2\">\n    <path d=\"M 30.103125 224.64 \nL 364.903125 224.64 \nL 364.903125 7.2 \nL 30.103125 7.2 \nz\n\" style=\"fill:#ffffff;\"/>\n   </g>\n   <g id=\"patch_3\">\n    <path clip-path=\"url(#pd26fd835a5)\" d=\"M 51.028125 224.64 \nL 92.878125 224.64 \nL 92.878125 17.554286 \nL 51.028125 17.554286 \nz\n\" style=\"fill:#1f77b4;\"/>\n   </g>\n   <g id=\"patch_4\">\n    <path clip-path=\"url(#pd26fd835a5)\" d=\"M 134.728125 224.64 \nL 176.578125 224.64 \nL 176.578125 121.046977 \nL 134.728125 121.046977 \nz\n\" style=\"fill:#1f77b4;\"/>\n   </g>\n   <g id=\"patch_5\">\n    <path clip-path=\"url(#pd26fd835a5)\" d=\"M 218.428125 224.64 \nL 260.278125 224.64 \nL 260.278125 135.44829 \nL 218.428125 135.44829 \nz\n\" style=\"fill:#1f77b4;\"/>\n   </g>\n   <g id=\"patch_6\">\n    <path clip-path=\"url(#pd26fd835a5)\" d=\"M 302.128125 224.64 \nL 343.978125 224.64 \nL 343.978125 87.535706 \nL 302.128125 87.535706 \nz\n\" style=\"fill:#1f77b4;\"/>\n   </g>\n   <g id=\"matplotlib.axis_1\">\n    <g id=\"xtick_1\">\n     <g id=\"line2d_1\">\n      <defs>\n       <path d=\"M 0 0 \nL 0 3.5 \n\" id=\"me8fb577742\" style=\"stroke:#000000;stroke-width:0.8;\"/>\n      </defs>\n      <g>\n       <use style=\"stroke:#000000;stroke-width:0.8;\" x=\"71.953125\" xlink:href=\"#me8fb577742\" y=\"224.64\"/>\n      </g>\n     </g>\n     <g id=\"text_1\">\n      <!-- Established -->\n      <defs>\n       <path d=\"M 9.8125 72.90625 \nL 55.90625 72.90625 \nL 55.90625 64.59375 \nL 19.671875 64.59375 \nL 19.671875 43.015625 \nL 54.390625 43.015625 \nL 54.390625 34.71875 \nL 19.671875 34.71875 \nL 19.671875 8.296875 \nL 56.78125 8.296875 \nL 56.78125 0 \nL 9.8125 0 \nz\n\" id=\"DejaVuSans-69\"/>\n       <path d=\"M 44.28125 53.078125 \nL 44.28125 44.578125 \nQ 40.484375 46.53125 36.375 47.5 \nQ 32.28125 48.484375 27.875 48.484375 \nQ 21.1875 48.484375 17.84375 46.4375 \nQ 14.5 44.390625 14.5 40.28125 \nQ 14.5 37.15625 16.890625 35.375 \nQ 19.28125 33.59375 26.515625 31.984375 \nL 29.59375 31.296875 \nQ 39.15625 29.25 43.1875 25.515625 \nQ 47.21875 21.78125 47.21875 15.09375 \nQ 47.21875 7.46875 41.1875 3.015625 \nQ 35.15625 -1.421875 24.609375 -1.421875 \nQ 20.21875 -1.421875 15.453125 -0.5625 \nQ 10.6875 0.296875 5.421875 2 \nL 5.421875 11.28125 \nQ 10.40625 8.6875 15.234375 7.390625 \nQ 20.0625 6.109375 24.8125 6.109375 \nQ 31.15625 6.109375 34.5625 8.28125 \nQ 37.984375 10.453125 37.984375 14.40625 \nQ 37.984375 18.0625 35.515625 20.015625 \nQ 33.0625 21.96875 24.703125 23.78125 \nL 21.578125 24.515625 \nQ 13.234375 26.265625 9.515625 29.90625 \nQ 5.8125 33.546875 5.8125 39.890625 \nQ 5.8125 47.609375 11.28125 51.796875 \nQ 16.75 56 26.8125 56 \nQ 31.78125 56 36.171875 55.265625 \nQ 40.578125 54.546875 44.28125 53.078125 \nz\n\" id=\"DejaVuSans-115\"/>\n       <path d=\"M 18.3125 70.21875 \nL 18.3125 54.6875 \nL 36.8125 54.6875 \nL 36.8125 47.703125 \nL 18.3125 47.703125 \nL 18.3125 18.015625 \nQ 18.3125 11.328125 20.140625 9.421875 \nQ 21.96875 7.515625 27.59375 7.515625 \nL 36.8125 7.515625 \nL 36.8125 0 \nL 27.59375 0 \nQ 17.1875 0 13.234375 3.875 \nQ 9.28125 7.765625 9.28125 18.015625 \nL 9.28125 47.703125 \nL 2.6875 47.703125 \nL 2.6875 54.6875 \nL 9.28125 54.6875 \nL 9.28125 70.21875 \nz\n\" id=\"DejaVuSans-116\"/>\n       <path d=\"M 34.28125 27.484375 \nQ 23.390625 27.484375 19.1875 25 \nQ 14.984375 22.515625 14.984375 16.5 \nQ 14.984375 11.71875 18.140625 8.90625 \nQ 21.296875 6.109375 26.703125 6.109375 \nQ 34.1875 6.109375 38.703125 11.40625 \nQ 43.21875 16.703125 43.21875 25.484375 \nL 43.21875 27.484375 \nz\nM 52.203125 31.203125 \nL 52.203125 0 \nL 43.21875 0 \nL 43.21875 8.296875 \nQ 40.140625 3.328125 35.546875 0.953125 \nQ 30.953125 -1.421875 24.3125 -1.421875 \nQ 15.921875 -1.421875 10.953125 3.296875 \nQ 6 8.015625 6 15.921875 \nQ 6 25.140625 12.171875 29.828125 \nQ 18.359375 34.515625 30.609375 34.515625 \nL 43.21875 34.515625 \nL 43.21875 35.40625 \nQ 43.21875 41.609375 39.140625 45 \nQ 35.0625 48.390625 27.6875 48.390625 \nQ 23 48.390625 18.546875 47.265625 \nQ 14.109375 46.140625 10.015625 43.890625 \nL 10.015625 52.203125 \nQ 14.9375 54.109375 19.578125 55.046875 \nQ 24.21875 56 28.609375 56 \nQ 40.484375 56 46.34375 49.84375 \nQ 52.203125 43.703125 52.203125 31.203125 \nz\n\" id=\"DejaVuSans-97\"/>\n       <path d=\"M 48.6875 27.296875 \nQ 48.6875 37.203125 44.609375 42.84375 \nQ 40.53125 48.484375 33.40625 48.484375 \nQ 26.265625 48.484375 22.1875 42.84375 \nQ 18.109375 37.203125 18.109375 27.296875 \nQ 18.109375 17.390625 22.1875 11.75 \nQ 26.265625 6.109375 33.40625 6.109375 \nQ 40.53125 6.109375 44.609375 11.75 \nQ 48.6875 17.390625 48.6875 27.296875 \nz\nM 18.109375 46.390625 \nQ 20.953125 51.265625 25.265625 53.625 \nQ 29.59375 56 35.59375 56 \nQ 45.5625 56 51.78125 48.09375 \nQ 58.015625 40.1875 58.015625 27.296875 \nQ 58.015625 14.40625 51.78125 6.484375 \nQ 45.5625 -1.421875 35.59375 -1.421875 \nQ 29.59375 -1.421875 25.265625 0.953125 \nQ 20.953125 3.328125 18.109375 8.203125 \nL 18.109375 0 \nL 9.078125 0 \nL 9.078125 75.984375 \nL 18.109375 75.984375 \nz\n\" id=\"DejaVuSans-98\"/>\n       <path d=\"M 9.421875 75.984375 \nL 18.40625 75.984375 \nL 18.40625 0 \nL 9.421875 0 \nz\n\" id=\"DejaVuSans-108\"/>\n       <path d=\"M 9.421875 54.6875 \nL 18.40625 54.6875 \nL 18.40625 0 \nL 9.421875 0 \nz\nM 9.421875 75.984375 \nL 18.40625 75.984375 \nL 18.40625 64.59375 \nL 9.421875 64.59375 \nz\n\" id=\"DejaVuSans-105\"/>\n       <path d=\"M 54.890625 33.015625 \nL 54.890625 0 \nL 45.90625 0 \nL 45.90625 32.71875 \nQ 45.90625 40.484375 42.875 44.328125 \nQ 39.84375 48.1875 33.796875 48.1875 \nQ 26.515625 48.1875 22.3125 43.546875 \nQ 18.109375 38.921875 18.109375 30.90625 \nL 18.109375 0 \nL 9.078125 0 \nL 9.078125 75.984375 \nL 18.109375 75.984375 \nL 18.109375 46.1875 \nQ 21.34375 51.125 25.703125 53.5625 \nQ 30.078125 56 35.796875 56 \nQ 45.21875 56 50.046875 50.171875 \nQ 54.890625 44.34375 54.890625 33.015625 \nz\n\" id=\"DejaVuSans-104\"/>\n       <path d=\"M 56.203125 29.59375 \nL 56.203125 25.203125 \nL 14.890625 25.203125 \nQ 15.484375 15.921875 20.484375 11.0625 \nQ 25.484375 6.203125 34.421875 6.203125 \nQ 39.59375 6.203125 44.453125 7.46875 \nQ 49.3125 8.734375 54.109375 11.28125 \nL 54.109375 2.78125 \nQ 49.265625 0.734375 44.1875 -0.34375 \nQ 39.109375 -1.421875 33.890625 -1.421875 \nQ 20.796875 -1.421875 13.15625 6.1875 \nQ 5.515625 13.8125 5.515625 26.8125 \nQ 5.515625 40.234375 12.765625 48.109375 \nQ 20.015625 56 32.328125 56 \nQ 43.359375 56 49.78125 48.890625 \nQ 56.203125 41.796875 56.203125 29.59375 \nz\nM 47.21875 32.234375 \nQ 47.125 39.59375 43.09375 43.984375 \nQ 39.0625 48.390625 32.421875 48.390625 \nQ 24.90625 48.390625 20.390625 44.140625 \nQ 15.875 39.890625 15.1875 32.171875 \nz\n\" id=\"DejaVuSans-101\"/>\n       <path d=\"M 45.40625 46.390625 \nL 45.40625 75.984375 \nL 54.390625 75.984375 \nL 54.390625 0 \nL 45.40625 0 \nL 45.40625 8.203125 \nQ 42.578125 3.328125 38.25 0.953125 \nQ 33.9375 -1.421875 27.875 -1.421875 \nQ 17.96875 -1.421875 11.734375 6.484375 \nQ 5.515625 14.40625 5.515625 27.296875 \nQ 5.515625 40.1875 11.734375 48.09375 \nQ 17.96875 56 27.875 56 \nQ 33.9375 56 38.25 53.625 \nQ 42.578125 51.265625 45.40625 46.390625 \nz\nM 14.796875 27.296875 \nQ 14.796875 17.390625 18.875 11.75 \nQ 22.953125 6.109375 30.078125 6.109375 \nQ 37.203125 6.109375 41.296875 11.75 \nQ 45.40625 17.390625 45.40625 27.296875 \nQ 45.40625 37.203125 41.296875 42.84375 \nQ 37.203125 48.484375 30.078125 48.484375 \nQ 22.953125 48.484375 18.875 42.84375 \nQ 14.796875 37.203125 14.796875 27.296875 \nz\n\" id=\"DejaVuSans-100\"/>\n      </defs>\n      <g transform=\"translate(74.7125 289.169687)rotate(-90)scale(0.1 -0.1)\">\n       <use xlink:href=\"#DejaVuSans-69\"/>\n       <use x=\"63.183594\" xlink:href=\"#DejaVuSans-115\"/>\n       <use x=\"115.283203\" xlink:href=\"#DejaVuSans-116\"/>\n       <use x=\"154.492188\" xlink:href=\"#DejaVuSans-97\"/>\n       <use x=\"215.771484\" xlink:href=\"#DejaVuSans-98\"/>\n       <use x=\"279.248047\" xlink:href=\"#DejaVuSans-108\"/>\n       <use x=\"307.03125\" xlink:href=\"#DejaVuSans-105\"/>\n       <use x=\"334.814453\" xlink:href=\"#DejaVuSans-115\"/>\n       <use x=\"386.914062\" xlink:href=\"#DejaVuSans-104\"/>\n       <use x=\"450.292969\" xlink:href=\"#DejaVuSans-101\"/>\n       <use x=\"511.816406\" xlink:href=\"#DejaVuSans-100\"/>\n      </g>\n     </g>\n    </g>\n    <g id=\"xtick_2\">\n     <g id=\"line2d_2\">\n      <g>\n       <use style=\"stroke:#000000;stroke-width:0.8;\" x=\"155.653125\" xlink:href=\"#me8fb577742\" y=\"224.64\"/>\n      </g>\n     </g>\n     <g id=\"text_2\">\n      <!-- Experienced -->\n      <defs>\n       <path d=\"M 54.890625 54.6875 \nL 35.109375 28.078125 \nL 55.90625 0 \nL 45.3125 0 \nL 29.390625 21.484375 \nL 13.484375 0 \nL 2.875 0 \nL 24.125 28.609375 \nL 4.6875 54.6875 \nL 15.28125 54.6875 \nL 29.78125 35.203125 \nL 44.28125 54.6875 \nz\n\" id=\"DejaVuSans-120\"/>\n       <path d=\"M 18.109375 8.203125 \nL 18.109375 -20.796875 \nL 9.078125 -20.796875 \nL 9.078125 54.6875 \nL 18.109375 54.6875 \nL 18.109375 46.390625 \nQ 20.953125 51.265625 25.265625 53.625 \nQ 29.59375 56 35.59375 56 \nQ 45.5625 56 51.78125 48.09375 \nQ 58.015625 40.1875 58.015625 27.296875 \nQ 58.015625 14.40625 51.78125 6.484375 \nQ 45.5625 -1.421875 35.59375 -1.421875 \nQ 29.59375 -1.421875 25.265625 0.953125 \nQ 20.953125 3.328125 18.109375 8.203125 \nz\nM 48.6875 27.296875 \nQ 48.6875 37.203125 44.609375 42.84375 \nQ 40.53125 48.484375 33.40625 48.484375 \nQ 26.265625 48.484375 22.1875 42.84375 \nQ 18.109375 37.203125 18.109375 27.296875 \nQ 18.109375 17.390625 22.1875 11.75 \nQ 26.265625 6.109375 33.40625 6.109375 \nQ 40.53125 6.109375 44.609375 11.75 \nQ 48.6875 17.390625 48.6875 27.296875 \nz\n\" id=\"DejaVuSans-112\"/>\n       <path d=\"M 41.109375 46.296875 \nQ 39.59375 47.171875 37.8125 47.578125 \nQ 36.03125 48 33.890625 48 \nQ 26.265625 48 22.1875 43.046875 \nQ 18.109375 38.09375 18.109375 28.8125 \nL 18.109375 0 \nL 9.078125 0 \nL 9.078125 54.6875 \nL 18.109375 54.6875 \nL 18.109375 46.1875 \nQ 20.953125 51.171875 25.484375 53.578125 \nQ 30.03125 56 36.53125 56 \nQ 37.453125 56 38.578125 55.875 \nQ 39.703125 55.765625 41.0625 55.515625 \nz\n\" id=\"DejaVuSans-114\"/>\n       <path d=\"M 54.890625 33.015625 \nL 54.890625 0 \nL 45.90625 0 \nL 45.90625 32.71875 \nQ 45.90625 40.484375 42.875 44.328125 \nQ 39.84375 48.1875 33.796875 48.1875 \nQ 26.515625 48.1875 22.3125 43.546875 \nQ 18.109375 38.921875 18.109375 30.90625 \nL 18.109375 0 \nL 9.078125 0 \nL 9.078125 54.6875 \nL 18.109375 54.6875 \nL 18.109375 46.1875 \nQ 21.34375 51.125 25.703125 53.5625 \nQ 30.078125 56 35.796875 56 \nQ 45.21875 56 50.046875 50.171875 \nQ 54.890625 44.34375 54.890625 33.015625 \nz\n\" id=\"DejaVuSans-110\"/>\n       <path d=\"M 48.78125 52.59375 \nL 48.78125 44.1875 \nQ 44.96875 46.296875 41.140625 47.34375 \nQ 37.3125 48.390625 33.40625 48.390625 \nQ 24.65625 48.390625 19.8125 42.84375 \nQ 14.984375 37.3125 14.984375 27.296875 \nQ 14.984375 17.28125 19.8125 11.734375 \nQ 24.65625 6.203125 33.40625 6.203125 \nQ 37.3125 6.203125 41.140625 7.25 \nQ 44.96875 8.296875 48.78125 10.40625 \nL 48.78125 2.09375 \nQ 45.015625 0.34375 40.984375 -0.53125 \nQ 36.96875 -1.421875 32.421875 -1.421875 \nQ 20.0625 -1.421875 12.78125 6.34375 \nQ 5.515625 14.109375 5.515625 27.296875 \nQ 5.515625 40.671875 12.859375 48.328125 \nQ 20.21875 56 33.015625 56 \nQ 37.15625 56 41.109375 55.140625 \nQ 45.0625 54.296875 48.78125 52.59375 \nz\n\" id=\"DejaVuSans-99\"/>\n      </defs>\n      <g transform=\"translate(158.4125 293.75875)rotate(-90)scale(0.1 -0.1)\">\n       <use xlink:href=\"#DejaVuSans-69\"/>\n       <use x=\"63.183594\" xlink:href=\"#DejaVuSans-120\"/>\n       <use x=\"122.363281\" xlink:href=\"#DejaVuSans-112\"/>\n       <use x=\"185.839844\" xlink:href=\"#DejaVuSans-101\"/>\n       <use x=\"247.363281\" xlink:href=\"#DejaVuSans-114\"/>\n       <use x=\"288.476562\" xlink:href=\"#DejaVuSans-105\"/>\n       <use x=\"316.259766\" xlink:href=\"#DejaVuSans-101\"/>\n       <use x=\"377.783203\" xlink:href=\"#DejaVuSans-110\"/>\n       <use x=\"441.162109\" xlink:href=\"#DejaVuSans-99\"/>\n       <use x=\"496.142578\" xlink:href=\"#DejaVuSans-101\"/>\n       <use x=\"557.666016\" xlink:href=\"#DejaVuSans-100\"/>\n      </g>\n     </g>\n    </g>\n    <g id=\"xtick_3\">\n     <g id=\"line2d_3\">\n      <g>\n       <use style=\"stroke:#000000;stroke-width:0.8;\" x=\"239.353125\" xlink:href=\"#me8fb577742\" y=\"224.64\"/>\n      </g>\n     </g>\n     <g id=\"text_3\">\n      <!-- New -->\n      <defs>\n       <path d=\"M 9.8125 72.90625 \nL 23.09375 72.90625 \nL 55.421875 11.921875 \nL 55.421875 72.90625 \nL 64.984375 72.90625 \nL 64.984375 0 \nL 51.703125 0 \nL 19.390625 60.984375 \nL 19.390625 0 \nL 9.8125 0 \nz\n\" id=\"DejaVuSans-78\"/>\n       <path d=\"M 4.203125 54.6875 \nL 13.1875 54.6875 \nL 24.421875 12.015625 \nL 35.59375 54.6875 \nL 46.1875 54.6875 \nL 57.421875 12.015625 \nL 68.609375 54.6875 \nL 77.59375 54.6875 \nL 63.28125 0 \nL 52.6875 0 \nL 40.921875 44.828125 \nL 29.109375 0 \nL 18.5 0 \nz\n\" id=\"DejaVuSans-119\"/>\n      </defs>\n      <g transform=\"translate(242.1125 253.4525)rotate(-90)scale(0.1 -0.1)\">\n       <use xlink:href=\"#DejaVuSans-78\"/>\n       <use x=\"74.804688\" xlink:href=\"#DejaVuSans-101\"/>\n       <use x=\"136.328125\" xlink:href=\"#DejaVuSans-119\"/>\n      </g>\n     </g>\n    </g>\n    <g id=\"xtick_4\">\n     <g id=\"line2d_4\">\n      <g>\n       <use style=\"stroke:#000000;stroke-width:0.8;\" x=\"323.053125\" xlink:href=\"#me8fb577742\" y=\"224.64\"/>\n      </g>\n     </g>\n     <g id=\"text_4\">\n      <!-- Veteran -->\n      <defs>\n       <path d=\"M 28.609375 0 \nL 0.78125 72.90625 \nL 11.078125 72.90625 \nL 34.1875 11.53125 \nL 57.328125 72.90625 \nL 67.578125 72.90625 \nL 39.796875 0 \nz\n\" id=\"DejaVuSans-86\"/>\n      </defs>\n      <g transform=\"translate(325.8125 270.50875)rotate(-90)scale(0.1 -0.1)\">\n       <use xlink:href=\"#DejaVuSans-86\"/>\n       <use x=\"60.658203\" xlink:href=\"#DejaVuSans-101\"/>\n       <use x=\"122.181641\" xlink:href=\"#DejaVuSans-116\"/>\n       <use x=\"161.390625\" xlink:href=\"#DejaVuSans-101\"/>\n       <use x=\"222.914062\" xlink:href=\"#DejaVuSans-114\"/>\n       <use x=\"264.027344\" xlink:href=\"#DejaVuSans-97\"/>\n       <use x=\"325.306641\" xlink:href=\"#DejaVuSans-110\"/>\n      </g>\n     </g>\n    </g>\n    <g id=\"text_5\">\n     <!-- service_cat -->\n     <defs>\n      <path d=\"M 2.984375 54.6875 \nL 12.5 54.6875 \nL 29.59375 8.796875 \nL 46.6875 54.6875 \nL 56.203125 54.6875 \nL 35.6875 0 \nL 23.484375 0 \nz\n\" id=\"DejaVuSans-118\"/>\n      <path d=\"M 50.984375 -16.609375 \nL 50.984375 -23.578125 \nL -0.984375 -23.578125 \nL -0.984375 -16.609375 \nz\n\" id=\"DejaVuSans-95\"/>\n     </defs>\n     <g transform=\"translate(169.31875 305.357187)scale(0.1 -0.1)\">\n      <use xlink:href=\"#DejaVuSans-115\"/>\n      <use x=\"52.099609\" xlink:href=\"#DejaVuSans-101\"/>\n      <use x=\"113.623047\" xlink:href=\"#DejaVuSans-114\"/>\n      <use x=\"154.736328\" xlink:href=\"#DejaVuSans-118\"/>\n      <use x=\"213.916016\" xlink:href=\"#DejaVuSans-105\"/>\n      <use x=\"241.699219\" xlink:href=\"#DejaVuSans-99\"/>\n      <use x=\"296.679688\" xlink:href=\"#DejaVuSans-101\"/>\n      <use x=\"358.203125\" xlink:href=\"#DejaVuSans-95\"/>\n      <use x=\"408.203125\" xlink:href=\"#DejaVuSans-99\"/>\n      <use x=\"463.183594\" xlink:href=\"#DejaVuSans-97\"/>\n      <use x=\"524.462891\" xlink:href=\"#DejaVuSans-116\"/>\n     </g>\n    </g>\n   </g>\n   <g id=\"matplotlib.axis_2\">\n    <g id=\"ytick_1\">\n     <g id=\"line2d_5\">\n      <defs>\n       <path d=\"M 0 0 \nL -3.5 0 \n\" id=\"m534884ff84\" style=\"stroke:#000000;stroke-width:0.8;\"/>\n      </defs>\n      <g>\n       <use style=\"stroke:#000000;stroke-width:0.8;\" x=\"30.103125\" xlink:href=\"#m534884ff84\" y=\"224.64\"/>\n      </g>\n     </g>\n     <g id=\"text_6\">\n      <!-- 0.0 -->\n      <defs>\n       <path d=\"M 31.78125 66.40625 \nQ 24.171875 66.40625 20.328125 58.90625 \nQ 16.5 51.421875 16.5 36.375 \nQ 16.5 21.390625 20.328125 13.890625 \nQ 24.171875 6.390625 31.78125 6.390625 \nQ 39.453125 6.390625 43.28125 13.890625 \nQ 47.125 21.390625 47.125 36.375 \nQ 47.125 51.421875 43.28125 58.90625 \nQ 39.453125 66.40625 31.78125 66.40625 \nz\nM 31.78125 74.21875 \nQ 44.046875 74.21875 50.515625 64.515625 \nQ 56.984375 54.828125 56.984375 36.375 \nQ 56.984375 17.96875 50.515625 8.265625 \nQ 44.046875 -1.421875 31.78125 -1.421875 \nQ 19.53125 -1.421875 13.0625 8.265625 \nQ 6.59375 17.96875 6.59375 36.375 \nQ 6.59375 54.828125 13.0625 64.515625 \nQ 19.53125 74.21875 31.78125 74.21875 \nz\n\" id=\"DejaVuSans-48\"/>\n       <path d=\"M 10.6875 12.40625 \nL 21 12.40625 \nL 21 0 \nL 10.6875 0 \nz\n\" id=\"DejaVuSans-46\"/>\n      </defs>\n      <g transform=\"translate(7.2 228.439219)scale(0.1 -0.1)\">\n       <use xlink:href=\"#DejaVuSans-48\"/>\n       <use x=\"63.623047\" xlink:href=\"#DejaVuSans-46\"/>\n       <use x=\"95.410156\" xlink:href=\"#DejaVuSans-48\"/>\n      </g>\n     </g>\n    </g>\n    <g id=\"ytick_2\">\n     <g id=\"line2d_6\">\n      <g>\n       <use style=\"stroke:#000000;stroke-width:0.8;\" x=\"30.103125\" xlink:href=\"#m534884ff84\" y=\"194.44\"/>\n      </g>\n     </g>\n     <g id=\"text_7\">\n      <!-- 0.1 -->\n      <defs>\n       <path d=\"M 12.40625 8.296875 \nL 28.515625 8.296875 \nL 28.515625 63.921875 \nL 10.984375 60.40625 \nL 10.984375 69.390625 \nL 28.421875 72.90625 \nL 38.28125 72.90625 \nL 38.28125 8.296875 \nL 54.390625 8.296875 \nL 54.390625 0 \nL 12.40625 0 \nz\n\" id=\"DejaVuSans-49\"/>\n      </defs>\n      <g transform=\"translate(7.2 198.239219)scale(0.1 -0.1)\">\n       <use xlink:href=\"#DejaVuSans-48\"/>\n       <use x=\"63.623047\" xlink:href=\"#DejaVuSans-46\"/>\n       <use x=\"95.410156\" xlink:href=\"#DejaVuSans-49\"/>\n      </g>\n     </g>\n    </g>\n    <g id=\"ytick_3\">\n     <g id=\"line2d_7\">\n      <g>\n       <use style=\"stroke:#000000;stroke-width:0.8;\" x=\"30.103125\" xlink:href=\"#m534884ff84\" y=\"164.24\"/>\n      </g>\n     </g>\n     <g id=\"text_8\">\n      <!-- 0.2 -->\n      <defs>\n       <path d=\"M 19.1875 8.296875 \nL 53.609375 8.296875 \nL 53.609375 0 \nL 7.328125 0 \nL 7.328125 8.296875 \nQ 12.9375 14.109375 22.625 23.890625 \nQ 32.328125 33.6875 34.8125 36.53125 \nQ 39.546875 41.84375 41.421875 45.53125 \nQ 43.3125 49.21875 43.3125 52.78125 \nQ 43.3125 58.59375 39.234375 62.25 \nQ 35.15625 65.921875 28.609375 65.921875 \nQ 23.96875 65.921875 18.8125 64.3125 \nQ 13.671875 62.703125 7.8125 59.421875 \nL 7.8125 69.390625 \nQ 13.765625 71.78125 18.9375 73 \nQ 24.125 74.21875 28.421875 74.21875 \nQ 39.75 74.21875 46.484375 68.546875 \nQ 53.21875 62.890625 53.21875 53.421875 \nQ 53.21875 48.921875 51.53125 44.890625 \nQ 49.859375 40.875 45.40625 35.40625 \nQ 44.1875 33.984375 37.640625 27.21875 \nQ 31.109375 20.453125 19.1875 8.296875 \nz\n\" id=\"DejaVuSans-50\"/>\n      </defs>\n      <g transform=\"translate(7.2 168.039219)scale(0.1 -0.1)\">\n       <use xlink:href=\"#DejaVuSans-48\"/>\n       <use x=\"63.623047\" xlink:href=\"#DejaVuSans-46\"/>\n       <use x=\"95.410156\" xlink:href=\"#DejaVuSans-50\"/>\n      </g>\n     </g>\n    </g>\n    <g id=\"ytick_4\">\n     <g id=\"line2d_8\">\n      <g>\n       <use style=\"stroke:#000000;stroke-width:0.8;\" x=\"30.103125\" xlink:href=\"#m534884ff84\" y=\"134.04\"/>\n      </g>\n     </g>\n     <g id=\"text_9\">\n      <!-- 0.3 -->\n      <defs>\n       <path d=\"M 40.578125 39.3125 \nQ 47.65625 37.796875 51.625 33 \nQ 55.609375 28.21875 55.609375 21.1875 \nQ 55.609375 10.40625 48.1875 4.484375 \nQ 40.765625 -1.421875 27.09375 -1.421875 \nQ 22.515625 -1.421875 17.65625 -0.515625 \nQ 12.796875 0.390625 7.625 2.203125 \nL 7.625 11.71875 \nQ 11.71875 9.328125 16.59375 8.109375 \nQ 21.484375 6.890625 26.8125 6.890625 \nQ 36.078125 6.890625 40.9375 10.546875 \nQ 45.796875 14.203125 45.796875 21.1875 \nQ 45.796875 27.640625 41.28125 31.265625 \nQ 36.765625 34.90625 28.71875 34.90625 \nL 20.21875 34.90625 \nL 20.21875 43.015625 \nL 29.109375 43.015625 \nQ 36.375 43.015625 40.234375 45.921875 \nQ 44.09375 48.828125 44.09375 54.296875 \nQ 44.09375 59.90625 40.109375 62.90625 \nQ 36.140625 65.921875 28.71875 65.921875 \nQ 24.65625 65.921875 20.015625 65.03125 \nQ 15.375 64.15625 9.8125 62.3125 \nL 9.8125 71.09375 \nQ 15.4375 72.65625 20.34375 73.4375 \nQ 25.25 74.21875 29.59375 74.21875 \nQ 40.828125 74.21875 47.359375 69.109375 \nQ 53.90625 64.015625 53.90625 55.328125 \nQ 53.90625 49.265625 50.4375 45.09375 \nQ 46.96875 40.921875 40.578125 39.3125 \nz\n\" id=\"DejaVuSans-51\"/>\n      </defs>\n      <g transform=\"translate(7.2 137.839219)scale(0.1 -0.1)\">\n       <use xlink:href=\"#DejaVuSans-48\"/>\n       <use x=\"63.623047\" xlink:href=\"#DejaVuSans-46\"/>\n       <use x=\"95.410156\" xlink:href=\"#DejaVuSans-51\"/>\n      </g>\n     </g>\n    </g>\n    <g id=\"ytick_5\">\n     <g id=\"line2d_9\">\n      <g>\n       <use style=\"stroke:#000000;stroke-width:0.8;\" x=\"30.103125\" xlink:href=\"#m534884ff84\" y=\"103.84\"/>\n      </g>\n     </g>\n     <g id=\"text_10\">\n      <!-- 0.4 -->\n      <defs>\n       <path d=\"M 37.796875 64.3125 \nL 12.890625 25.390625 \nL 37.796875 25.390625 \nz\nM 35.203125 72.90625 \nL 47.609375 72.90625 \nL 47.609375 25.390625 \nL 58.015625 25.390625 \nL 58.015625 17.1875 \nL 47.609375 17.1875 \nL 47.609375 0 \nL 37.796875 0 \nL 37.796875 17.1875 \nL 4.890625 17.1875 \nL 4.890625 26.703125 \nz\n\" id=\"DejaVuSans-52\"/>\n      </defs>\n      <g transform=\"translate(7.2 107.639219)scale(0.1 -0.1)\">\n       <use xlink:href=\"#DejaVuSans-48\"/>\n       <use x=\"63.623047\" xlink:href=\"#DejaVuSans-46\"/>\n       <use x=\"95.410156\" xlink:href=\"#DejaVuSans-52\"/>\n      </g>\n     </g>\n    </g>\n    <g id=\"ytick_6\">\n     <g id=\"line2d_10\">\n      <g>\n       <use style=\"stroke:#000000;stroke-width:0.8;\" x=\"30.103125\" xlink:href=\"#m534884ff84\" y=\"73.64\"/>\n      </g>\n     </g>\n     <g id=\"text_11\">\n      <!-- 0.5 -->\n      <defs>\n       <path d=\"M 10.796875 72.90625 \nL 49.515625 72.90625 \nL 49.515625 64.59375 \nL 19.828125 64.59375 \nL 19.828125 46.734375 \nQ 21.96875 47.46875 24.109375 47.828125 \nQ 26.265625 48.1875 28.421875 48.1875 \nQ 40.625 48.1875 47.75 41.5 \nQ 54.890625 34.8125 54.890625 23.390625 \nQ 54.890625 11.625 47.5625 5.09375 \nQ 40.234375 -1.421875 26.90625 -1.421875 \nQ 22.3125 -1.421875 17.546875 -0.640625 \nQ 12.796875 0.140625 7.71875 1.703125 \nL 7.71875 11.625 \nQ 12.109375 9.234375 16.796875 8.0625 \nQ 21.484375 6.890625 26.703125 6.890625 \nQ 35.15625 6.890625 40.078125 11.328125 \nQ 45.015625 15.765625 45.015625 23.390625 \nQ 45.015625 31 40.078125 35.4375 \nQ 35.15625 39.890625 26.703125 39.890625 \nQ 22.75 39.890625 18.8125 39.015625 \nQ 14.890625 38.140625 10.796875 36.28125 \nz\n\" id=\"DejaVuSans-53\"/>\n      </defs>\n      <g transform=\"translate(7.2 77.439219)scale(0.1 -0.1)\">\n       <use xlink:href=\"#DejaVuSans-48\"/>\n       <use x=\"63.623047\" xlink:href=\"#DejaVuSans-46\"/>\n       <use x=\"95.410156\" xlink:href=\"#DejaVuSans-53\"/>\n      </g>\n     </g>\n    </g>\n    <g id=\"ytick_7\">\n     <g id=\"line2d_11\">\n      <g>\n       <use style=\"stroke:#000000;stroke-width:0.8;\" x=\"30.103125\" xlink:href=\"#m534884ff84\" y=\"43.44\"/>\n      </g>\n     </g>\n     <g id=\"text_12\">\n      <!-- 0.6 -->\n      <defs>\n       <path d=\"M 33.015625 40.375 \nQ 26.375 40.375 22.484375 35.828125 \nQ 18.609375 31.296875 18.609375 23.390625 \nQ 18.609375 15.53125 22.484375 10.953125 \nQ 26.375 6.390625 33.015625 6.390625 \nQ 39.65625 6.390625 43.53125 10.953125 \nQ 47.40625 15.53125 47.40625 23.390625 \nQ 47.40625 31.296875 43.53125 35.828125 \nQ 39.65625 40.375 33.015625 40.375 \nz\nM 52.59375 71.296875 \nL 52.59375 62.3125 \nQ 48.875 64.0625 45.09375 64.984375 \nQ 41.3125 65.921875 37.59375 65.921875 \nQ 27.828125 65.921875 22.671875 59.328125 \nQ 17.53125 52.734375 16.796875 39.40625 \nQ 19.671875 43.65625 24.015625 45.921875 \nQ 28.375 48.1875 33.59375 48.1875 \nQ 44.578125 48.1875 50.953125 41.515625 \nQ 57.328125 34.859375 57.328125 23.390625 \nQ 57.328125 12.15625 50.6875 5.359375 \nQ 44.046875 -1.421875 33.015625 -1.421875 \nQ 20.359375 -1.421875 13.671875 8.265625 \nQ 6.984375 17.96875 6.984375 36.375 \nQ 6.984375 53.65625 15.1875 63.9375 \nQ 23.390625 74.21875 37.203125 74.21875 \nQ 40.921875 74.21875 44.703125 73.484375 \nQ 48.484375 72.75 52.59375 71.296875 \nz\n\" id=\"DejaVuSans-54\"/>\n      </defs>\n      <g transform=\"translate(7.2 47.239219)scale(0.1 -0.1)\">\n       <use xlink:href=\"#DejaVuSans-48\"/>\n       <use x=\"63.623047\" xlink:href=\"#DejaVuSans-46\"/>\n       <use x=\"95.410156\" xlink:href=\"#DejaVuSans-54\"/>\n      </g>\n     </g>\n    </g>\n    <g id=\"ytick_8\">\n     <g id=\"line2d_12\">\n      <g>\n       <use style=\"stroke:#000000;stroke-width:0.8;\" x=\"30.103125\" xlink:href=\"#m534884ff84\" y=\"13.24\"/>\n      </g>\n     </g>\n     <g id=\"text_13\">\n      <!-- 0.7 -->\n      <defs>\n       <path d=\"M 8.203125 72.90625 \nL 55.078125 72.90625 \nL 55.078125 68.703125 \nL 28.609375 0 \nL 18.3125 0 \nL 43.21875 64.59375 \nL 8.203125 64.59375 \nz\n\" id=\"DejaVuSans-55\"/>\n      </defs>\n      <g transform=\"translate(7.2 17.039219)scale(0.1 -0.1)\">\n       <use xlink:href=\"#DejaVuSans-48\"/>\n       <use x=\"63.623047\" xlink:href=\"#DejaVuSans-46\"/>\n       <use x=\"95.410156\" xlink:href=\"#DejaVuSans-55\"/>\n      </g>\n     </g>\n    </g>\n   </g>\n   <g id=\"patch_7\">\n    <path d=\"M 30.103125 224.64 \nL 30.103125 7.2 \n\" style=\"fill:none;stroke:#000000;stroke-linecap:square;stroke-linejoin:miter;stroke-width:0.8;\"/>\n   </g>\n   <g id=\"patch_8\">\n    <path d=\"M 364.903125 224.64 \nL 364.903125 7.2 \n\" style=\"fill:none;stroke:#000000;stroke-linecap:square;stroke-linejoin:miter;stroke-width:0.8;\"/>\n   </g>\n   <g id=\"patch_9\">\n    <path d=\"M 30.103125 224.64 \nL 364.903125 224.64 \n\" style=\"fill:none;stroke:#000000;stroke-linecap:square;stroke-linejoin:miter;stroke-width:0.8;\"/>\n   </g>\n   <g id=\"patch_10\">\n    <path d=\"M 30.103125 7.2 \nL 364.903125 7.2 \n\" style=\"fill:none;stroke:#000000;stroke-linecap:square;stroke-linejoin:miter;stroke-width:0.8;\"/>\n   </g>\n   <g id=\"legend_1\">\n    <g id=\"patch_11\">\n     <path d=\"M 269.521875 29.878125 \nL 357.903125 29.878125 \nQ 359.903125 29.878125 359.903125 27.878125 \nL 359.903125 14.2 \nQ 359.903125 12.2 357.903125 12.2 \nL 269.521875 12.2 \nQ 267.521875 12.2 267.521875 14.2 \nL 267.521875 27.878125 \nQ 267.521875 29.878125 269.521875 29.878125 \nz\n\" style=\"fill:#ffffff;opacity:0.8;stroke:#cccccc;stroke-linejoin:miter;\"/>\n    </g>\n    <g id=\"patch_12\">\n     <path d=\"M 271.521875 23.798437 \nL 291.521875 23.798437 \nL 291.521875 16.798437 \nL 271.521875 16.798437 \nz\n\" style=\"fill:#1f77b4;\"/>\n    </g>\n    <g id=\"text_14\">\n     <!-- dissatisfied -->\n     <defs>\n      <path d=\"M 37.109375 75.984375 \nL 37.109375 68.5 \nL 28.515625 68.5 \nQ 23.6875 68.5 21.796875 66.546875 \nQ 19.921875 64.59375 19.921875 59.515625 \nL 19.921875 54.6875 \nL 34.71875 54.6875 \nL 34.71875 47.703125 \nL 19.921875 47.703125 \nL 19.921875 0 \nL 10.890625 0 \nL 10.890625 47.703125 \nL 2.296875 47.703125 \nL 2.296875 54.6875 \nL 10.890625 54.6875 \nL 10.890625 58.5 \nQ 10.890625 67.625 15.140625 71.796875 \nQ 19.390625 75.984375 28.609375 75.984375 \nz\n\" id=\"DejaVuSans-102\"/>\n     </defs>\n     <g transform=\"translate(299.521875 23.798437)scale(0.1 -0.1)\">\n      <use xlink:href=\"#DejaVuSans-100\"/>\n      <use x=\"63.476562\" xlink:href=\"#DejaVuSans-105\"/>\n      <use x=\"91.259766\" xlink:href=\"#DejaVuSans-115\"/>\n      <use x=\"143.359375\" xlink:href=\"#DejaVuSans-115\"/>\n      <use x=\"195.458984\" xlink:href=\"#DejaVuSans-97\"/>\n      <use x=\"256.738281\" xlink:href=\"#DejaVuSans-116\"/>\n      <use x=\"295.947266\" xlink:href=\"#DejaVuSans-105\"/>\n      <use x=\"323.730469\" xlink:href=\"#DejaVuSans-115\"/>\n      <use x=\"375.830078\" xlink:href=\"#DejaVuSans-102\"/>\n      <use x=\"411.035156\" xlink:href=\"#DejaVuSans-105\"/>\n      <use x=\"438.818359\" xlink:href=\"#DejaVuSans-101\"/>\n      <use x=\"500.341797\" xlink:href=\"#DejaVuSans-100\"/>\n     </g>\n    </g>\n   </g>\n  </g>\n </g>\n <defs>\n  <clipPath id=\"pd26fd835a5\">\n   <rect height=\"217.44\" width=\"334.8\" x=\"30.103125\" y=\"7.2\"/>\n  </clipPath>\n </defs>\n</svg>\n",
      "image/png": "[encoded data removed]"
     },
     "metadata": {
      "needs_background": "light"
     }
    }
   ],
   "source": [
    "print(combined_updated['dissatisfied'].value_counts(dropna=False))\n",
    "diss_agg = combined_updated.pivot_table(index='service_cat', values='dissatisfied')\n",
    "\n",
    "import matplotlib.pyplot as plt\n",
    "%matplotlib inline\n",
    "diss_agg.plot(kind='bar')\n",
    "plt.show()"
   ]
  },
  {
   "cell_type": "markdown",
   "metadata": {},
   "source": [
    "There is a generally a significant influence of dissatisfaction in the reason for employees to resign from these institutions. Interestingly, those that have served longer are more likely to cite dissatisfaction as a contributing factor to their resignation, with established employees (7-10 years) most likely to have resigned as a result of dissatisfaction."
   ]
  }
 ],
 "metadata": {
  "language_info": {
   "codemirror_mode": {
    "name": "ipython",
    "version": 3
   },
   "file_extension": ".py",
   "mimetype": "text/x-python",
   "name": "python",
   "nbconvert_exporter": "python",
   "pygments_lexer": "ipython3",
   "version": "3.8.3-final"
  },
  "orig_nbformat": 2,
  "kernelspec": {
   "name": "python38364bittrainingconda407a1c18241e4175b412d3f55a5d7d76",
   "display_name": "Python 3.8.3 64-bit ('training': conda)"
  }
 },
 "nbformat": 4,
 "nbformat_minor": 2
}