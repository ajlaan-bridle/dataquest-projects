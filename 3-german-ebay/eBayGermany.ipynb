{
 "cells": [
  {
   "cell_type": "markdown",
   "metadata": {
    "collapsed": true
   },
   "source": [
    "# eBay Kleinanzeigen Data Cleaning and Analysis\n",
    "## Introduction\n",
    "The purpose of this project is to do some cleaning and analysis of used car data from eBay Kleinanzeigen, a classifieds section of eBay Germany. The data set processed and analysed herein was originally sourced from [Kaggle](https://www.kaggle.com/orgesleka/used-cars-database/data), with some modification by Dataquest for teaching purposes. The .csv file imported was downloaded from Dataquest.  \n",
    "  \n",
    "The data set underwent some cleaning, including identification of null entries, identification of columns that could be neglected, and removal of rows based on car registration year and list price. The cleaned data was then aggregated on popular brands to analyse mean list prices and car mileages for each of these brands. Brand name appears to have a strong command of list price, but does not have much influence on mean mileage.\n",
    "\n",
    "## Initial Analysis"
   ]
  },
  {
   "cell_type": "code",
   "execution_count": 1,
   "metadata": {
    "collapsed": false,
    "tags": []
   },
   "outputs": [
    {
     "output_type": "stream",
     "name": "stdout",
     "text": "<class 'pandas.core.frame.DataFrame'>\nRangeIndex: 50000 entries, 0 to 49999\nData columns (total 20 columns):\n #   Column               Non-Null Count  Dtype \n---  ------               --------------  ----- \n 0   dateCrawled          50000 non-null  object\n 1   name                 50000 non-null  object\n 2   seller               50000 non-null  object\n 3   offerType            50000 non-null  object\n 4   price                50000 non-null  object\n 5   abtest               50000 non-null  object\n 6   vehicleType          44905 non-null  object\n 7   yearOfRegistration   50000 non-null  int64 \n 8   gearbox              47320 non-null  object\n 9   powerPS              50000 non-null  int64 \n 10  model                47242 non-null  object\n 11  odometer             50000 non-null  object\n 12  monthOfRegistration  50000 non-null  int64 \n 13  fuelType             45518 non-null  object\n 14  brand                50000 non-null  object\n 15  notRepairedDamage    40171 non-null  object\n 16  dateCreated          50000 non-null  object\n 17  nrOfPictures         50000 non-null  int64 \n 18  postalCode           50000 non-null  int64 \n 19  lastSeen             50000 non-null  object\ndtypes: int64(5), object(15)\nmemory usage: 7.6+ MB\nNone\n\n\n"
    },
    {
     "output_type": "execute_result",
     "data": {
      "text/plain": "           dateCrawled                                               name  \\\n0  2016-03-26 17:47:46                   Peugeot_807_160_NAVTECH_ON_BOARD   \n1  2016-04-04 13:38:56         BMW_740i_4_4_Liter_HAMANN_UMBAU_Mega_Optik   \n2  2016-03-26 18:57:24                         Volkswagen_Golf_1.6_United   \n3  2016-03-12 16:58:10  Smart_smart_fortwo_coupe_softouch/F1/Klima/Pan...   \n4  2016-04-01 14:38:50  Ford_Focus_1_6_Benzin_TÜV_neu_ist_sehr_gepfleg...   \n\n   seller offerType   price   abtest vehicleType  yearOfRegistration  \\\n0  privat   Angebot  $5,000  control         bus                2004   \n1  privat   Angebot  $8,500  control   limousine                1997   \n2  privat   Angebot  $8,990     test   limousine                2009   \n3  privat   Angebot  $4,350  control  kleinwagen                2007   \n4  privat   Angebot  $1,350     test       kombi                2003   \n\n     gearbox  powerPS   model   odometer  monthOfRegistration fuelType  \\\n0    manuell      158  andere  150,000km                    3      lpg   \n1  automatik      286     7er  150,000km                    6   benzin   \n2    manuell      102    golf   70,000km                    7   benzin   \n3  automatik       71  fortwo   70,000km                    6   benzin   \n4    manuell        0   focus  150,000km                    7   benzin   \n\n        brand notRepairedDamage          dateCreated  nrOfPictures  \\\n0     peugeot              nein  2016-03-26 00:00:00             0   \n1         bmw              nein  2016-04-04 00:00:00             0   \n2  volkswagen              nein  2016-03-26 00:00:00             0   \n3       smart              nein  2016-03-12 00:00:00             0   \n4        ford              nein  2016-04-01 00:00:00             0   \n\n   postalCode             lastSeen  \n0       79588  2016-04-06 06:45:54  \n1       71034  2016-04-06 14:45:08  \n2       35394  2016-04-06 20:15:37  \n3       33729  2016-03-15 03:16:28  \n4       39218  2016-04-01 14:38:50  ",
      "text/html": "<div>\n<style scoped>\n    .dataframe tbody tr th:only-of-type {\n        vertical-align: middle;\n    }\n\n    .dataframe tbody tr th {\n        vertical-align: top;\n    }\n\n    .dataframe thead th {\n        text-align: right;\n    }\n</style>\n<table border=\"1\" class=\"dataframe\">\n  <thead>\n    <tr style=\"text-align: right;\">\n      <th></th>\n      <th>dateCrawled</th>\n      <th>name</th>\n      <th>seller</th>\n      <th>offerType</th>\n      <th>price</th>\n      <th>abtest</th>\n      <th>vehicleType</th>\n      <th>yearOfRegistration</th>\n      <th>gearbox</th>\n      <th>powerPS</th>\n      <th>model</th>\n      <th>odometer</th>\n      <th>monthOfRegistration</th>\n      <th>fuelType</th>\n      <th>brand</th>\n      <th>notRepairedDamage</th>\n      <th>dateCreated</th>\n      <th>nrOfPictures</th>\n      <th>postalCode</th>\n      <th>lastSeen</th>\n    </tr>\n  </thead>\n  <tbody>\n    <tr>\n      <th>0</th>\n      <td>2016-03-26 17:47:46</td>\n      <td>Peugeot_807_160_NAVTECH_ON_BOARD</td>\n      <td>privat</td>\n      <td>Angebot</td>\n      <td>$5,000</td>\n      <td>control</td>\n      <td>bus</td>\n      <td>2004</td>\n      <td>manuell</td>\n      <td>158</td>\n      <td>andere</td>\n      <td>150,000km</td>\n      <td>3</td>\n      <td>lpg</td>\n      <td>peugeot</td>\n      <td>nein</td>\n      <td>2016-03-26 00:00:00</td>\n      <td>0</td>\n      <td>79588</td>\n      <td>2016-04-06 06:45:54</td>\n    </tr>\n    <tr>\n      <th>1</th>\n      <td>2016-04-04 13:38:56</td>\n      <td>BMW_740i_4_4_Liter_HAMANN_UMBAU_Mega_Optik</td>\n      <td>privat</td>\n      <td>Angebot</td>\n      <td>$8,500</td>\n      <td>control</td>\n      <td>limousine</td>\n      <td>1997</td>\n      <td>automatik</td>\n      <td>286</td>\n      <td>7er</td>\n      <td>150,000km</td>\n      <td>6</td>\n      <td>benzin</td>\n      <td>bmw</td>\n      <td>nein</td>\n      <td>2016-04-04 00:00:00</td>\n      <td>0</td>\n      <td>71034</td>\n      <td>2016-04-06 14:45:08</td>\n    </tr>\n    <tr>\n      <th>2</th>\n      <td>2016-03-26 18:57:24</td>\n      <td>Volkswagen_Golf_1.6_United</td>\n      <td>privat</td>\n      <td>Angebot</td>\n      <td>$8,990</td>\n      <td>test</td>\n      <td>limousine</td>\n      <td>2009</td>\n      <td>manuell</td>\n      <td>102</td>\n      <td>golf</td>\n      <td>70,000km</td>\n      <td>7</td>\n      <td>benzin</td>\n      <td>volkswagen</td>\n      <td>nein</td>\n      <td>2016-03-26 00:00:00</td>\n      <td>0</td>\n      <td>35394</td>\n      <td>2016-04-06 20:15:37</td>\n    </tr>\n    <tr>\n      <th>3</th>\n      <td>2016-03-12 16:58:10</td>\n      <td>Smart_smart_fortwo_coupe_softouch/F1/Klima/Pan...</td>\n      <td>privat</td>\n      <td>Angebot</td>\n      <td>$4,350</td>\n      <td>control</td>\n      <td>kleinwagen</td>\n      <td>2007</td>\n      <td>automatik</td>\n      <td>71</td>\n      <td>fortwo</td>\n      <td>70,000km</td>\n      <td>6</td>\n      <td>benzin</td>\n      <td>smart</td>\n      <td>nein</td>\n      <td>2016-03-12 00:00:00</td>\n      <td>0</td>\n      <td>33729</td>\n      <td>2016-03-15 03:16:28</td>\n    </tr>\n    <tr>\n      <th>4</th>\n      <td>2016-04-01 14:38:50</td>\n      <td>Ford_Focus_1_6_Benzin_TÜV_neu_ist_sehr_gepfleg...</td>\n      <td>privat</td>\n      <td>Angebot</td>\n      <td>$1,350</td>\n      <td>test</td>\n      <td>kombi</td>\n      <td>2003</td>\n      <td>manuell</td>\n      <td>0</td>\n      <td>focus</td>\n      <td>150,000km</td>\n      <td>7</td>\n      <td>benzin</td>\n      <td>ford</td>\n      <td>nein</td>\n      <td>2016-04-01 00:00:00</td>\n      <td>0</td>\n      <td>39218</td>\n      <td>2016-04-01 14:38:50</td>\n    </tr>\n  </tbody>\n</table>\n</div>"
     },
     "metadata": {},
     "execution_count": 1
    }
   ],
   "source": [
    "import numpy as np\n",
    "import pandas as pd\n",
    "\n",
    "autos = pd.read_csv('./autos.csv', encoding='Latin-1')\n",
    "print(autos.info())\n",
    "print('\\n')\n",
    "autos.head()"
   ]
  },
  {
   "cell_type": "markdown",
   "metadata": {},
   "source": [
    "An initial look at the data set shows that there are substantial null entries in several columns, around 5% of `vehicleType`, `gearbox`, and `model` entries are null; around 10% of `fuelType` entries are null; and around 20% of `notRepairedDamage` entries are null. Some columns include text, like odometer entries and price.\n",
    "\n",
    "The `re` module is imported to convert column names from Camel Case convention to the Snake Case convention commonly used in Python. A couple of column names have been simplified as well.  \n",
    "  \n",
    "_(A note on second reading: I had not learned yet how to work with regular expressions, but I certainly did not think it would be efficient to manually reformat each column name. A quick search on Stack Overflow led me to the regex expression and use of the re module.)_"
   ]
  },
  {
   "cell_type": "code",
   "execution_count": 2,
   "metadata": {
    "collapsed": false,
    "scrolled": true
   },
   "outputs": [
    {
     "output_type": "execute_result",
     "data": {
      "text/plain": "          date_crawled                                               name  \\\n0  2016-03-26 17:47:46                   Peugeot_807_160_NAVTECH_ON_BOARD   \n1  2016-04-04 13:38:56         BMW_740i_4_4_Liter_HAMANN_UMBAU_Mega_Optik   \n2  2016-03-26 18:57:24                         Volkswagen_Golf_1.6_United   \n3  2016-03-12 16:58:10  Smart_smart_fortwo_coupe_softouch/F1/Klima/Pan...   \n4  2016-04-01 14:38:50  Ford_Focus_1_6_Benzin_TÜV_neu_ist_sehr_gepfleg...   \n\n   seller offer_type   price   abtest vehicle_type  registration_year  \\\n0  privat    Angebot  $5,000  control          bus               2004   \n1  privat    Angebot  $8,500  control    limousine               1997   \n2  privat    Angebot  $8,990     test    limousine               2009   \n3  privat    Angebot  $4,350  control   kleinwagen               2007   \n4  privat    Angebot  $1,350     test        kombi               2003   \n\n     gearbox  power_p_s   model   odometer  registration_month fuel_type  \\\n0    manuell        158  andere  150,000km                   3       lpg   \n1  automatik        286     7er  150,000km                   6    benzin   \n2    manuell        102    golf   70,000km                   7    benzin   \n3  automatik         71  fortwo   70,000km                   6    benzin   \n4    manuell          0   focus  150,000km                   7    benzin   \n\n        brand unrepaired_damage           ad_created  nr_of_pictures  \\\n0     peugeot              nein  2016-03-26 00:00:00               0   \n1         bmw              nein  2016-04-04 00:00:00               0   \n2  volkswagen              nein  2016-03-26 00:00:00               0   \n3       smart              nein  2016-03-12 00:00:00               0   \n4        ford              nein  2016-04-01 00:00:00               0   \n\n   postal_code            last_seen  \n0        79588  2016-04-06 06:45:54  \n1        71034  2016-04-06 14:45:08  \n2        35394  2016-04-06 20:15:37  \n3        33729  2016-03-15 03:16:28  \n4        39218  2016-04-01 14:38:50  ",
      "text/html": "<div>\n<style scoped>\n    .dataframe tbody tr th:only-of-type {\n        vertical-align: middle;\n    }\n\n    .dataframe tbody tr th {\n        vertical-align: top;\n    }\n\n    .dataframe thead th {\n        text-align: right;\n    }\n</style>\n<table border=\"1\" class=\"dataframe\">\n  <thead>\n    <tr style=\"text-align: right;\">\n      <th></th>\n      <th>date_crawled</th>\n      <th>name</th>\n      <th>seller</th>\n      <th>offer_type</th>\n      <th>price</th>\n      <th>abtest</th>\n      <th>vehicle_type</th>\n      <th>registration_year</th>\n      <th>gearbox</th>\n      <th>power_p_s</th>\n      <th>model</th>\n      <th>odometer</th>\n      <th>registration_month</th>\n      <th>fuel_type</th>\n      <th>brand</th>\n      <th>unrepaired_damage</th>\n      <th>ad_created</th>\n      <th>nr_of_pictures</th>\n      <th>postal_code</th>\n      <th>last_seen</th>\n    </tr>\n  </thead>\n  <tbody>\n    <tr>\n      <th>0</th>\n      <td>2016-03-26 17:47:46</td>\n      <td>Peugeot_807_160_NAVTECH_ON_BOARD</td>\n      <td>privat</td>\n      <td>Angebot</td>\n      <td>$5,000</td>\n      <td>control</td>\n      <td>bus</td>\n      <td>2004</td>\n      <td>manuell</td>\n      <td>158</td>\n      <td>andere</td>\n      <td>150,000km</td>\n      <td>3</td>\n      <td>lpg</td>\n      <td>peugeot</td>\n      <td>nein</td>\n      <td>2016-03-26 00:00:00</td>\n      <td>0</td>\n      <td>79588</td>\n      <td>2016-04-06 06:45:54</td>\n    </tr>\n    <tr>\n      <th>1</th>\n      <td>2016-04-04 13:38:56</td>\n      <td>BMW_740i_4_4_Liter_HAMANN_UMBAU_Mega_Optik</td>\n      <td>privat</td>\n      <td>Angebot</td>\n      <td>$8,500</td>\n      <td>control</td>\n      <td>limousine</td>\n      <td>1997</td>\n      <td>automatik</td>\n      <td>286</td>\n      <td>7er</td>\n      <td>150,000km</td>\n      <td>6</td>\n      <td>benzin</td>\n      <td>bmw</td>\n      <td>nein</td>\n      <td>2016-04-04 00:00:00</td>\n      <td>0</td>\n      <td>71034</td>\n      <td>2016-04-06 14:45:08</td>\n    </tr>\n    <tr>\n      <th>2</th>\n      <td>2016-03-26 18:57:24</td>\n      <td>Volkswagen_Golf_1.6_United</td>\n      <td>privat</td>\n      <td>Angebot</td>\n      <td>$8,990</td>\n      <td>test</td>\n      <td>limousine</td>\n      <td>2009</td>\n      <td>manuell</td>\n      <td>102</td>\n      <td>golf</td>\n      <td>70,000km</td>\n      <td>7</td>\n      <td>benzin</td>\n      <td>volkswagen</td>\n      <td>nein</td>\n      <td>2016-03-26 00:00:00</td>\n      <td>0</td>\n      <td>35394</td>\n      <td>2016-04-06 20:15:37</td>\n    </tr>\n    <tr>\n      <th>3</th>\n      <td>2016-03-12 16:58:10</td>\n      <td>Smart_smart_fortwo_coupe_softouch/F1/Klima/Pan...</td>\n      <td>privat</td>\n      <td>Angebot</td>\n      <td>$4,350</td>\n      <td>control</td>\n      <td>kleinwagen</td>\n      <td>2007</td>\n      <td>automatik</td>\n      <td>71</td>\n      <td>fortwo</td>\n      <td>70,000km</td>\n      <td>6</td>\n      <td>benzin</td>\n      <td>smart</td>\n      <td>nein</td>\n      <td>2016-03-12 00:00:00</td>\n      <td>0</td>\n      <td>33729</td>\n      <td>2016-03-15 03:16:28</td>\n    </tr>\n    <tr>\n      <th>4</th>\n      <td>2016-04-01 14:38:50</td>\n      <td>Ford_Focus_1_6_Benzin_TÜV_neu_ist_sehr_gepfleg...</td>\n      <td>privat</td>\n      <td>Angebot</td>\n      <td>$1,350</td>\n      <td>test</td>\n      <td>kombi</td>\n      <td>2003</td>\n      <td>manuell</td>\n      <td>0</td>\n      <td>focus</td>\n      <td>150,000km</td>\n      <td>7</td>\n      <td>benzin</td>\n      <td>ford</td>\n      <td>nein</td>\n      <td>2016-04-01 00:00:00</td>\n      <td>0</td>\n      <td>39218</td>\n      <td>2016-04-01 14:38:50</td>\n    </tr>\n  </tbody>\n</table>\n</div>"
     },
     "metadata": {},
     "execution_count": 2
    }
   ],
   "source": [
    "import re\n",
    "\n",
    "column_names = []\n",
    "for name in autos.columns:\n",
    "    newname = re.sub(r'(?<!^)(?=[A-Z])', '_', name).lower()\n",
    "    column_names.append(newname)\n",
    "column_names[7] = 'registration_year'\n",
    "column_names[12] = 'registration_month'\n",
    "column_names[15] = 'unrepaired_damage'\n",
    "column_names[16] = 'ad_created'\n",
    "#print(column_names)\n",
    "autos.columns = column_names\n",
    "autos.head()"
   ]
  },
  {
   "cell_type": "markdown",
   "metadata": {},
   "source": [
    "## Exploring and Cleaning Some Specific Columns\n",
    "\n",
    "The following code cell explores a few specific columns.  \n",
    "  \n",
    "Columns that can be ignored for further analysis:\n",
    "\n",
    "- `seller`: all entries 'privat' with one exception\n",
    "\n",
    "- `offer_type`: all entries 'Angebot' with one exception\n",
    "\n",
    "- `nr_of_pictures`: all entries are int 0\n",
    "\n",
    "Columns that are converted to a number:\n",
    "\n",
    "- `price`\n",
    "\n",
    "- `odometer`: there is some variety in string inputs handled during the conversion\n"
   ]
  },
  {
   "cell_type": "code",
   "execution_count": 3,
   "metadata": {
    "tags": []
   },
   "outputs": [
    {
     "output_type": "stream",
     "name": "stdout",
     "text": "nr_of_pictures values:\n 0    50000\nName: nr_of_pictures, dtype: int64\n\nnr_of_pictures head:\n 0    0\n1    0\n2    0\n3    0\n4    0\nName: nr_of_pictures, dtype: int64\n\n\nprice values:\n $0         1421\n$500        781\n$1,500      734\n$2,500      643\n$1,000      639\n           ... \n$12,340       1\n$40,800       1\n$73,500       1\n$7,333        1\n$13,049       1\nName: price, Length: 2357, dtype: int64\n\nprice head (after float conversion):\n 0    5000.0\n1    8500.0\n2    8990.0\n3    4350.0\n4    1350.0\nName: price, dtype: float64\n\n\nodometer values:\n 150,000km    32424\n125,000km     5170\n100,000km     2169\n90,000km      1757\n80,000km      1436\n70,000km      1230\n60,000km      1164\n50,000km      1027\n5,000km        967\n40,000km       819\n30,000km       789\n20,000km       784\n10,000km       264\nName: odometer, dtype: int64\n\nodometer head (after int conversion):\n 150000    32424\n125000     5170\n100000     2169\n90000      1757\n80000      1436\n70000      1230\n60000      1164\n50000      1027\n5000        967\n40000       819\n30000       789\n20000       784\n10000       264\nName: odometer, dtype: int64\n"
    },
    {
     "output_type": "execute_result",
     "data": {
      "text/plain": "          date_crawled                                               name  \\\n0  2016-03-26 17:47:46                   Peugeot_807_160_NAVTECH_ON_BOARD   \n1  2016-04-04 13:38:56         BMW_740i_4_4_Liter_HAMANN_UMBAU_Mega_Optik   \n2  2016-03-26 18:57:24                         Volkswagen_Golf_1.6_United   \n3  2016-03-12 16:58:10  Smart_smart_fortwo_coupe_softouch/F1/Klima/Pan...   \n4  2016-04-01 14:38:50  Ford_Focus_1_6_Benzin_TÜV_neu_ist_sehr_gepfleg...   \n\n   seller offer_type   price   abtest vehicle_type  registration_year  \\\n0  privat    Angebot  5000.0  control          bus               2004   \n1  privat    Angebot  8500.0  control    limousine               1997   \n2  privat    Angebot  8990.0     test    limousine               2009   \n3  privat    Angebot  4350.0  control   kleinwagen               2007   \n4  privat    Angebot  1350.0     test        kombi               2003   \n\n     gearbox  power_p_s   model  odometer_km  registration_month fuel_type  \\\n0    manuell        158  andere       150000                   3       lpg   \n1  automatik        286     7er       150000                   6    benzin   \n2    manuell        102    golf        70000                   7    benzin   \n3  automatik         71  fortwo        70000                   6    benzin   \n4    manuell          0   focus       150000                   7    benzin   \n\n        brand unrepaired_damage           ad_created  nr_of_pictures  \\\n0     peugeot              nein  2016-03-26 00:00:00               0   \n1         bmw              nein  2016-04-04 00:00:00               0   \n2  volkswagen              nein  2016-03-26 00:00:00               0   \n3       smart              nein  2016-03-12 00:00:00               0   \n4        ford              nein  2016-04-01 00:00:00               0   \n\n   postal_code            last_seen  \n0        79588  2016-04-06 06:45:54  \n1        71034  2016-04-06 14:45:08  \n2        35394  2016-04-06 20:15:37  \n3        33729  2016-03-15 03:16:28  \n4        39218  2016-04-01 14:38:50  ",
      "text/html": "<div>\n<style scoped>\n    .dataframe tbody tr th:only-of-type {\n        vertical-align: middle;\n    }\n\n    .dataframe tbody tr th {\n        vertical-align: top;\n    }\n\n    .dataframe thead th {\n        text-align: right;\n    }\n</style>\n<table border=\"1\" class=\"dataframe\">\n  <thead>\n    <tr style=\"text-align: right;\">\n      <th></th>\n      <th>date_crawled</th>\n      <th>name</th>\n      <th>seller</th>\n      <th>offer_type</th>\n      <th>price</th>\n      <th>abtest</th>\n      <th>vehicle_type</th>\n      <th>registration_year</th>\n      <th>gearbox</th>\n      <th>power_p_s</th>\n      <th>model</th>\n      <th>odometer_km</th>\n      <th>registration_month</th>\n      <th>fuel_type</th>\n      <th>brand</th>\n      <th>unrepaired_damage</th>\n      <th>ad_created</th>\n      <th>nr_of_pictures</th>\n      <th>postal_code</th>\n      <th>last_seen</th>\n    </tr>\n  </thead>\n  <tbody>\n    <tr>\n      <th>0</th>\n      <td>2016-03-26 17:47:46</td>\n      <td>Peugeot_807_160_NAVTECH_ON_BOARD</td>\n      <td>privat</td>\n      <td>Angebot</td>\n      <td>5000.0</td>\n      <td>control</td>\n      <td>bus</td>\n      <td>2004</td>\n      <td>manuell</td>\n      <td>158</td>\n      <td>andere</td>\n      <td>150000</td>\n      <td>3</td>\n      <td>lpg</td>\n      <td>peugeot</td>\n      <td>nein</td>\n      <td>2016-03-26 00:00:00</td>\n      <td>0</td>\n      <td>79588</td>\n      <td>2016-04-06 06:45:54</td>\n    </tr>\n    <tr>\n      <th>1</th>\n      <td>2016-04-04 13:38:56</td>\n      <td>BMW_740i_4_4_Liter_HAMANN_UMBAU_Mega_Optik</td>\n      <td>privat</td>\n      <td>Angebot</td>\n      <td>8500.0</td>\n      <td>control</td>\n      <td>limousine</td>\n      <td>1997</td>\n      <td>automatik</td>\n      <td>286</td>\n      <td>7er</td>\n      <td>150000</td>\n      <td>6</td>\n      <td>benzin</td>\n      <td>bmw</td>\n      <td>nein</td>\n      <td>2016-04-04 00:00:00</td>\n      <td>0</td>\n      <td>71034</td>\n      <td>2016-04-06 14:45:08</td>\n    </tr>\n    <tr>\n      <th>2</th>\n      <td>2016-03-26 18:57:24</td>\n      <td>Volkswagen_Golf_1.6_United</td>\n      <td>privat</td>\n      <td>Angebot</td>\n      <td>8990.0</td>\n      <td>test</td>\n      <td>limousine</td>\n      <td>2009</td>\n      <td>manuell</td>\n      <td>102</td>\n      <td>golf</td>\n      <td>70000</td>\n      <td>7</td>\n      <td>benzin</td>\n      <td>volkswagen</td>\n      <td>nein</td>\n      <td>2016-03-26 00:00:00</td>\n      <td>0</td>\n      <td>35394</td>\n      <td>2016-04-06 20:15:37</td>\n    </tr>\n    <tr>\n      <th>3</th>\n      <td>2016-03-12 16:58:10</td>\n      <td>Smart_smart_fortwo_coupe_softouch/F1/Klima/Pan...</td>\n      <td>privat</td>\n      <td>Angebot</td>\n      <td>4350.0</td>\n      <td>control</td>\n      <td>kleinwagen</td>\n      <td>2007</td>\n      <td>automatik</td>\n      <td>71</td>\n      <td>fortwo</td>\n      <td>70000</td>\n      <td>6</td>\n      <td>benzin</td>\n      <td>smart</td>\n      <td>nein</td>\n      <td>2016-03-12 00:00:00</td>\n      <td>0</td>\n      <td>33729</td>\n      <td>2016-03-15 03:16:28</td>\n    </tr>\n    <tr>\n      <th>4</th>\n      <td>2016-04-01 14:38:50</td>\n      <td>Ford_Focus_1_6_Benzin_TÜV_neu_ist_sehr_gepfleg...</td>\n      <td>privat</td>\n      <td>Angebot</td>\n      <td>1350.0</td>\n      <td>test</td>\n      <td>kombi</td>\n      <td>2003</td>\n      <td>manuell</td>\n      <td>0</td>\n      <td>focus</td>\n      <td>150000</td>\n      <td>7</td>\n      <td>benzin</td>\n      <td>ford</td>\n      <td>nein</td>\n      <td>2016-04-01 00:00:00</td>\n      <td>0</td>\n      <td>39218</td>\n      <td>2016-04-01 14:38:50</td>\n    </tr>\n  </tbody>\n</table>\n</div>"
     },
     "metadata": {},
     "execution_count": 3
    }
   ],
   "source": [
    "# quick examination of the data\n",
    "autos.describe(include='all')\n",
    "print('nr_of_pictures values:\\n',autos['nr_of_pictures'].value_counts())\n",
    "print('\\nnr_of_pictures head:\\n', autos['nr_of_pictures'].head())\n",
    "\n",
    "# convert price from string to float\n",
    "print('\\n\\nprice values:\\n',autos['price'].value_counts())\n",
    "autos['price'] = autos['price'].str.replace('$', '')\n",
    "autos['price'] = autos['price'].str.replace(',', '')\n",
    "autos['price'] = autos['price'].astype(float)\n",
    "print('\\nprice head (after float conversion):\\n', autos['price'].head())\n",
    "\n",
    "# convert odometer to int\n",
    "print('\\n\\nodometer values:\\n',autos['odometer'].value_counts())\n",
    "autos['odometer'] = autos['odometer'].str.replace(',', '')\n",
    "autos['odometer'] = autos['odometer'].str.replace('km', '')\n",
    "autos['odometer'] = autos['odometer'].astype(int)\n",
    "print('\\nodometer head (after int conversion):\\n',autos['odometer'].value_counts())\n",
    "\n",
    "# rename odometer column to odometer_km\n",
    "autos = autos.rename({'odometer': 'odometer_km'}, axis=1)\n",
    "autos.head()"
   ]
  },
  {
   "cell_type": "markdown",
   "metadata": {},
   "source": [
    "## Summary Price Statistics"
   ]
  },
  {
   "cell_type": "code",
   "execution_count": 4,
   "metadata": {
    "tags": []
   },
   "outputs": [
    {
     "output_type": "stream",
     "name": "stdout",
     "text": "summary price statistics:\n count    5.000000e+04\nmean     9.840044e+03\nstd      4.811044e+05\nmin      0.000000e+00\n5%       2.000000e+02\n25%      1.100000e+03\n50%      2.950000e+03\n75%      7.200000e+03\n95%      1.990000e+04\n99%      3.590000e+04\nmax      1.000000e+08\nName: price, dtype: float64\n\nsummary price statistics with top 1% removed:\n count    49502.000000\nmean      5193.721042\nstd       6063.295735\nmin          0.000000\n25%       1100.000000\n50%       2900.000000\n75%       6999.000000\nmax      35900.000000\nName: price, dtype: float64\n"
    }
   ],
   "source": [
    "print('summary price statistics:\\n', autos['price'].describe(percentiles=[0.05, 0.25, 0.5, 0.75, 0.95, 0.99]))\n",
    "autos = autos[autos['price'].between(0, 35900)]\n",
    "print('\\nsummary price statistics with top 1% removed:\\n', autos['price'].describe())"
   ]
  },
  {
   "cell_type": "markdown",
   "metadata": {},
   "source": [
    "As can be seen above, the `price` data has a mean of \\$9,840, min of \\$0, 95th percentile of \\$19,900, 99th percentile of \\$35,900, and a max of \\$100,000,000. A maximum this high suggests a very high skew caused by 1% of the price data. To focus analysis on the vast majority of the data, data in the top 1% for price will be neglected from further analysis.\n",
    "\n",
    "## Summary Odometer Statistics"
   ]
  },
  {
   "cell_type": "code",
   "execution_count": 5,
   "metadata": {},
   "outputs": [
    {
     "output_type": "execute_result",
     "data": {
      "text/plain": "count     49502.000000\nmean     126400.347461\nstd       39439.244276\nmin        5000.000000\n25%      125000.000000\n50%      150000.000000\n75%      150000.000000\nmax      150000.000000\nName: odometer_km, dtype: float64"
     },
     "metadata": {},
     "execution_count": 5
    }
   ],
   "source": [
    "autos['odometer_km'].value_counts()\n",
    "autos['odometer_km'].describe()"
   ]
  },
  {
   "cell_type": "markdown",
   "metadata": {},
   "source": [
    "The `odometer_km` data contains a high frequency of listings above 100,000 km, with a max of 150,000 km and min of 5,000 km. There do not appear to be any outliers worth removing based on odometer data.  \n",
    "  \n",
    "_(A note on second reading: This guided project was completed after learning some of the fundamentals of the pandas library, but I had not yet learned about plotting with matplotlib. I acknowledge that some of the summary statistics observations are rather limited without any plots to visualise the data.)_\n",
    "\n",
    "## Date Exploration"
   ]
  },
  {
   "cell_type": "code",
   "execution_count": 6,
   "metadata": {},
   "outputs": [
    {
     "output_type": "execute_result",
     "data": {
      "text/plain": "2016-03-05    0.025454\n2016-03-06    0.013959\n2016-03-07    0.036039\n2016-03-08    0.033332\n2016-03-09    0.033292\n2016-03-10    0.032160\n2016-03-11    0.032383\n2016-03-12    0.036908\n2016-03-13    0.015575\n2016-03-14    0.036685\n2016-03-15    0.033978\n2016-03-16    0.029534\n2016-03-17    0.031494\n2016-03-18    0.013010\n2016-03-19    0.034908\n2016-03-20    0.037817\n2016-03-21    0.037291\n2016-03-22    0.032827\n2016-03-23    0.032383\n2016-03-24    0.029049\n2016-03-25    0.031675\n2016-03-26    0.032645\n2016-03-27    0.031009\n2016-03-28    0.034766\n2016-03-29    0.034241\n2016-03-30    0.033696\n2016-03-31    0.031837\n2016-04-01    0.033736\n2016-04-02    0.035372\n2016-04-03    0.038786\n2016-04-04    0.036584\n2016-04-05    0.012949\n2016-04-06    0.003192\n2016-04-07    0.001434\nName: date_crawled, dtype: float64"
     },
     "metadata": {},
     "execution_count": 6
    }
   ],
   "source": [
    "autos['date_crawled'].str[:10].value_counts(normalize=True, dropna=False).sort_index()"
   ]
  },
  {
   "cell_type": "markdown",
   "metadata": {},
   "source": [
    "Looking at the normalised frequency of crawl dates indicates a pretty consistent rate of data crawling between 5 March 2016 and 5 April 2016."
   ]
  },
  {
   "cell_type": "code",
   "execution_count": 7,
   "metadata": {
    "tags": []
   },
   "outputs": [
    {
     "output_type": "stream",
     "name": "stdout",
     "text": "2015-08-10    0.000020\n2015-09-09    0.000020\n2015-11-10    0.000020\n2015-12-05    0.000020\n2015-12-30    0.000020\n                ...   \n2016-04-03    0.039009\n2016-04-04    0.036968\n2016-04-05    0.011676\n2016-04-06    0.003273\n2016-04-07    0.001293\nName: ad_created, Length: 75, dtype: float64\n"
    }
   ],
   "source": [
    "ads_created = autos['ad_created'].str[:10].value_counts(normalize=True, dropna=False).sort_index()\n",
    "print(ads_created)"
   ]
  },
  {
   "cell_type": "markdown",
   "metadata": {},
   "source": [
    "Frequency of listings generated on the website appear to be very low prior to March 2016, with what seems like a step increase in the month of March 2016."
   ]
  },
  {
   "cell_type": "code",
   "execution_count": 8,
   "metadata": {},
   "outputs": [
    {
     "output_type": "execute_result",
     "data": {
      "text/plain": "2016-03-05    0.001091\n2016-03-06    0.004464\n2016-03-07    0.005353\n2016-03-08    0.007656\n2016-03-09    0.009899\n2016-03-10    0.010848\n2016-03-11    0.012606\n2016-03-12    0.023938\n2016-03-13    0.009030\n2016-03-14    0.012828\n2016-03-15    0.015979\n2016-03-16    0.016444\n2016-03-17    0.028019\n2016-03-18    0.007434\n2016-03-19    0.015858\n2016-03-20    0.020686\n2016-03-21    0.020747\n2016-03-22    0.021676\n2016-03-23    0.018646\n2016-03-24    0.019595\n2016-03-25    0.019252\n2016-03-26    0.016989\n2016-03-27    0.016060\n2016-03-28    0.020969\n2016-03-29    0.022464\n2016-03-30    0.024969\n2016-03-31    0.023858\n2016-04-01    0.023231\n2016-04-02    0.024969\n2016-04-03    0.025474\n2016-04-04    0.024787\n2016-04-05    0.123551\n2016-04-06    0.220476\n2016-04-07    0.130156\nName: last_seen, dtype: float64"
     },
     "metadata": {},
     "execution_count": 8
    }
   ],
   "source": [
    "autos['last_seen'].str[:10].value_counts(normalize=True, dropna=False).sort_index()"
   ]
  },
  {
   "cell_type": "markdown",
   "metadata": {},
   "source": [
    "Around half of the listings were viewed in the last 3 days of the final data crawl date."
   ]
  },
  {
   "cell_type": "code",
   "execution_count": 9,
   "metadata": {
    "tags": []
   },
   "outputs": [
    {
     "output_type": "stream",
     "name": "stdout",
     "text": "registration_year freq table:\n count    49502.000000\nmean      2004.965153\nstd        104.548918\nmin       1000.000000\n25%       1999.000000\n50%       2003.000000\n75%       2008.000000\nmax       9999.000000\nName: registration_year, dtype: float64\n\nregistrations post-2016:  1957\nregistrations pre-1900:  6\n\nregistrations between 1900-2016 freq table:\n count    47539.000000\nmean      2002.757904\nstd          7.222096\nmin       1910.000000\n25%       1999.000000\n50%       2003.000000\n75%       2007.000000\nmax       2016.000000\nName: registration_year, dtype: float64\n"
    }
   ],
   "source": [
    "print('registration_year freq table:\\n', autos['registration_year'].describe())\n",
    "print('\\nregistrations post-2016: ', autos.loc[(autos['registration_year'] > 2016), 'registration_year'].shape[0])\n",
    "print('registrations pre-1900: ', autos.loc[(autos['registration_year'] < 1900), 'registration_year'].shape[0])\n",
    "print('\\nregistrations between 1900-2016 freq table:\\n', autos.loc[autos['registration_year'].between(1900, 2016), 'registration_year'].describe())"
   ]
  },
  {
   "cell_type": "markdown",
   "metadata": {},
   "source": [
    "Around 2000 listings contain registration years after 2016 (i.e. the future), and 6 contain registration years before 1900. Within the range of 1900 to 2016, the majority of vehicles were registered around the early to mid 00's."
   ]
  },
  {
   "cell_type": "code",
   "execution_count": 10,
   "metadata": {},
   "outputs": [
    {
     "output_type": "execute_result",
     "data": {
      "text/plain": "2000    0.070511\n2005    0.063337\n1999    0.063043\n2004    0.057384\n2003    0.057342\n          ...   \n1929    0.000021\n1948    0.000021\n1938    0.000021\n1939    0.000021\n1952    0.000021\nName: registration_year, Length: 76, dtype: float64"
     },
     "metadata": {},
     "execution_count": 10
    }
   ],
   "source": [
    "autos = autos[autos['registration_year'].between(1900, 2016)]\n",
    "autos['registration_year'].value_counts(normalize=True)"
   ]
  },
  {
   "cell_type": "markdown",
   "metadata": {},
   "source": [
    "Listings with registration years outside the range 1900-2016 have been removed. Those registered after 2016 are clearly inaccurate since the data was crawled in 2016 and vehicles cannot have a future date of registration. Registration years before 1900 seemed to be arbitrary but regardless represented a tiny proportion of the data set.\n",
    "\n",
    "## Aggregating Data by Brand\n",
    "Having cleaned up the data set, some analysis on brands is carried out. The focus of brand specific investigation is on the brands that contain more than 5% of the listings. \n",
    "  \n",
    "_(A note on second reading: The aggragation workflow below builds Python dictionaries that are converted into a pandas DataFrame. At writing of this comment, I would instead use a `pandas.DataFrame.groupby.agg` approach for such tasks in the future.)_"
   ]
  },
  {
   "cell_type": "code",
   "execution_count": 11,
   "metadata": {},
   "outputs": [
    {
     "output_type": "execute_result",
     "data": {
      "text/plain": "                mean_price  mean_odometer_km\nvolkswagen     5115.187512     128965.924759\nbmw            7552.723755     133434.865900\nopel           2869.762180     129223.955324\nmercedes_benz  7639.995103     132174.493657\naudi           8208.403946     131257.706535\nford           3493.587549     124257.707273",
      "text/html": "<div>\n<style scoped>\n    .dataframe tbody tr th:only-of-type {\n        vertical-align: middle;\n    }\n\n    .dataframe tbody tr th {\n        vertical-align: top;\n    }\n\n    .dataframe thead th {\n        text-align: right;\n    }\n</style>\n<table border=\"1\" class=\"dataframe\">\n  <thead>\n    <tr style=\"text-align: right;\">\n      <th></th>\n      <th>mean_price</th>\n      <th>mean_odometer_km</th>\n    </tr>\n  </thead>\n  <tbody>\n    <tr>\n      <th>volkswagen</th>\n      <td>5115.187512</td>\n      <td>128965.924759</td>\n    </tr>\n    <tr>\n      <th>bmw</th>\n      <td>7552.723755</td>\n      <td>133434.865900</td>\n    </tr>\n    <tr>\n      <th>opel</th>\n      <td>2869.762180</td>\n      <td>129223.955324</td>\n    </tr>\n    <tr>\n      <th>mercedes_benz</th>\n      <td>7639.995103</td>\n      <td>132174.493657</td>\n    </tr>\n    <tr>\n      <th>audi</th>\n      <td>8208.403946</td>\n      <td>131257.706535</td>\n    </tr>\n    <tr>\n      <th>ford</th>\n      <td>3493.587549</td>\n      <td>124257.707273</td>\n    </tr>\n  </tbody>\n</table>\n</div>"
     },
     "metadata": {},
     "execution_count": 11
    }
   ],
   "source": [
    "# extract brand names that contain more than 5% of listings\n",
    "brand_freq = autos['brand'].value_counts(normalize=True) # normalise freq table of brand names\n",
    "brand_freq_agg = brand_freq[brand_freq > 0.05] # select brands containing more than 5% of listings\n",
    "\n",
    "# for each brand of interest, calculate mean listing price dictionary\n",
    "mean_price_by_brand = {}\n",
    "for item in brand_freq_agg.index:\n",
    "    mean = autos.loc[autos['brand'] == item, 'price'].mean()\n",
    "    mean_price_by_brand[item] = mean\n",
    "#print(mean_price_by_brand)\n",
    "\n",
    "# for each brand of interest, calculate mean mileage dictionary\n",
    "mean_mileage_by_brand = {}\n",
    "for item in brand_freq_agg.index:\n",
    "    mean = autos.loc[autos['brand'] == item, 'odometer_km'].mean()\n",
    "    mean_mileage_by_brand[item] = mean\n",
    "#print(mean_mileage_by_brand)\n",
    "\n",
    "# combine the above dictionaries to create an aggregate dataframe\n",
    "bmp_series = pd.Series(mean_price_by_brand)\n",
    "bmm_series = pd.Series(mean_mileage_by_brand)\n",
    "autos_agg = pd.DataFrame(bmp_series, columns=['mean_price'])\n",
    "autos_agg['mean_odometer_km'] = bmm_series\n",
    "autos_agg"
   ]
  },
  {
   "cell_type": "markdown",
   "metadata": {},
   "source": [
    "The more luxury brands (BMW, Mercedes Benz, Audi) are listed at higher mean prices (over \\$7500). Ford and Opel are less expensive (around \\$3000), and Volkswagen is in between at \\$5100.  \n",
    "  \n",
    "The average odometer values are pretty consistent at around 130,000 km, so brand seems to be a much bigger influence on price than mileage of the vehicle."
   ]
  },
  {
   "cell_type": "markdown",
   "metadata": {},
   "source": [
    "This guided project was originally completed in May 2020, with some review and tidying up in June 2020."
   ]
  }
 ],
 "metadata": {
  "kernelspec": {
   "display_name": "Python 3.8.3 64-bit ('training': conda)",
   "language": "python",
   "name": "python38364bittrainingconda407a1c18241e4175b412d3f55a5d7d76"
  },
  "language_info": {
   "codemirror_mode": {
    "name": "ipython",
    "version": 3
   },
   "file_extension": ".py",
   "mimetype": "text/x-python",
   "name": "python",
   "nbconvert_exporter": "python",
   "pygments_lexer": "ipython3",
   "version": "3.8.3-final"
  }
 },
 "nbformat": 4,
 "nbformat_minor": 2
}