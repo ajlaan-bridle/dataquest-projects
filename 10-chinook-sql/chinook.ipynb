{
 "cells": [
  {
   "cell_type": "markdown",
   "metadata": {},
   "source": [
    "# Answering Business Questions Using SQL\n",
    "\n",
    "Some more practice in SQLite with `chinook.db`, a database from the Chinook record store, sourced from [here](https://github.com/lerocha/chinook-database), attempting to answer some realistic business questions.\n",
    "\n",
    "Database schema ([license](./LICENSE.md)):\n",
    "\n",
    "![Chinook database schema image](./chinook-schema.svg)"
   ]
  },
  {
   "cell_type": "code",
   "execution_count": 1,
   "metadata": {
    "collapsed": true
   },
   "outputs": [],
   "source": [
    "%%capture\n",
    "%load_ext sql\n",
    "%sql sqlite:///chinook.db"
   ]
  },
  {
   "cell_type": "code",
   "execution_count": 2,
   "metadata": {
    "tags": []
   },
   "outputs": [
    {
     "output_type": "stream",
     "name": "stdout",
     "text": "* sqlite:///chinook.db\nDone.\n"
    },
    {
     "output_type": "execute_result",
     "data": {
      "text/plain": "[('album', 'table'),\n ('artist', 'table'),\n ('customer', 'table'),\n ('employee', 'table'),\n ('genre', 'table'),\n ('invoice', 'table'),\n ('invoice_line', 'table'),\n ('media_type', 'table'),\n ('playlist', 'table'),\n ('playlist_track', 'table'),\n ('track', 'table')]",
      "text/html": "<table>\n    <tr>\n        <th>name</th>\n        <th>type</th>\n    </tr>\n    <tr>\n        <td>album</td>\n        <td>table</td>\n    </tr>\n    <tr>\n        <td>artist</td>\n        <td>table</td>\n    </tr>\n    <tr>\n        <td>customer</td>\n        <td>table</td>\n    </tr>\n    <tr>\n        <td>employee</td>\n        <td>table</td>\n    </tr>\n    <tr>\n        <td>genre</td>\n        <td>table</td>\n    </tr>\n    <tr>\n        <td>invoice</td>\n        <td>table</td>\n    </tr>\n    <tr>\n        <td>invoice_line</td>\n        <td>table</td>\n    </tr>\n    <tr>\n        <td>media_type</td>\n        <td>table</td>\n    </tr>\n    <tr>\n        <td>playlist</td>\n        <td>table</td>\n    </tr>\n    <tr>\n        <td>playlist_track</td>\n        <td>table</td>\n    </tr>\n    <tr>\n        <td>track</td>\n        <td>table</td>\n    </tr>\n</table>"
     },
     "metadata": {},
     "execution_count": 2
    }
   ],
   "source": [
    "%%sql\n",
    "SELECT name,\n",
    "       type\n",
    "  FROM sqlite_master\n",
    " WHERE type IN (\"table\",\"view\");"
   ]
  },
  {
   "cell_type": "markdown",
   "metadata": {},
   "source": [
    "## Picking New Albums to Stock\n",
    "\n",
    "Scenario: a deal has been signed with a record label, and 3 new albums out of a potential list of 4 are to be added to Chinook's store. The label specialises in artists from the USA. To determine which ones to pick, an understanding of which genres sell best in the USA should be developed. More precisely, how many tracks have been sold in the USA, per genre, in absolute and percentage numbers?  \n",
    "\n",
    "The available artists are:\n",
    "\n",
    "| Artist Name           | Genre     |\n",
    "| --------------------- | --------- |\n",
    "| Regal                 | Hip-Hop   |\n",
    "| Red Tone              | Punk      |\n",
    "| Meteor and the Girls  | Pop       |\n",
    "| Slim Jim Bites        | Blues     |\n",
    "\n",
    "To build up a query to answer this question, the following steps will be performed:\n",
    "\n",
    "1. Create a temporary view of `customer` querying rows for customers based in the USA.\n",
    "2. Build on this view by joining `invoice`, `invoice_line`, `track`, and `genre` with LEFT JOINs respectively.\n",
    "3. Query the above temporary view, aggregating on genre."
   ]
  },
  {
   "cell_type": "code",
   "execution_count": 40,
   "metadata": {
    "tags": []
   },
   "outputs": [
    {
     "output_type": "stream",
     "name": "stdout",
     "text": "* sqlite:///chinook.db\nDone.\n"
    },
    {
     "output_type": "execute_result",
     "data": {
      "text/plain": "[('Rock', 561, 53.4),\n ('Alternative & Punk', 130, 12.4),\n ('Metal', 124, 11.8),\n ('R&B/Soul', 53, 5.0),\n ('Blues', 36, 3.4),\n ('Alternative', 35, 3.3),\n ('Pop', 22, 2.1),\n ('Latin', 22, 2.1),\n ('Hip Hop/Rap', 20, 1.9),\n ('Jazz', 14, 1.3)]",
      "text/html": "<table>\n    <tr>\n        <th>genre</th>\n        <th>tracks_sold_absolute</th>\n        <th>tracks_sold_perc</th>\n    </tr>\n    <tr>\n        <td>Rock</td>\n        <td>561</td>\n        <td>53.4</td>\n    </tr>\n    <tr>\n        <td>Alternative &amp; Punk</td>\n        <td>130</td>\n        <td>12.4</td>\n    </tr>\n    <tr>\n        <td>Metal</td>\n        <td>124</td>\n        <td>11.8</td>\n    </tr>\n    <tr>\n        <td>R&amp;B/Soul</td>\n        <td>53</td>\n        <td>5.0</td>\n    </tr>\n    <tr>\n        <td>Blues</td>\n        <td>36</td>\n        <td>3.4</td>\n    </tr>\n    <tr>\n        <td>Alternative</td>\n        <td>35</td>\n        <td>3.3</td>\n    </tr>\n    <tr>\n        <td>Pop</td>\n        <td>22</td>\n        <td>2.1</td>\n    </tr>\n    <tr>\n        <td>Latin</td>\n        <td>22</td>\n        <td>2.1</td>\n    </tr>\n    <tr>\n        <td>Hip Hop/Rap</td>\n        <td>20</td>\n        <td>1.9</td>\n    </tr>\n    <tr>\n        <td>Jazz</td>\n        <td>14</td>\n        <td>1.3</td>\n    </tr>\n</table>"
     },
     "metadata": {},
     "execution_count": 40
    }
   ],
   "source": [
    "%%sql\n",
    "  WITH usa_customers AS (\n",
    "       SELECT *\n",
    "         FROM customer\n",
    "        WHERE country = 'USA'\n",
    "       ),\n",
    "       usa_tracks AS (\n",
    "       SELECT (uc.first_name || \" \" || uc.last_name) AS customer_name,\n",
    "              uc.country,\n",
    "              i.invoice_id,\n",
    "              il.invoice_line_id,\n",
    "              t.track_id,\n",
    "              t.name AS track_name,\n",
    "              g.name AS genre\n",
    "         FROM usa_customers AS uc\n",
    "              LEFT JOIN invoice AS i\n",
    "              ON uc.customer_id = i.customer_id\n",
    "              LEFT JOIN invoice_line AS il\n",
    "              ON i.invoice_id = il.invoice_id\n",
    "              LEFT JOIN track AS t\n",
    "              ON il.track_id = t.track_id\n",
    "              LEFT JOIN genre AS g\n",
    "              ON t.genre_id = g.genre_id\n",
    "       )\n",
    "\n",
    "SELECT genre,\n",
    "       COUNT(*) AS tracks_sold_absolute,\n",
    "       ROUND(CAST(COUNT(*) AS FLOAT) / (SELECT COUNT(*) FROM usa_tracks) * 100, 1) AS tracks_sold_perc\n",
    "  FROM usa_tracks\n",
    " GROUP BY genre\n",
    " ORDER BY tracks_sold_absolute DESC\n",
    " LIMIT 10;"
   ]
  },
  {
   "cell_type": "markdown",
   "metadata": {},
   "source": [
    "The above query provides the top 10 genres of tracks sold in the USA. Of the four artists available, the above query suggests the following preference for expected sales performance:\n",
    "\n",
    "1. Red Tone (Punk)\n",
    "2. Slim Jim Bites (Blues)\n",
    "3. Meteor and the Girls (Pop)\n",
    "4. Regal (Hip Hop)\n",
    "\n",
    "However, there is only 0.2% difference in track sales between Pop and Hip Hop, so either Meteor and the Girls or Regal could be selected as a 3rd preference.\n",
    "\n",
    "In addition, it should be noted that the genres of the new albums make up a total of 20% the revenue at Chinook. New Rock albums would likely be more lucrative should they be made available.\n",
    "\n",
    "## Analysing Purchases Assigned to Sales Support Agents\n",
    "\n",
    "The below query finds the total sales amount for each sales support agent employed at Chinook."
   ]
  },
  {
   "cell_type": "code",
   "execution_count": 45,
   "metadata": {
    "tags": []
   },
   "outputs": [
    {
     "output_type": "stream",
     "name": "stdout",
     "text": "* sqlite:///chinook.db\nDone.\n"
    },
    {
     "output_type": "execute_result",
     "data": {
      "text/plain": "[(1731.51, 'Jane Peacock', 'Sales Support Agent', '2017-04-01 00:00:00', 'Nancy Edwards'),\n (1584.0, 'Margaret Park', 'Sales Support Agent', '2017-05-03 00:00:00', 'Nancy Edwards'),\n (1393.92, 'Steve Johnson', 'Sales Support Agent', '2017-10-17 00:00:00', 'Nancy Edwards')]",
      "text/html": "<table>\n    <tr>\n        <th>total_sales</th>\n        <th>employee_name</th>\n        <th>title</th>\n        <th>hire_date</th>\n        <th>manager</th>\n    </tr>\n    <tr>\n        <td>1731.51</td>\n        <td>Jane Peacock</td>\n        <td>Sales Support Agent</td>\n        <td>2017-04-01 00:00:00</td>\n        <td>Nancy Edwards</td>\n    </tr>\n    <tr>\n        <td>1584.0</td>\n        <td>Margaret Park</td>\n        <td>Sales Support Agent</td>\n        <td>2017-05-03 00:00:00</td>\n        <td>Nancy Edwards</td>\n    </tr>\n    <tr>\n        <td>1393.92</td>\n        <td>Steve Johnson</td>\n        <td>Sales Support Agent</td>\n        <td>2017-10-17 00:00:00</td>\n        <td>Nancy Edwards</td>\n    </tr>\n</table>"
     },
     "metadata": {},
     "execution_count": 45
    }
   ],
   "source": [
    "%%sql\n",
    "  WITH sales_rep_data AS (\n",
    "       SELECT c.customer_id,\n",
    "              c.support_rep_id,\n",
    "              i.invoice_id,\n",
    "              i.total,\n",
    "              e.*\n",
    "         FROM customer AS c\n",
    "              LEFT JOIN invoice AS i\n",
    "              ON c.customer_id = i.customer_id\n",
    "              LEFT JOIN employee AS e\n",
    "              ON c.support_rep_id = e.employee_id\n",
    "       )\n",
    "SELECT ROUND(SUM(srd.total), 2) AS total_sales,\n",
    "       (srd.first_name || \" \" || srd.last_name) AS employee_name,\n",
    "       srd.title,\n",
    "       srd.hire_date,\n",
    "       (e.first_name || \" \" || e.last_name) AS manager\n",
    "  FROM sales_rep_data AS srd\n",
    "       LEFT JOIN employee AS e\n",
    "       ON srd.reports_to = e.employee_id\n",
    " GROUP BY srd.employee_id\n",
    " ORDER BY total_sales DESC;"
   ]
  },
  {
   "cell_type": "markdown",
   "metadata": {},
   "source": [
    "There is a 20% range in total sales for the sales support agents. This is not an indicator of relative performance though, because the query did not set boundaries for the invoice data with which to compare one agent to another, such as a specific time period. Looking at the query result, the total sales figure correlates with hire date, i.e. the agents who have been working at Chinook longer have higher total sales figures.\n",
    "\n",
    "## Country Sales data (Attempt \\#1)\n",
    "\n",
    "_This 1st attempt section is left here as evidence of my learning process. I struggled at first with how to calculate average order value per country and calculate average order value per customer per country. The steps below were my attempt to compartmentalise the process for generating the query, but ultimately led to a rather complicated piece of SQLite code that didn't quite get the result I needed._\n",
    "\n",
    "_I had a peek at the solution notebook to guide me towards a simpler and more elegant structure for the query._\n",
    "\n",
    "Data desired per country, with countries with only 1 customer grouped into an 'Other' category:\n",
    "\n",
    "- total number of customers\n",
    "- total value of sales\n",
    "- average value of sales per customer\n",
    "- average order value\n",
    "\n",
    "Steps to produce the query:\n",
    "\n",
    "1. Create temporary view `sales_agg`, grouped by `customer.country`, showing country, total order value, and average order value (per country).\n",
    "2. Create temporary view `cust_agg`, grouped by `customer.customer_id`, showing country, customer ID, and average order value (per customer).\n",
    "3. Create temporary view `cust_country_agg` from (2), grouped on `customer.country`, showing country, customer ID, and average order value (now per customer per country).\n",
    "4. Combine `sales_agg` and `cust_country_agg` in temporary view `combined`, adding the following columns:\n",
    "    - `country_sorting`: values are 'Other' if only 1 customer from that country, otherwise the country name.\n",
    "    - `other_sort`: 1 if only 1 customer from that country, otherwise 0; this allows sorting with 'Other' below all named countries.\n",
    "5. Create temporary view `combined_other_agg` from `combined`, which groups the data by `combined.country_sorting` and provides some formatting for final data.\n",
    "6. Finally, query `combined_other_agg`, selecting desired columns and ordering by `other_sort` ascending."
   ]
  },
  {
   "cell_type": "code",
   "execution_count": 79,
   "metadata": {
    "tags": []
   },
   "outputs": [
    {
     "output_type": "stream",
     "name": "stdout",
     "text": "* sqlite:///chinook.db\nDone.\n"
    },
    {
     "output_type": "execute_result",
     "data": {
      "text/plain": "[('USA', 13, 1040.49, 7.94, 8.01),\n ('Canada', 8, 535.59, 7.05, 7.42),\n ('Brazil', 5, 427.68, 7.01, 6.99),\n ('France', 5, 389.07, 7.78, 7.84),\n ('Germany', 4, 334.62, 8.16, 8.19),\n ('Czech Republic', 2, 273.24, 9.11, 9.38),\n ('United Kingdom', 3, 245.52, 8.77, 8.75),\n ('Portugal', 2, 185.13, 6.38, 6.53),\n ('India', 2, 183.15, 8.72, 8.76),\n ('Other', 15, 1094.94, 7.45, 7.45)]",
      "text/html": "<table>\n    <tr>\n        <th>country</th>\n        <th>num_customers</th>\n        <th>sales_total</th>\n        <th>avg_order_value</th>\n        <th>avg_value_per_customer</th>\n    </tr>\n    <tr>\n        <td>USA</td>\n        <td>13</td>\n        <td>1040.49</td>\n        <td>7.94</td>\n        <td>8.01</td>\n    </tr>\n    <tr>\n        <td>Canada</td>\n        <td>8</td>\n        <td>535.59</td>\n        <td>7.05</td>\n        <td>7.42</td>\n    </tr>\n    <tr>\n        <td>Brazil</td>\n        <td>5</td>\n        <td>427.68</td>\n        <td>7.01</td>\n        <td>6.99</td>\n    </tr>\n    <tr>\n        <td>France</td>\n        <td>5</td>\n        <td>389.07</td>\n        <td>7.78</td>\n        <td>7.84</td>\n    </tr>\n    <tr>\n        <td>Germany</td>\n        <td>4</td>\n        <td>334.62</td>\n        <td>8.16</td>\n        <td>8.19</td>\n    </tr>\n    <tr>\n        <td>Czech Republic</td>\n        <td>2</td>\n        <td>273.24</td>\n        <td>9.11</td>\n        <td>9.38</td>\n    </tr>\n    <tr>\n        <td>United Kingdom</td>\n        <td>3</td>\n        <td>245.52</td>\n        <td>8.77</td>\n        <td>8.75</td>\n    </tr>\n    <tr>\n        <td>Portugal</td>\n        <td>2</td>\n        <td>185.13</td>\n        <td>6.38</td>\n        <td>6.53</td>\n    </tr>\n    <tr>\n        <td>India</td>\n        <td>2</td>\n        <td>183.15</td>\n        <td>8.72</td>\n        <td>8.76</td>\n    </tr>\n    <tr>\n        <td>Other</td>\n        <td>15</td>\n        <td>1094.94</td>\n        <td>7.45</td>\n        <td>7.45</td>\n    </tr>\n</table>"
     },
     "metadata": {},
     "execution_count": 79
    }
   ],
   "source": [
    "%%sql\n",
    "  WITH sales_agg AS(\n",
    "       SELECT c.country,\n",
    "              SUM(i.total) AS sales_tot,\n",
    "              AVG(i.total) AS avg_order_val\n",
    "         FROM customer AS c\n",
    "              LEFT JOIN invoice AS i\n",
    "              ON c.customer_id = i.customer_id\n",
    "        GROUP BY c.country\n",
    "       ),\n",
    "\n",
    "       cust_agg AS(\n",
    "       SELECT c.country,\n",
    "              c.customer_id,\n",
    "              AVG(i.total) AS avg_tot\n",
    "         FROM customer AS c\n",
    "              LEFT JOIN invoice AS i\n",
    "              ON c.customer_id = i.customer_id\n",
    "        GROUP BY c.customer_id\n",
    "       ),\n",
    "\n",
    "       cust_country_agg AS(\n",
    "       SELECT country,\n",
    "              COUNT(customer_id) AS num_cust,\n",
    "              AVG(avg_tot) AS avg_val_per_cust\n",
    "         FROM cust_agg\n",
    "        GROUP BY country\n",
    "       ),\n",
    "\n",
    "       combined AS(\n",
    "       SELECT *,\n",
    "              CASE\n",
    "                  WHEN c.num_cust = 1 THEN 'Other'\n",
    "                  ELSE c.country\n",
    "              END AS country_sorting,\n",
    "              CASE\n",
    "                  WHEN c.num_cust = 1 THEN 1\n",
    "                  ELSE 0\n",
    "              END AS other_sort\n",
    "         FROM sales_agg AS s\n",
    "              LEFT JOIN cust_country_agg AS c\n",
    "              ON s.country = c.country\n",
    "       ),\n",
    "\n",
    "       combined_other_agg AS(\n",
    "       SELECT country_sorting AS country,\n",
    "              ROUND(SUM(sales_tot), 2) AS sales_total,\n",
    "              ROUND(AVG(avg_order_val), 2) AS avg_order_value,\n",
    "              SUM(num_cust) AS num_customers,\n",
    "              ROUND(AVG(avg_val_per_cust), 2) AS avg_value_per_customer,\n",
    "              other_sort\n",
    "         FROM combined\n",
    "        GROUP BY country_sorting\n",
    "        ORDER BY sales_total DESC\n",
    "       )\n",
    "       \n",
    "SELECT country,\n",
    "       num_customers,\n",
    "       sales_total,\n",
    "       avg_order_value,\n",
    "       avg_value_per_customer\n",
    "  FROM combined_other_agg\n",
    " ORDER BY other_sort ASC;"
   ]
  },
  {
   "cell_type": "markdown",
   "metadata": {},
   "source": [
    "## Country Sales data (Attempt \\#2)\n",
    "\n",
    "_This is a much more straightforward query setup, it is ultimately easier to follow and has less potential for error. One main piece of code I took from the solution notebook was:_\n",
    "\n",
    "```\n",
    "CASE\n",
    "    WHEN\n",
    "        (\n",
    "        SELECT COUNT(*)\n",
    "            FROM customer\n",
    "        WHERE country = c.country\n",
    "        ) = 1 THEN 'Other'\n",
    "    ELSE c.country\n",
    "END AS country,\n",
    "```\n",
    "\n",
    "_This counts the number of rows in _`customer`_ for each country; if there is only 1 customer, then it returns 'Other', otherwise the country name. I found it to be a very elegant method of creating a view where the country column replace single-customer country names with 'Other'._\n",
    "\n",
    "_The other thing I picked up on was the use of _`DISTINCT`_. I was going around in circles in my head about grouping a table on countries, but then each country could still have multiple instances of customers, for those who would have made multiple orders. It was a simple command that I had momentarily forgotten._\n",
    "\n",
    "_With the above two points, the query below is remarkably close to the solution notebook. However, my mind works better with compartmentalised sections of code, so where my second temporary view _`agg_data`_ can fit as a sub-query, my preference was not to do this._\n",
    "\n",
    "Data desired per country, with countries with only 1 customer grouped into an 'Other' category:\n",
    "\n",
    "- total number of customers\n",
    "- total value of sales\n",
    "- average value of sales per customer\n",
    "- average order value\n",
    "\n",
    "Steps to produce query:\n",
    "\n",
    "1. Create temporary view `country_sort`, joining `customer` and `invoice`, and replacing country names with just 1 customer as 'Other'.\n",
    "2. Create temporary view `agg_data`, creating a `sort` column so that 'Other' country data can be aggregated below the rest. The desired data is calculated, and sorted on `sort` ascending followed by `sales_total` descending.\n",
    "3. Main query selects all columns from `agg_data` except for `sort`."
   ]
  },
  {
   "cell_type": "code",
   "execution_count": 101,
   "metadata": {
    "tags": []
   },
   "outputs": [
    {
     "output_type": "stream",
     "name": "stdout",
     "text": "* sqlite:///chinook.db\nDone.\n"
    },
    {
     "output_type": "execute_result",
     "data": {
      "text/plain": "[('USA', 13, 1040.49, 80.04, 7.94),\n ('Canada', 8, 535.59, 66.95, 7.05),\n ('Brazil', 5, 427.68, 85.54, 7.01),\n ('France', 5, 389.07, 77.81, 7.78),\n ('Germany', 4, 334.62, 83.66, 8.16),\n ('Czech Republic', 2, 273.24, 136.62, 9.11),\n ('United Kingdom', 3, 245.52, 81.84, 8.77),\n ('Portugal', 2, 185.13, 92.57, 6.38),\n ('India', 2, 183.15, 91.58, 8.72),\n ('Other', 15, 1094.94, 73.0, 7.45)]",
      "text/html": "<table>\n    <tr>\n        <th>country</th>\n        <th>customers</th>\n        <th>sales_total</th>\n        <th>value_per_customer</th>\n        <th>avg_order_value</th>\n    </tr>\n    <tr>\n        <td>USA</td>\n        <td>13</td>\n        <td>1040.49</td>\n        <td>80.04</td>\n        <td>7.94</td>\n    </tr>\n    <tr>\n        <td>Canada</td>\n        <td>8</td>\n        <td>535.59</td>\n        <td>66.95</td>\n        <td>7.05</td>\n    </tr>\n    <tr>\n        <td>Brazil</td>\n        <td>5</td>\n        <td>427.68</td>\n        <td>85.54</td>\n        <td>7.01</td>\n    </tr>\n    <tr>\n        <td>France</td>\n        <td>5</td>\n        <td>389.07</td>\n        <td>77.81</td>\n        <td>7.78</td>\n    </tr>\n    <tr>\n        <td>Germany</td>\n        <td>4</td>\n        <td>334.62</td>\n        <td>83.66</td>\n        <td>8.16</td>\n    </tr>\n    <tr>\n        <td>Czech Republic</td>\n        <td>2</td>\n        <td>273.24</td>\n        <td>136.62</td>\n        <td>9.11</td>\n    </tr>\n    <tr>\n        <td>United Kingdom</td>\n        <td>3</td>\n        <td>245.52</td>\n        <td>81.84</td>\n        <td>8.77</td>\n    </tr>\n    <tr>\n        <td>Portugal</td>\n        <td>2</td>\n        <td>185.13</td>\n        <td>92.57</td>\n        <td>6.38</td>\n    </tr>\n    <tr>\n        <td>India</td>\n        <td>2</td>\n        <td>183.15</td>\n        <td>91.58</td>\n        <td>8.72</td>\n    </tr>\n    <tr>\n        <td>Other</td>\n        <td>15</td>\n        <td>1094.94</td>\n        <td>73.0</td>\n        <td>7.45</td>\n    </tr>\n</table>"
     },
     "metadata": {},
     "execution_count": 101
    }
   ],
   "source": [
    "%%sql\n",
    "\n",
    "  WITH country_sort AS\n",
    "       (\n",
    "       SELECT CASE\n",
    "                  WHEN \n",
    "                       (\n",
    "                       SELECT COUNT(*)\n",
    "                         FROM customer\n",
    "                        WHERE country = c.country\n",
    "                       ) = 1 THEN 'Other'\n",
    "                  ELSE c.country\n",
    "              END AS country,\n",
    "              c.customer_id,\n",
    "              i.invoice_id,\n",
    "              i.total\n",
    "         FROM customer AS c\n",
    "              LEFT JOIN invoice AS i\n",
    "              ON c.customer_id = i.customer_id\n",
    "       ),\n",
    "\n",
    "       agg_data AS\n",
    "       (\n",
    "       SELECT CASE\n",
    "                  WHEN country = 'Other' THEN 1\n",
    "                  ELSE 0\n",
    "              END AS sort,\n",
    "              country,\n",
    "              COUNT(DISTINCT customer_id) AS customers,\n",
    "              ROUND(SUM(total), 2) AS sales_total,\n",
    "              ROUND(SUM(total) / COUNT(DISTINCT customer_id), 2) AS value_per_customer,\n",
    "              ROUND(AVG(total), 2) AS avg_order_value\n",
    "         FROM country_sort\n",
    "        GROUP BY country\n",
    "        ORDER BY sort ASC, sales_total DESC\n",
    "       )\n",
    "\n",
    "SELECT country,\n",
    "       customers,\n",
    "       sales_total,\n",
    "       value_per_customer,\n",
    "       avg_order_value\n",
    "  FROM agg_data;"
   ]
  },
  {
   "cell_type": "markdown",
   "metadata": {},
   "source": [
    "## Whole Album vs Individual Track Sales\n",
    "\n",
    "Chinook's customer purchasing system either allows an album to be purchased in a single order, or a selection of tracks to be selected for an order, but does not allow an entire album to be selected followed by individually selected tracks in an order (unless all individual tracks in an album are selected).\n",
    "\n",
    "Chinook would like to understand the proportion of purchases of whole albums compared to purchases with individual tracks. This is with a view to potentially update the purchasing strategy to only buy popular tracks from albums rather than full albums.\n",
    "\n",
    "Edge cases and their assumptions for this analysis:\n",
    "\n",
    "1. Purchases of albums with just 1 or 2 tracks; since these albums would be purchased as a whole in either scenario, this can be ignored.\n",
    "2. Purchases of an album (tracks individually selected) with other tracks added to the order; it is assumed that Chinook has determined that these kinds of orders represent a negligible proportion of total orders.\n",
    "\n",
    "To build this query, the following steps are taken:\n",
    "\n",
    "1. Temporary view `album_lookup`, which joins `invoice_line` and `track` on 'track_id', grouping by 'invoice_id'. This selects an album ID for each invoice; there is no need to be selective on which album ID within a given invoice.\n",
    "2. Temporary view `album_tracks`, which joins `album_lookup` and `track` on `album_id`, generating a set of album tracks for each invoice ID. This is to later provide a comparison to see if a given invoice was to purchase a whole album or a set of individual tracks.\n",
    "3. Temporary view `invoice_tracks`, which joins `invoice_line` and `track` on 'track_id' without any grouping. This provides the list of tracks for each invoice.\n",
    "4. Temporary view `classification`, which compares (2) and (3) using an EXCEPT clause, to classify each invoice as 'album' or 'tracks'\n",
    "5. Main query pulls from (4) the purchase type (album or tracks), and calculates for each type: the number of invoices, the percentage of invoices, and the total associated revenue."
   ]
  },
  {
   "cell_type": "code",
   "execution_count": 137,
   "metadata": {
    "tags": []
   },
   "outputs": [
    {
     "output_type": "stream",
     "name": "stdout",
     "text": "* sqlite:///chinook.db\nDone.\n"
    },
    {
     "output_type": "execute_result",
     "data": {
      "text/plain": "[('album', 130, 21.2, 1575.09), ('tracks', 484, 78.8, 3134.34)]",
      "text/html": "<table>\n    <tr>\n        <th>purchase_type</th>\n        <th>sales_count</th>\n        <th>sales_perc</th>\n        <th>sales_revenue</th>\n    </tr>\n    <tr>\n        <td>album</td>\n        <td>130</td>\n        <td>21.2</td>\n        <td>1575.09</td>\n    </tr>\n    <tr>\n        <td>tracks</td>\n        <td>484</td>\n        <td>78.8</td>\n        <td>3134.34</td>\n    </tr>\n</table>"
     },
     "metadata": {},
     "execution_count": 137
    }
   ],
   "source": [
    "%%sql\n",
    "\n",
    "  WITH album_lookup AS\n",
    "       (\n",
    "       SELECT il.invoice_id,\n",
    "              t.album_id,\n",
    "              t.track_id\n",
    "         FROM invoice_line AS il\n",
    "              LEFT JOIN track AS t\n",
    "              ON il.track_id = t.track_id\n",
    "        GROUP BY invoice_id\n",
    "       ),\n",
    "\n",
    "       album_tracks AS\n",
    "       (\n",
    "       SELECT al.invoice_id,\n",
    "              al.album_id,\n",
    "              t.track_id\n",
    "         FROM album_lookup AS al\n",
    "              LEFT JOIN track AS t\n",
    "              ON al.album_id = t.album_id\n",
    "       ),\n",
    "\n",
    "       invoice_tracks AS\n",
    "       (\n",
    "       SELECT il.invoice_id,\n",
    "              t.album_id,\n",
    "              t.track_id\n",
    "         FROM invoice_line AS il\n",
    "              LEFT JOIN track AS t\n",
    "              ON il.track_id = t.track_id\n",
    "       ),\n",
    "\n",
    "       classification AS\n",
    "       (\n",
    "       SELECT invoice_id,\n",
    "              CASE\n",
    "                  WHEN (\n",
    "                  SELECT track_id FROM album_tracks WHERE invoice_id = il.invoice_id\n",
    "                  EXCEPT\n",
    "                  SELECT track_id FROM invoice_tracks WHERE invoice_id = il.invoice_id\n",
    "                  ) IS NULL THEN 'album'\n",
    "                  ELSE 'tracks'\n",
    "              END AS purchase_type\n",
    "         FROM invoice_line AS il\n",
    "        GROUP BY il.invoice_id\n",
    "       )\n",
    "\n",
    "SELECT c.purchase_type,\n",
    "       COUNT(c.purchase_type) AS sales_count,\n",
    "       ROUND(CAST(COUNT(c.purchase_type) AS FLOAT) / (SELECT COUNT(*) FROM invoice) * 100, 1) AS sales_perc,\n",
    "       ROUND(TOTAL(i.total), 2) AS sales_revenue\n",
    "  FROM classification AS c\n",
    "       LEFT JOIN invoice AS i\n",
    "       ON c.invoice_id = i.invoice_id\n",
    " GROUP BY purchase_type;"
   ]
  },
  {
   "cell_type": "markdown",
   "metadata": {},
   "source": [
    "Just over 20% of orders (invoices) are for albums, but these account for around a third of store revenue. One crucial dimension that has not been assessed (because the data is not in the database) is the cost to Chinook for purchasing tracks/albums from labels for onward retail. If the store decides to only purchase a couple of popular tracks from albums instead of the full albums, then the cost of buying from labels reduces. However, the potential revenue from full album sales also reduces, because the margins from the less popular tracks are no longer available (assuming all tracks have a positive margin associated with them). Without assessing how this could balance out, it is difficult to make a recommendation. There is also a risk that some 'album' sales may not convert to 'tracks' sales for customers who prefer to purchase full albums; without stocking full albums these customers may be lost as a result of the proposed purchasing strategy."
   ]
  }
 ],
 "metadata": {
  "kernelspec": {
   "display_name": "Python 3.8.3 64-bit ('training': conda)",
   "language": "python",
   "name": "python38364bittrainingconda407a1c18241e4175b412d3f55a5d7d76"
  },
  "language_info": {
   "codemirror_mode": {
    "name": "ipython",
    "version": 3
   },
   "file_extension": ".py",
   "mimetype": "text/x-python",
   "name": "python",
   "nbconvert_exporter": "python",
   "pygments_lexer": "ipython3",
   "version": "3.8.3-final"
  }
 },
 "nbformat": 4,
 "nbformat_minor": 2
}