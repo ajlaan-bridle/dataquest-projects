{
 "cells": [
  {
   "cell_type": "markdown",
   "metadata": {},
   "source": [
    "Some more practice with SQLite with `chinook.db`, a database from the Chinook record store, souced from here _(\\*link required\\*)_\n",
    "\n",
    "Database schema:\n",
    "\n",
    "![Chinook database schema image](./chinook-schema.svg)"
   ]
  },
  {
   "cell_type": "code",
   "execution_count": 1,
   "metadata": {
    "collapsed": true
   },
   "outputs": [],
   "source": [
    "%%capture\n",
    "%load_ext sql\n",
    "%sql sqlite:///chinook.db"
   ]
  },
  {
   "cell_type": "code",
   "execution_count": 2,
   "metadata": {
    "tags": []
   },
   "outputs": [
    {
     "output_type": "stream",
     "name": "stdout",
     "text": "* sqlite:///chinook.db\nDone.\n"
    },
    {
     "output_type": "execute_result",
     "data": {
      "text/plain": "[('album', 'table'),\n ('artist', 'table'),\n ('customer', 'table'),\n ('employee', 'table'),\n ('genre', 'table'),\n ('invoice', 'table'),\n ('invoice_line', 'table'),\n ('media_type', 'table'),\n ('playlist', 'table'),\n ('playlist_track', 'table'),\n ('track', 'table')]",
      "text/html": "<table>\n    <tr>\n        <th>name</th>\n        <th>type</th>\n    </tr>\n    <tr>\n        <td>album</td>\n        <td>table</td>\n    </tr>\n    <tr>\n        <td>artist</td>\n        <td>table</td>\n    </tr>\n    <tr>\n        <td>customer</td>\n        <td>table</td>\n    </tr>\n    <tr>\n        <td>employee</td>\n        <td>table</td>\n    </tr>\n    <tr>\n        <td>genre</td>\n        <td>table</td>\n    </tr>\n    <tr>\n        <td>invoice</td>\n        <td>table</td>\n    </tr>\n    <tr>\n        <td>invoice_line</td>\n        <td>table</td>\n    </tr>\n    <tr>\n        <td>media_type</td>\n        <td>table</td>\n    </tr>\n    <tr>\n        <td>playlist</td>\n        <td>table</td>\n    </tr>\n    <tr>\n        <td>playlist_track</td>\n        <td>table</td>\n    </tr>\n    <tr>\n        <td>track</td>\n        <td>table</td>\n    </tr>\n</table>"
     },
     "metadata": {},
     "execution_count": 2
    }
   ],
   "source": [
    "%%sql\n",
    "SELECT name,\n",
    "       type\n",
    "  FROM sqlite_master\n",
    " WHERE type IN (\"table\",\"view\");"
   ]
  },
  {
   "cell_type": "markdown",
   "metadata": {},
   "source": [
    "Scenario: a deal has been signed with a record label, and 3 new albums out of a potential list of 4 are to be added to Chinook's store. The label specialises in artists from the USA. To determine which ones to pick, an understanding of which genres sell best in the USA should be developed. More precisely, how many tracks have been sold in the USA, per genre, in absolute and percentage numbers?  \n",
    "\n",
    "The available artists are:\n",
    "\n",
    "| Artist Name           | Genre     |\n",
    "| --------------------- | --------- |\n",
    "| Regal                 | Hip-Hop   |\n",
    "| Red Tone              | Punk      |\n",
    "| Meteor and the Girls  | Pop       |\n",
    "| Slim Jim Bites        | Blues     |\n",
    "\n",
    "To build up a query to answer this question, the following steps will be performed:\n",
    "\n",
    "1. Create a temporary view of `customer` querying rows for customers based in the USA.\n",
    "2. Build on this view by joining `invoice`, `invoice_line`, `track`, and `genre` with LEFT JOINs respectively.\n",
    "3. Query the above temporary view, aggregating on genre."
   ]
  },
  {
   "cell_type": "code",
   "execution_count": 40,
   "metadata": {
    "tags": []
   },
   "outputs": [
    {
     "output_type": "stream",
     "name": "stdout",
     "text": "* sqlite:///chinook.db\nDone.\n"
    },
    {
     "output_type": "execute_result",
     "data": {
      "text/plain": "[('Rock', 561, 53.4),\n ('Alternative & Punk', 130, 12.4),\n ('Metal', 124, 11.8),\n ('R&B/Soul', 53, 5.0),\n ('Blues', 36, 3.4),\n ('Alternative', 35, 3.3),\n ('Pop', 22, 2.1),\n ('Latin', 22, 2.1),\n ('Hip Hop/Rap', 20, 1.9),\n ('Jazz', 14, 1.3)]",
      "text/html": "<table>\n    <tr>\n        <th>genre</th>\n        <th>tracks_sold_absolute</th>\n        <th>tracks_sold_perc</th>\n    </tr>\n    <tr>\n        <td>Rock</td>\n        <td>561</td>\n        <td>53.4</td>\n    </tr>\n    <tr>\n        <td>Alternative &amp; Punk</td>\n        <td>130</td>\n        <td>12.4</td>\n    </tr>\n    <tr>\n        <td>Metal</td>\n        <td>124</td>\n        <td>11.8</td>\n    </tr>\n    <tr>\n        <td>R&amp;B/Soul</td>\n        <td>53</td>\n        <td>5.0</td>\n    </tr>\n    <tr>\n        <td>Blues</td>\n        <td>36</td>\n        <td>3.4</td>\n    </tr>\n    <tr>\n        <td>Alternative</td>\n        <td>35</td>\n        <td>3.3</td>\n    </tr>\n    <tr>\n        <td>Pop</td>\n        <td>22</td>\n        <td>2.1</td>\n    </tr>\n    <tr>\n        <td>Latin</td>\n        <td>22</td>\n        <td>2.1</td>\n    </tr>\n    <tr>\n        <td>Hip Hop/Rap</td>\n        <td>20</td>\n        <td>1.9</td>\n    </tr>\n    <tr>\n        <td>Jazz</td>\n        <td>14</td>\n        <td>1.3</td>\n    </tr>\n</table>"
     },
     "metadata": {},
     "execution_count": 40
    }
   ],
   "source": [
    "%%sql\n",
    "  WITH usa_customers AS (\n",
    "       SELECT *\n",
    "         FROM customer\n",
    "        WHERE country = 'USA'\n",
    "       ),\n",
    "       usa_tracks AS (\n",
    "       SELECT (uc.first_name || \" \" || uc.last_name) AS customer_name,\n",
    "              uc.country,\n",
    "              i.invoice_id,\n",
    "              il.invoice_line_id,\n",
    "              t.track_id,\n",
    "              t.name AS track_name,\n",
    "              g.name AS genre\n",
    "         FROM usa_customers AS uc\n",
    "              LEFT JOIN invoice AS i\n",
    "              ON uc.customer_id = i.customer_id\n",
    "              LEFT JOIN invoice_line AS il\n",
    "              ON i.invoice_id = il.invoice_id\n",
    "              LEFT JOIN track AS t\n",
    "              ON il.track_id = t.track_id\n",
    "              LEFT JOIN genre AS g\n",
    "              ON t.genre_id = g.genre_id\n",
    "       )\n",
    "\n",
    "SELECT genre,\n",
    "       COUNT(*) AS tracks_sold_absolute,\n",
    "       ROUND(CAST(COUNT(*) AS FLOAT) / (SELECT COUNT(*) FROM usa_tracks) * 100, 1) AS tracks_sold_perc\n",
    "  FROM usa_tracks\n",
    " GROUP BY genre\n",
    " ORDER BY tracks_sold_absolute DESC\n",
    " LIMIT 10;"
   ]
  },
  {
   "cell_type": "markdown",
   "metadata": {},
   "source": [
    "The above query provides the top 10 genres of tracks sold in the USA. Of the four artists available, the above query suggests the following preference for expected sales performance:\n",
    "\n",
    "1. Red Tone (Punk)\n",
    "2. Meteor and the Girls (Pop)\n",
    "3. Slim Jim Bites (Blues)\n",
    "4. Regal (Hip Hop)\n",
    "\n",
    "However, there is only 0.2% difference in track sales between Pop and Hip Hop, so either Slim Jim Bites or Regal could be selected as a 3rd preference."
   ]
  }
 ],
 "metadata": {
  "kernelspec": {
   "display_name": "Python 3.8.3 64-bit ('training': conda)",
   "language": "python",
   "name": "python38364bittrainingconda407a1c18241e4175b412d3f55a5d7d76"
  },
  "language_info": {
   "codemirror_mode": {
    "name": "ipython",
    "version": 3
   },
   "file_extension": ".py",
   "mimetype": "text/x-python",
   "name": "python",
   "nbconvert_exporter": "python",
   "pygments_lexer": "ipython3",
   "version": "3.8.3-final"
  }
 },
 "nbformat": 4,
 "nbformat_minor": 2
}