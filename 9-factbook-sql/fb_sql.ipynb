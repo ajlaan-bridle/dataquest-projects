{
 "cells": [
  {
   "cell_type": "markdown",
   "metadata": {},
   "source": [
    "# Factbook SQL Queries\n",
    "\n",
    "This notebook contains some practice exercises in SQL fundamentals using SQLite within Jupyter. The factbook.db file is sourced from the [CIA World Factbook](https://www.cia.gov/library/publications/the-world-factbook/)."
   ]
  },
  {
   "cell_type": "code",
   "execution_count": 2,
   "metadata": {
    "collapsed": true
   },
   "outputs": [],
   "source": [
    "%%capture\n",
    "%load_ext sql\n",
    "%sql sqlite:///factbook.db"
   ]
  },
  {
   "cell_type": "markdown",
   "metadata": {},
   "source": [
    "## Query to return the tables present in the database "
   ]
  },
  {
   "cell_type": "code",
   "execution_count": 3,
   "metadata": {
    "tags": []
   },
   "outputs": [
    {
     "output_type": "stream",
     "name": "stdout",
     "text": "* sqlite:///factbook.db\nDone.\n"
    },
    {
     "output_type": "execute_result",
     "data": {
      "text/plain": "[('table', 'sqlite_sequence', 'sqlite_sequence', 3, 'CREATE TABLE sqlite_sequence(name,seq)'),\n ('table', 'facts', 'facts', 47, 'CREATE TABLE \"facts\" (\"id\" INTEGER PRIMARY KEY AUTOINCREMENT NOT NULL, \"code\" varchar(255) NOT NULL, \"name\" varchar(255) NOT NULL, \"area\" integer, \"a ... (4 characters truncated) ... land\" integer, \"area_water\" integer, \"population\" integer, \"population_growth\" float, \"birth_rate\" float, \"death_rate\" float, \"migration_rate\" float)')]",
      "text/html": "<table>\n    <tr>\n        <th>type</th>\n        <th>name</th>\n        <th>tbl_name</th>\n        <th>rootpage</th>\n        <th>sql</th>\n    </tr>\n    <tr>\n        <td>table</td>\n        <td>sqlite_sequence</td>\n        <td>sqlite_sequence</td>\n        <td>3</td>\n        <td>CREATE TABLE sqlite_sequence(name,seq)</td>\n    </tr>\n    <tr>\n        <td>table</td>\n        <td>facts</td>\n        <td>facts</td>\n        <td>47</td>\n        <td>CREATE TABLE &quot;facts&quot; (&quot;id&quot; INTEGER PRIMARY KEY AUTOINCREMENT NOT NULL, &quot;code&quot; varchar(255) NOT NULL, &quot;name&quot; varchar(255) NOT NULL, &quot;area&quot; integer, &quot;area_land&quot; integer, &quot;area_water&quot; integer, &quot;population&quot; integer, &quot;population_growth&quot; float, &quot;birth_rate&quot; float, &quot;death_rate&quot; float, &quot;migration_rate&quot; float)</td>\n    </tr>\n</table>"
     },
     "metadata": {},
     "execution_count": 3
    }
   ],
   "source": [
    "%%sql\n",
    "SELECT *\n",
    "  FROM sqlite_master\n",
    " WHERE type='table';"
   ]
  },
  {
   "cell_type": "markdown",
   "metadata": {},
   "source": [
    "## Query to return the first 5 rows of the 'facts' table"
   ]
  },
  {
   "cell_type": "code",
   "execution_count": 4,
   "metadata": {
    "tags": []
   },
   "outputs": [
    {
     "output_type": "stream",
     "name": "stdout",
     "text": "* sqlite:///factbook.db\nDone.\n"
    },
    {
     "output_type": "execute_result",
     "data": {
      "text/plain": "[(1, 'af', 'Afghanistan', 652230, 652230, 0, 32564342, 2.32, 38.57, 13.89, 1.51),\n (2, 'al', 'Albania', 28748, 27398, 1350, 3029278, 0.3, 12.92, 6.58, 3.3),\n (3, 'ag', 'Algeria', 2381741, 2381741, 0, 39542166, 1.84, 23.67, 4.31, 0.92),\n (4, 'an', 'Andorra', 468, 468, 0, 85580, 0.12, 8.13, 6.96, 0.0),\n (5, 'ao', 'Angola', 1246700, 1246700, 0, 19625353, 2.78, 38.78, 11.49, 0.46)]",
      "text/html": "<table>\n    <tr>\n        <th>id</th>\n        <th>code</th>\n        <th>name</th>\n        <th>area</th>\n        <th>area_land</th>\n        <th>area_water</th>\n        <th>population</th>\n        <th>population_growth</th>\n        <th>birth_rate</th>\n        <th>death_rate</th>\n        <th>migration_rate</th>\n    </tr>\n    <tr>\n        <td>1</td>\n        <td>af</td>\n        <td>Afghanistan</td>\n        <td>652230</td>\n        <td>652230</td>\n        <td>0</td>\n        <td>32564342</td>\n        <td>2.32</td>\n        <td>38.57</td>\n        <td>13.89</td>\n        <td>1.51</td>\n    </tr>\n    <tr>\n        <td>2</td>\n        <td>al</td>\n        <td>Albania</td>\n        <td>28748</td>\n        <td>27398</td>\n        <td>1350</td>\n        <td>3029278</td>\n        <td>0.3</td>\n        <td>12.92</td>\n        <td>6.58</td>\n        <td>3.3</td>\n    </tr>\n    <tr>\n        <td>3</td>\n        <td>ag</td>\n        <td>Algeria</td>\n        <td>2381741</td>\n        <td>2381741</td>\n        <td>0</td>\n        <td>39542166</td>\n        <td>1.84</td>\n        <td>23.67</td>\n        <td>4.31</td>\n        <td>0.92</td>\n    </tr>\n    <tr>\n        <td>4</td>\n        <td>an</td>\n        <td>Andorra</td>\n        <td>468</td>\n        <td>468</td>\n        <td>0</td>\n        <td>85580</td>\n        <td>0.12</td>\n        <td>8.13</td>\n        <td>6.96</td>\n        <td>0.0</td>\n    </tr>\n    <tr>\n        <td>5</td>\n        <td>ao</td>\n        <td>Angola</td>\n        <td>1246700</td>\n        <td>1246700</td>\n        <td>0</td>\n        <td>19625353</td>\n        <td>2.78</td>\n        <td>38.78</td>\n        <td>11.49</td>\n        <td>0.46</td>\n    </tr>\n</table>"
     },
     "metadata": {},
     "execution_count": 4
    }
   ],
   "source": [
    "%%sql\n",
    "SELECT *\n",
    "  FROM facts\n",
    " LIMIT 5;"
   ]
  },
  {
   "cell_type": "markdown",
   "metadata": {},
   "source": [
    "## Query to return the min/max of 'population' and 'population_growth'"
   ]
  },
  {
   "cell_type": "code",
   "execution_count": 5,
   "metadata": {
    "tags": []
   },
   "outputs": [
    {
     "output_type": "stream",
     "name": "stdout",
     "text": "* sqlite:///factbook.db\nDone.\n"
    },
    {
     "output_type": "execute_result",
     "data": {
      "text/plain": "[(0, 7256490011, 0.0, 4.02)]",
      "text/html": "<table>\n    <tr>\n        <th>MIN(population)</th>\n        <th>MAX(population)</th>\n        <th>MIN(population_growth)</th>\n        <th>MAX(population_growth)</th>\n    </tr>\n    <tr>\n        <td>0</td>\n        <td>7256490011</td>\n        <td>0.0</td>\n        <td>4.02</td>\n    </tr>\n</table>"
     },
     "metadata": {},
     "execution_count": 5
    }
   ],
   "source": [
    "%%sql\n",
    "SELECT MIN(population), MAX(population), MIN(population_growth), MAX(population_growth)\n",
    "  FROM facts;"
   ]
  },
  {
   "cell_type": "markdown",
   "metadata": {},
   "source": [
    "## Query to return the country with min population"
   ]
  },
  {
   "cell_type": "code",
   "execution_count": 6,
   "metadata": {
    "tags": []
   },
   "outputs": [
    {
     "output_type": "stream",
     "name": "stdout",
     "text": "* sqlite:///factbook.db\nDone.\n"
    },
    {
     "output_type": "execute_result",
     "data": {
      "text/plain": "[('Antarctica', 0)]",
      "text/html": "<table>\n    <tr>\n        <th>name</th>\n        <th>population</th>\n    </tr>\n    <tr>\n        <td>Antarctica</td>\n        <td>0</td>\n    </tr>\n</table>"
     },
     "metadata": {},
     "execution_count": 6
    }
   ],
   "source": [
    "%%sql\n",
    "SELECT name, population\n",
    "  FROM facts\n",
    " WHERE population = (SELECT MIN(population)\n",
    "                       FROM facts\n",
    "                    );"
   ]
  },
  {
   "cell_type": "markdown",
   "metadata": {},
   "source": [
    "## Query to return the country with max population\n",
    "Returns 'World' from the 'name' column, which is clearly the total world population."
   ]
  },
  {
   "cell_type": "code",
   "execution_count": 7,
   "metadata": {
    "tags": []
   },
   "outputs": [
    {
     "output_type": "stream",
     "name": "stdout",
     "text": "* sqlite:///factbook.db\nDone.\n"
    },
    {
     "output_type": "execute_result",
     "data": {
      "text/plain": "[('World', 7256490011)]",
      "text/html": "<table>\n    <tr>\n        <th>name</th>\n        <th>population</th>\n    </tr>\n    <tr>\n        <td>World</td>\n        <td>7256490011</td>\n    </tr>\n</table>"
     },
     "metadata": {},
     "execution_count": 7
    }
   ],
   "source": [
    "%%sql\n",
    "SELECT name, population\n",
    "  FROM facts\n",
    " WHERE population = (SELECT MAX(population)\n",
    "                       FROM facts\n",
    "                    );"
   ]
  },
  {
   "cell_type": "markdown",
   "metadata": {},
   "source": [
    "## Query to return min/max in 'population' and 'population_growth' while excluding Antartica and World"
   ]
  },
  {
   "cell_type": "code",
   "execution_count": 8,
   "metadata": {
    "tags": []
   },
   "outputs": [
    {
     "output_type": "stream",
     "name": "stdout",
     "text": "* sqlite:///factbook.db\nDone.\n"
    },
    {
     "output_type": "execute_result",
     "data": {
      "text/plain": "[(48, 1367485388, 0.0, 4.02)]",
      "text/html": "<table>\n    <tr>\n        <th>MIN(population)</th>\n        <th>MAX(population)</th>\n        <th>MIN(population_growth)</th>\n        <th>MAX(population_growth)</th>\n    </tr>\n    <tr>\n        <td>48</td>\n        <td>1367485388</td>\n        <td>0.0</td>\n        <td>4.02</td>\n    </tr>\n</table>"
     },
     "metadata": {},
     "execution_count": 8
    }
   ],
   "source": [
    "%%sql\n",
    "SELECT MIN(population), MAX(population), MIN(population_growth), MAX(population_growth)\n",
    "  FROM facts\n",
    " WHERE name != 'Antarctica'\n",
    "   AND name != 'World';"
   ]
  },
  {
   "cell_type": "markdown",
   "metadata": {},
   "source": [
    "## Query to return average of 'population' and 'area', again excluding Antartica and World"
   ]
  },
  {
   "cell_type": "code",
   "execution_count": 9,
   "metadata": {
    "tags": []
   },
   "outputs": [
    {
     "output_type": "stream",
     "name": "stdout",
     "text": "* sqlite:///factbook.db\nDone.\n"
    },
    {
     "output_type": "execute_result",
     "data": {
      "text/plain": "[(32377011.0125, 555093.546184739)]",
      "text/html": "<table>\n    <tr>\n        <th>AVG(population)</th>\n        <th>AVG(area)</th>\n    </tr>\n    <tr>\n        <td>32377011.0125</td>\n        <td>555093.546184739</td>\n    </tr>\n</table>"
     },
     "metadata": {},
     "execution_count": 9
    }
   ],
   "source": [
    "%%sql\n",
    "SELECT AVG(population), AVG(area)\n",
    "  FROM facts\n",
    " WHERE name != 'Antarctica'\n",
    "   AND name != 'World';"
   ]
  },
  {
   "cell_type": "markdown",
   "metadata": {},
   "source": [
    "## Query to find countries whose populations are above average and areas are below average"
   ]
  },
  {
   "cell_type": "code",
   "execution_count": 10,
   "metadata": {
    "tags": []
   },
   "outputs": [
    {
     "output_type": "stream",
     "name": "stdout",
     "text": "* sqlite:///factbook.db\nDone.\n"
    },
    {
     "output_type": "execute_result",
     "data": {
      "text/plain": "[('Bangladesh',),\n ('Germany',),\n ('Iraq',),\n ('Italy',),\n ('Japan',),\n ('Korea, South',),\n ('Morocco',),\n ('Philippines',),\n ('Poland',),\n ('Spain',),\n ('Thailand',),\n ('Uganda',),\n ('United Kingdom',),\n ('Vietnam',)]",
      "text/html": "<table>\n    <tr>\n        <th>name</th>\n    </tr>\n    <tr>\n        <td>Bangladesh</td>\n    </tr>\n    <tr>\n        <td>Germany</td>\n    </tr>\n    <tr>\n        <td>Iraq</td>\n    </tr>\n    <tr>\n        <td>Italy</td>\n    </tr>\n    <tr>\n        <td>Japan</td>\n    </tr>\n    <tr>\n        <td>Korea, South</td>\n    </tr>\n    <tr>\n        <td>Morocco</td>\n    </tr>\n    <tr>\n        <td>Philippines</td>\n    </tr>\n    <tr>\n        <td>Poland</td>\n    </tr>\n    <tr>\n        <td>Spain</td>\n    </tr>\n    <tr>\n        <td>Thailand</td>\n    </tr>\n    <tr>\n        <td>Uganda</td>\n    </tr>\n    <tr>\n        <td>United Kingdom</td>\n    </tr>\n    <tr>\n        <td>Vietnam</td>\n    </tr>\n</table>"
     },
     "metadata": {},
     "execution_count": 10
    }
   ],
   "source": [
    "%%sql\n",
    "SELECT name\n",
    "  FROM facts\n",
    " WHERE population > (SELECT AVG(population)\n",
    "                       FROM facts\n",
    "                      WHERE name != 'Antarctica'\n",
    "                        AND name != 'World'\n",
    "                    )\n",
    "   AND area < (SELECT AVG(area)\n",
    "                 FROM facts\n",
    "                WHERE name != 'Antarctica'\n",
    "                  AND name != 'World'\n",
    "              );"
   ]
  }
 ],
 "metadata": {
  "kernelspec": {
   "display_name": "Python 3.8.3 64-bit ('training': conda)",
   "language": "python",
   "name": "python38364bittrainingconda407a1c18241e4175b412d3f55a5d7d76"
  },
  "language_info": {
   "codemirror_mode": {
    "name": "ipython",
    "version": 3
   },
   "file_extension": ".py",
   "mimetype": "text/x-python",
   "name": "python",
   "nbconvert_exporter": "python",
   "pygments_lexer": "ipython3",
   "version": "3.8.3-final"
  }
 },
 "nbformat": 4,
 "nbformat_minor": 2
}